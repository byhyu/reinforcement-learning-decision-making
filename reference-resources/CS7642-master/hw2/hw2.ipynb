{
 "cells": [
  {
   "cell_type": "code",
   "execution_count": 1,
   "metadata": {
    "collapsed": true
   },
   "outputs": [],
   "source": [
    "import numpy as np\n",
    "from sympy.solvers import solve\n",
    "from sympy import Symbol\n",
    "from scipy.optimize import fsolve\n",
    "import math"
   ]
  },
  {
   "cell_type": "code",
   "execution_count": 2,
   "metadata": {
    "collapsed": true
   },
   "outputs": [],
   "source": [
    "p0 = 0.5\n",
    "# sigma = 1"
   ]
  },
  {
   "cell_type": "code",
   "execution_count": 3,
   "metadata": {
    "collapsed": true
   },
   "outputs": [],
   "source": [
    "valueEstimates = np.array([0,3,8,2,1,2,0])\n",
    "rewards = np.array([0,0,0,4,1,1,1])"
   ]
  },
  {
   "cell_type": "code",
   "execution_count": 4,
   "metadata": {
    "collapsed": true
   },
   "outputs": [],
   "source": [
    "value_route_1 = np.copy(valueEstimates)\n",
    "value_route_1 = np.delete(value_route_1, 2)\n",
    "value_route_2 = np.copy(valueEstimates)\n",
    "value_route_2 = np.delete(value_route_2, 1)\n",
    "value_routes = np.vstack((value_route_1, value_route_2))"
   ]
  },
  {
   "cell_type": "code",
   "execution_count": 5,
   "metadata": {
    "collapsed": true
   },
   "outputs": [],
   "source": [
    "reward_route_1 = np.copy(rewards)\n",
    "reward_route_1 = np.delete(reward_route_1,[1,3])\n",
    "reward_route_2 = np.copy(rewards)\n",
    "reward_route_2 = np.delete(reward_route_2,[0,2])\n",
    "reward_routes = np.vstack((reward_route_1, reward_route_2))"
   ]
  },
  {
   "cell_type": "code",
   "execution_count": 6,
   "metadata": {},
   "outputs": [
    {
     "data": {
      "text/plain": [
       "array([[0, 0, 1, 1, 1],\n",
       "       [0, 4, 1, 1, 1]])"
      ]
     },
     "execution_count": 6,
     "metadata": {},
     "output_type": "execute_result"
    }
   ],
   "source": [
    "reward_routes"
   ]
  },
  {
   "cell_type": "code",
   "execution_count": 7,
   "metadata": {},
   "outputs": [
    {
     "data": {
      "text/plain": [
       "array([[0, 3, 2, 1, 2, 0],\n",
       "       [0, 8, 2, 1, 2, 0]])"
      ]
     },
     "execution_count": 7,
     "metadata": {},
     "output_type": "execute_result"
    }
   ],
   "source": [
    "value_routes"
   ]
  },
  {
   "cell_type": "code",
   "execution_count": 8,
   "metadata": {},
   "outputs": [
    {
     "data": {
      "text/plain": [
       "array([[ 0.5,  0.5]])"
      ]
     },
     "execution_count": 8,
     "metadata": {},
     "output_type": "execute_result"
    }
   ],
   "source": [
    "transit_prob = np.array([[p0, 1-p0]])\n",
    "transit_prob"
   ]
  },
  {
   "cell_type": "code",
   "execution_count": 9,
   "metadata": {},
   "outputs": [
    {
     "data": {
      "text/plain": [
       "array([[0, 0, 1, 1, 1, 0],\n",
       "       [0, 4, 1, 1, 1, 0]])"
      ]
     },
     "execution_count": 9,
     "metadata": {},
     "output_type": "execute_result"
    }
   ],
   "source": [
    "M_5 = np.column_stack((reward_routes,value_routes[:,-1]))\n",
    "M_5"
   ]
  },
  {
   "cell_type": "code",
   "execution_count": 10,
   "metadata": {},
   "outputs": [
    {
     "data": {
      "text/plain": [
       "5.0"
      ]
     },
     "execution_count": 10,
     "metadata": {},
     "output_type": "execute_result"
    }
   ],
   "source": [
    "E_5 = np.sum(np.dot(transit_prob, M_5))\n",
    "E_5"
   ]
  },
  {
   "cell_type": "code",
   "execution_count": 11,
   "metadata": {},
   "outputs": [
    {
     "data": {
      "text/plain": [
       "array([[0, 0, 1, 1, 2],\n",
       "       [0, 4, 1, 1, 2]])"
      ]
     },
     "execution_count": 11,
     "metadata": {},
     "output_type": "execute_result"
    }
   ],
   "source": [
    "M_4 = np.column_stack((reward_routes[:,:4],value_routes[:,4]))\n",
    "M_4"
   ]
  },
  {
   "cell_type": "code",
   "execution_count": 12,
   "metadata": {},
   "outputs": [
    {
     "data": {
      "text/plain": [
       "6.0"
      ]
     },
     "execution_count": 12,
     "metadata": {},
     "output_type": "execute_result"
    }
   ],
   "source": [
    "E_4 = np.sum(np.dot(transit_prob, M_4))\n",
    "E_4"
   ]
  },
  {
   "cell_type": "code",
   "execution_count": 13,
   "metadata": {},
   "outputs": [
    {
     "data": {
      "text/plain": [
       "array([[0, 0, 1, 1],\n",
       "       [0, 4, 1, 1]])"
      ]
     },
     "execution_count": 13,
     "metadata": {},
     "output_type": "execute_result"
    }
   ],
   "source": [
    "M_3 = np.column_stack((reward_routes[:,:3],value_routes[:,3]))\n",
    "M_3"
   ]
  },
  {
   "cell_type": "code",
   "execution_count": 14,
   "metadata": {},
   "outputs": [
    {
     "data": {
      "text/plain": [
       "4.0"
      ]
     },
     "execution_count": 14,
     "metadata": {},
     "output_type": "execute_result"
    }
   ],
   "source": [
    "E_3 = np.sum(np.dot(transit_prob, M_3))\n",
    "E_3"
   ]
  },
  {
   "cell_type": "code",
   "execution_count": 15,
   "metadata": {},
   "outputs": [
    {
     "data": {
      "text/plain": [
       "array([[0, 0, 2],\n",
       "       [0, 4, 2]])"
      ]
     },
     "execution_count": 15,
     "metadata": {},
     "output_type": "execute_result"
    }
   ],
   "source": [
    "M_2 = np.column_stack((reward_routes[:,:2],value_routes[:,2]))\n",
    "M_2\n"
   ]
  },
  {
   "cell_type": "code",
   "execution_count": 16,
   "metadata": {},
   "outputs": [
    {
     "data": {
      "text/plain": [
       "4.0"
      ]
     },
     "execution_count": 16,
     "metadata": {},
     "output_type": "execute_result"
    }
   ],
   "source": [
    "E_2 = np.sum(np.dot(transit_prob, M_2))\n",
    "E_2"
   ]
  },
  {
   "cell_type": "code",
   "execution_count": 17,
   "metadata": {},
   "outputs": [
    {
     "data": {
      "text/plain": [
       "array([[0, 3],\n",
       "       [0, 8]])"
      ]
     },
     "execution_count": 17,
     "metadata": {},
     "output_type": "execute_result"
    }
   ],
   "source": [
    "M_1 = np.column_stack((reward_routes[:,:1],value_routes[:,1]))\n",
    "M_1"
   ]
  },
  {
   "cell_type": "code",
   "execution_count": 18,
   "metadata": {},
   "outputs": [
    {
     "data": {
      "text/plain": [
       "5.5"
      ]
     },
     "execution_count": 18,
     "metadata": {},
     "output_type": "execute_result"
    }
   ],
   "source": [
    "E_1 = np.sum(np.dot(transit_prob, M_1))\n",
    "E_1"
   ]
  },
  {
   "cell_type": "code",
   "execution_count": 19,
   "metadata": {
    "collapsed": true
   },
   "outputs": [],
   "source": [
    "TD_0, TD_1 = E_1, E_5"
   ]
  },
  {
   "cell_type": "code",
   "execution_count": 20,
   "metadata": {
    "scrolled": true
   },
   "outputs": [
    {
     "name": "stdout",
     "output_type": "stream",
     "text": [
      "5.5 4.0 4.0 6.0 5.0\n"
     ]
    }
   ],
   "source": [
    "print(E_1, E_2,E_3, E_4, E_5)"
   ]
  },
  {
   "cell_type": "code",
   "execution_count": 21,
   "metadata": {
    "scrolled": false
   },
   "outputs": [
    {
     "data": {
      "text/plain": [
       "[1.00000000000000,\n",
       " -0.854637679718461 + 0.e-21*I,\n",
       " 0.403031716762685 + 0.e-20*I,\n",
       " 1.45160596295578 + 0.e-21*I]"
      ]
     },
     "execution_count": 21,
     "metadata": {},
     "output_type": "execute_result"
    }
   ],
   "source": [
    "lamb = Symbol('lamb')\n",
    "solve((1-lamb)*E_1 + lamb*(1-lamb)*E_2 + (lamb**2)*(1-lamb)*E_3 + (lamb**3)*(1-lamb)*E_4+ (lamb**4)*E_5 - E_5, lamb)"
   ]
  },
  {
   "cell_type": "code",
   "execution_count": null,
   "metadata": {
    "collapsed": true
   },
   "outputs": [],
   "source": []
  },
  {
   "cell_type": "code",
   "execution_count": 22,
   "metadata": {
    "scrolled": true
   },
   "outputs": [
    {
     "data": {
      "text/plain": [
       "[1.00000000000000,\n",
       " -0.854637679718461 + 0.e-21*I,\n",
       " 0.403031716762685 + 0.e-20*I,\n",
       " 1.45160596295578 + 0.e-21*I]"
      ]
     },
     "execution_count": 22,
     "metadata": {},
     "output_type": "execute_result"
    }
   ],
   "source": [
    "solve(5.5-1.5*lamb+2*(lamb**3)-(lamb**4)-5,lamb)"
   ]
  },
  {
   "cell_type": "code",
   "execution_count": null,
   "metadata": {
    "collapsed": true
   },
   "outputs": [],
   "source": []
  },
  {
   "cell_type": "code",
   "execution_count": 23,
   "metadata": {},
   "outputs": [
    {
     "data": {
      "text/plain": [
       "array([ 0.40303172])"
      ]
     },
     "execution_count": 23,
     "metadata": {},
     "output_type": "execute_result"
    }
   ],
   "source": [
    "def f(z):\n",
    "    return 5.5-1.5*z+2*(z**3)-(z**4)-5\n",
    "\n",
    "fsolve(f,0)"
   ]
  },
  {
   "cell_type": "code",
   "execution_count": 24,
   "metadata": {
    "collapsed": true
   },
   "outputs": [],
   "source": [
    "# probability of going from state 0 to state 1\n",
    "p0  = 0.5\n",
    "# sigma = 1 as defined in the question"
   ]
  },
  {
   "cell_type": "code",
   "execution_count": 25,
   "metadata": {
    "collapsed": true
   },
   "outputs": [],
   "source": [
    "# valueEstimates = np.array([0.0,4.0,25.7,0.0,20.1,12.2,0.0])\n",
    "# rewards = np.array([7.9,-5.1,2.5,-7.2,9.0,0.0,1.6])\n",
    "\n",
    "# valueEstimates = np.array([0.0,-5.2,0.0,25.4,10.6,9.2,12.3])\n",
    "# rewards = np.array([-2.4,0.8,4.0,2.5,8.6,-6.4,6.1])\n",
    "\n",
    "# valueEstimates = np.array([0.0,4.9,7.8,-2.3,25.5,-10.2,-6.5])\n",
    "# rewards = np.array([-2.4,9.6,-7.8,0.1,3.4,-2.1,7.9])\n",
    "\n",
    "valueEstimates = np.array([0,3,8,2,1,2,0])\n",
    "rewards = np.array([0,0,0,4,1,1,1])\n",
    "\n",
    "# valueEstimates = np.array([0.0,-2.8,-0.3,4.5,0.3,0,17.3])\n",
    "# rewards = np.array([5.0,5.3,6,-0.5,-1.7,2.4,-0.1])\n",
    "\n",
    "# valueEstimates = np.array([0.0,1.6,19.4,5.2,0,-4,12.7])\n",
    "# rewards = np.array([0.0,3.2,-2.9,-1.2,-3.4,8.1,7.0])\n",
    "\n",
    "# valueEstimates = np.array([0.0,0,23.7,22.9,-4.9,12.6,16.6])\n",
    "# rewards = np.array([-1.4,0,-0.1,8.3,-1,5.3,5.5])\n",
    "\n",
    "# valueEstimates = np.array([0.0,0.3,0,10.7,1.7,9.9,0.0])\n",
    "# rewards = np.array([6.4,2.2,1.8,9.1,-1.9,1.9,-5.0])\n",
    "\n",
    "# valueEstimates = np.array([0.0,0,0,6,22,0,22.3])\n",
    "# rewards = np.array([6.0,9.8,-2.4,-0.5,0.4,2.1,0.3])\n",
    "\n",
    "# valueEstimates = np.array([0.0,0,1.6,14.7,2.2,5.3,0.0])\n",
    "# rewards = np.array([-5.0,-3.8,5.1,3.8,6.1,1.1,-3.4])\n",
    "\n",
    "# valueEstimates = np.array([0.0,-3.3,10.7,21.8,6.9,20.7,4.4])\n",
    "# rewards = np.array([9.9,7.4,0,9.2,3.1,9.1,-2.5])\n",
    "\n",
    "# valueEstimates = np.array([0.0,0,20,21.9,0,0,1.9])\n",
    "# rewards = np.array([-0.5,5,5,1.2,4.6,0,-1.4])\n",
    "\n",
    "# valueEstimates = np.array([0.0,0,3.8,25,0,20.5,16.9])\n",
    "# rewards = np.array([6.5,3.1,-0.6,1.6,0,9.3,-1.0])\n",
    "\n",
    "# valueEstimates = np.array([0.0,-1.1,0,23.2,12.8,0,21.9])\n",
    "# rewards = np.array([1.0,4.5,0,2.8,3.5,2.5,1.2])"
   ]
  },
  {
   "cell_type": "code",
   "execution_count": 26,
   "metadata": {
    "collapsed": true
   },
   "outputs": [],
   "source": [
    "# construct 2d numpy array for the values (stochastic)\n",
    "value_route_1 = np.copy(valueEstimates)\n",
    "value_route_1 = np.delete(value_route_1, 2)\n",
    "value_route_2 = np.copy(valueEstimates)\n",
    "value_route_2 = np.delete(value_route_2, 1)\n",
    "value_routes = np.vstack((value_route_1, value_route_2))"
   ]
  },
  {
   "cell_type": "code",
   "execution_count": 27,
   "metadata": {
    "collapsed": true
   },
   "outputs": [],
   "source": [
    "# construct 2d numpy array for the rewards (stochastic)\n",
    "reward_route_1 = np.copy(rewards)\n",
    "reward_route_1 = np.delete(reward_route_1,[1,3])\n",
    "reward_route_2 = np.copy(rewards)\n",
    "reward_route_2 = np.delete(reward_route_2,[0,2])\n",
    "reward_routes = np.vstack((reward_route_1, reward_route_2))"
   ]
  },
  {
   "cell_type": "code",
   "execution_count": 28,
   "metadata": {},
   "outputs": [
    {
     "data": {
      "text/plain": [
       "array([[0, 0, 1, 1, 1],\n",
       "       [0, 4, 1, 1, 1]])"
      ]
     },
     "execution_count": 28,
     "metadata": {},
     "output_type": "execute_result"
    }
   ],
   "source": [
    "reward_routes"
   ]
  },
  {
   "cell_type": "code",
   "execution_count": 29,
   "metadata": {},
   "outputs": [
    {
     "data": {
      "text/plain": [
       "array([[0, 3, 2, 1, 2, 0],\n",
       "       [0, 8, 2, 1, 2, 0]])"
      ]
     },
     "execution_count": 29,
     "metadata": {},
     "output_type": "execute_result"
    }
   ],
   "source": [
    "value_routes"
   ]
  },
  {
   "cell_type": "code",
   "execution_count": 30,
   "metadata": {},
   "outputs": [
    {
     "data": {
      "text/plain": [
       "array([[ 0.5,  0.5]])"
      ]
     },
     "execution_count": 30,
     "metadata": {},
     "output_type": "execute_result"
    }
   ],
   "source": [
    "# transition probability vector\n",
    "transit_prob = np.array([[p0, 1-p0]])\n",
    "transit_prob"
   ]
  },
  {
   "cell_type": "code",
   "execution_count": 31,
   "metadata": {
    "collapsed": true
   },
   "outputs": [],
   "source": [
    "# reward matrix for conventional return\n",
    "M_r = reward_routes"
   ]
  },
  {
   "cell_type": "code",
   "execution_count": 32,
   "metadata": {},
   "outputs": [
    {
     "data": {
      "text/plain": [
       "5.0"
      ]
     },
     "execution_count": 32,
     "metadata": {},
     "output_type": "execute_result"
    }
   ],
   "source": [
    "# reward matrix for conventional return\n",
    "E_r = np.sum(np.dot(transit_prob, M_r))\n",
    "E_r"
   ]
  },
  {
   "cell_type": "code",
   "execution_count": 33,
   "metadata": {},
   "outputs": [
    {
     "data": {
      "text/plain": [
       "array([[0, 0, 1, 1, 1, 0],\n",
       "       [0, 4, 1, 1, 1, 0]])"
      ]
     },
     "execution_count": 33,
     "metadata": {},
     "output_type": "execute_result"
    }
   ],
   "source": [
    "# step 5 estimator\n",
    "M_5 = np.column_stack((reward_routes,value_routes[:,-1]))\n",
    "M_5"
   ]
  },
  {
   "cell_type": "code",
   "execution_count": 34,
   "metadata": {},
   "outputs": [
    {
     "data": {
      "text/plain": [
       "5.0"
      ]
     },
     "execution_count": 34,
     "metadata": {},
     "output_type": "execute_result"
    }
   ],
   "source": [
    "E_5 = np.sum(np.dot(transit_prob, M_5))\n",
    "E_5"
   ]
  },
  {
   "cell_type": "code",
   "execution_count": 35,
   "metadata": {},
   "outputs": [
    {
     "data": {
      "text/plain": [
       "array([[0, 0, 1, 1, 2],\n",
       "       [0, 4, 1, 1, 2]])"
      ]
     },
     "execution_count": 35,
     "metadata": {},
     "output_type": "execute_result"
    }
   ],
   "source": [
    "# step 4 estimator\n",
    "M_4 = np.column_stack((reward_routes[:,:4],value_routes[:,4]))\n",
    "M_4"
   ]
  },
  {
   "cell_type": "code",
   "execution_count": 36,
   "metadata": {},
   "outputs": [
    {
     "data": {
      "text/plain": [
       "6.0"
      ]
     },
     "execution_count": 36,
     "metadata": {},
     "output_type": "execute_result"
    }
   ],
   "source": [
    "E_4 = np.sum(np.dot(transit_prob, M_4))\n",
    "E_4"
   ]
  },
  {
   "cell_type": "code",
   "execution_count": 37,
   "metadata": {},
   "outputs": [
    {
     "data": {
      "text/plain": [
       "array([[0, 0, 1, 1],\n",
       "       [0, 4, 1, 1]])"
      ]
     },
     "execution_count": 37,
     "metadata": {},
     "output_type": "execute_result"
    }
   ],
   "source": [
    "# step 3 estimator\n",
    "M_3 = np.column_stack((reward_routes[:,:3],value_routes[:,3]))\n",
    "M_3"
   ]
  },
  {
   "cell_type": "code",
   "execution_count": 38,
   "metadata": {},
   "outputs": [
    {
     "data": {
      "text/plain": [
       "4.0"
      ]
     },
     "execution_count": 38,
     "metadata": {},
     "output_type": "execute_result"
    }
   ],
   "source": [
    "E_3 = np.sum(np.dot(transit_prob, M_3))\n",
    "E_3"
   ]
  },
  {
   "cell_type": "code",
   "execution_count": 39,
   "metadata": {},
   "outputs": [
    {
     "data": {
      "text/plain": [
       "array([[0, 0, 2],\n",
       "       [0, 4, 2]])"
      ]
     },
     "execution_count": 39,
     "metadata": {},
     "output_type": "execute_result"
    }
   ],
   "source": [
    "# step 2 estimator\n",
    "M_2 = np.column_stack((reward_routes[:,:2],value_routes[:,2]))\n",
    "M_2\n"
   ]
  },
  {
   "cell_type": "code",
   "execution_count": 40,
   "metadata": {},
   "outputs": [
    {
     "data": {
      "text/plain": [
       "4.0"
      ]
     },
     "execution_count": 40,
     "metadata": {},
     "output_type": "execute_result"
    }
   ],
   "source": [
    "E_2 = np.sum(np.dot(transit_prob, M_2))\n",
    "E_2"
   ]
  },
  {
   "cell_type": "code",
   "execution_count": 41,
   "metadata": {},
   "outputs": [
    {
     "data": {
      "text/plain": [
       "array([[0, 3],\n",
       "       [0, 8]])"
      ]
     },
     "execution_count": 41,
     "metadata": {},
     "output_type": "execute_result"
    }
   ],
   "source": [
    "# step 1 estimator\n",
    "M_1 = np.column_stack((reward_routes[:,:1],value_routes[:,1]))\n",
    "M_1"
   ]
  },
  {
   "cell_type": "code",
   "execution_count": 42,
   "metadata": {},
   "outputs": [
    {
     "data": {
      "text/plain": [
       "5.5"
      ]
     },
     "execution_count": 42,
     "metadata": {},
     "output_type": "execute_result"
    }
   ],
   "source": [
    "E_1 = np.sum(np.dot(transit_prob, M_1))\n",
    "E_1"
   ]
  },
  {
   "cell_type": "code",
   "execution_count": 43,
   "metadata": {
    "collapsed": true
   },
   "outputs": [],
   "source": [
    "# TD_0 is one step estimator\n",
    "# TD_1 is the inifinity step estimator\n",
    "TD_0, TD_1 = E_1, E_r"
   ]
  },
  {
   "cell_type": "code",
   "execution_count": 44,
   "metadata": {
    "scrolled": true
   },
   "outputs": [
    {
     "name": "stdout",
     "output_type": "stream",
     "text": [
      "5.5 4.0 4.0 6.0 5.0 5.0 5.5 5.0\n"
     ]
    }
   ],
   "source": [
    "print(E_1, E_2,E_3,E_4,E_5, E_r, TD_0, TD_1)"
   ]
  },
  {
   "cell_type": "code",
   "execution_count": 45,
   "metadata": {
    "scrolled": false
   },
   "outputs": [
    {
     "data": {
      "text/plain": [
       "[1.00000000000000,\n",
       " -0.854637679718461 + 0.e-21*I,\n",
       " 0.403031716762685 + 0.e-20*I,\n",
       " 1.45160596295578 + 0.e-21*I]"
      ]
     },
     "execution_count": 45,
     "metadata": {},
     "output_type": "execute_result"
    }
   ],
   "source": [
    "# solving use sympy (preferred, can find multiple roots)\n",
    "lamb = Symbol('lamb')\n",
    "solve((1-lamb)*E_1 + lamb*(1-lamb)*E_2 + (lamb**2)*(1-lamb)*E_3 + (lamb**3)*(1-lamb)*E_4+ \n",
    "      (lamb**4)*(1-lamb)*E_5 + (lamb**5)*E_r - E_r , lamb)"
   ]
  },
  {
   "cell_type": "code",
   "execution_count": 46,
   "metadata": {},
   "outputs": [
    {
     "data": {
      "text/plain": [
       "array([ 0.40303172])"
      ]
     },
     "execution_count": 46,
     "metadata": {},
     "output_type": "execute_result"
    }
   ],
   "source": [
    "# solving use scipy.optimize\n",
    "def f(lamb):\n",
    "    return ((1-lamb)*E_1 + lamb*(1-lamb)*E_2 + (lamb**2)*(1-lamb)*E_3 + (lamb**3)*(1-lamb)*E_4+ \n",
    "      (lamb**4)*(1-lamb)*E_5 + (lamb**5)*E_r - E_r)\n",
    "\n",
    "fsolve(f,0)"
   ]
  },
  {
   "cell_type": "code",
   "execution_count": null,
   "metadata": {
    "collapsed": true
   },
   "outputs": [],
   "source": []
  }
 ],
 "metadata": {
  "kernelspec": {
   "display_name": "Python 3",
   "language": "python",
   "name": "python3"
  },
  "language_info": {
   "codemirror_mode": {
    "name": "ipython",
    "version": 3
   },
   "file_extension": ".py",
   "mimetype": "text/x-python",
   "name": "python",
   "nbconvert_exporter": "python",
   "pygments_lexer": "ipython3",
   "version": "3.6.3"
  }
 },
 "nbformat": 4,
 "nbformat_minor": 2
}
