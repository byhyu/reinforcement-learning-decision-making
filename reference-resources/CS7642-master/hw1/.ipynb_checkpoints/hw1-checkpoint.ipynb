{
 "cells": [
  {
   "cell_type": "code",
   "execution_count": 1,
   "metadata": {
    "collapsed": true
   },
   "outputs": [],
   "source": [
    "import mdptoolbox\n",
    "import numpy as np"
   ]
  },
  {
   "cell_type": "code",
   "execution_count": 2,
   "metadata": {},
   "outputs": [
    {
     "name": "stdout",
     "output_type": "stream",
     "text": [
      "(0, 1, 1, 0, 1)\n",
      "(3.1021779262212235, 3.7152970594035533, 3.7152970594035533, 3.732177926221223, 4.715297059403554)\n"
     ]
    }
   ],
   "source": [
    "# Example from TA on using mdptoolbox\n",
    "prob = np.zeros((2, 5, 5))\n",
    "\n",
    "prob[0] = [[0.3, 0.7, 0., 0., 0.],\n",
    "           [0.3, 0.0, 0.7, 0., 0.],\n",
    "           [0.3, 0.0, 0., 0.7, 0.],\n",
    "           [0.3, 0.0, 0., 0., 0.7],\n",
    "           [0.3, 0.0, 0., 0., 0.7]]\n",
    "\n",
    "prob[1] = [[1., 0., 0., 0., 0.],\n",
    "           [1., 0., 0., 0., 0.],\n",
    "           [1., 0., 0., 0., 0.],\n",
    "           [1., 0., 0., 0., 0.],\n",
    "           [1., 0., 0., 0., 0.]]\n",
    "\n",
    "rewards = np.zeros((5, 2))\n",
    "rewards[0] = [0., 0.]\n",
    "rewards[1] = [0., 1.]\n",
    "rewards[2] = [0., 1.]\n",
    "rewards[3] = [0., 1.]\n",
    "rewards[4] = [0.3, 2.]\n",
    "\n",
    "vi = mdptoolbox.mdp.ValueIteration(prob, rewards, 0.9)\n",
    "vi.run()\n",
    "\n",
    "optimal_policy = vi.policy\n",
    "expected_values = vi.V\n",
    "\n",
    "print(optimal_policy)\n",
    "print(expected_values)"
   ]
  },
  {
   "cell_type": "code",
   "execution_count": 3,
   "metadata": {
    "collapsed": true
   },
   "outputs": [],
   "source": [
    "# Manual Create transition matrix for case \n",
    "# Input: N = 6, isBadSide = {1,1,1,0,0,0}, Output: 2.5833"
   ]
  },
  {
   "cell_type": "code",
   "execution_count": 4,
   "metadata": {
    "collapsed": true
   },
   "outputs": [],
   "source": [
    "prob = np.zeros((2, 16, 16))"
   ]
  },
  {
   "cell_type": "code",
   "execution_count": 5,
   "metadata": {
    "collapsed": true
   },
   "outputs": [],
   "source": [
    "# Action 0 defined as rolling the die\n",
    "# Action 1 defined as quit the game\n",
    "\n",
    "prob[0][1][5:8] = 1/6.0\n",
    "\n",
    "prob[0][5][9:12] = 1/6.0\n",
    "prob[0][6][10:13] = 1/6.0\n",
    "prob[0][7][11:14] = 1/6.0\n",
    "\n",
    "prob[0][9][13:16] = 1/6.0\n",
    "prob[0][10][14:16] = 1/6.0\n",
    "prob[0][11][15:16] = 1/6.0\n",
    "\n",
    "for i in range(0,16):\n",
    "    prob[0][i][0] = 1 - np.sum(prob[0][i])\n"
   ]
  },
  {
   "cell_type": "code",
   "execution_count": 6,
   "metadata": {},
   "outputs": [
    {
     "data": {
      "text/plain": [
       "array([ 1.,  1.,  1.,  1.,  1.,  1.,  1.,  1.,  1.,  1.,  1.,  1.,  1.,\n",
       "        1.,  1.,  1.])"
      ]
     },
     "execution_count": 6,
     "metadata": {},
     "output_type": "execute_result"
    }
   ],
   "source": [
    "# check row sum equals 1 (requirement of mdptoolbox)\n",
    "np.sum(prob[0],axis = 1)"
   ]
  },
  {
   "cell_type": "code",
   "execution_count": 7,
   "metadata": {},
   "outputs": [
    {
     "data": {
      "text/plain": [
       "array([[ 1.,  0.,  0.,  0.,  0.,  0.,  0.,  0.,  0.,  0.,  0.,  0.,  0.,\n",
       "         0.,  0.,  0.],\n",
       "       [ 1.,  0.,  0.,  0.,  0.,  0.,  0.,  0.,  0.,  0.,  0.,  0.,  0.,\n",
       "         0.,  0.,  0.],\n",
       "       [ 1.,  0.,  0.,  0.,  0.,  0.,  0.,  0.,  0.,  0.,  0.,  0.,  0.,\n",
       "         0.,  0.,  0.],\n",
       "       [ 1.,  0.,  0.,  0.,  0.,  0.,  0.,  0.,  0.,  0.,  0.,  0.,  0.,\n",
       "         0.,  0.,  0.],\n",
       "       [ 1.,  0.,  0.,  0.,  0.,  0.,  0.,  0.,  0.,  0.,  0.,  0.,  0.,\n",
       "         0.,  0.,  0.],\n",
       "       [ 1.,  0.,  0.,  0.,  0.,  0.,  0.,  0.,  0.,  0.,  0.,  0.,  0.,\n",
       "         0.,  0.,  0.],\n",
       "       [ 1.,  0.,  0.,  0.,  0.,  0.,  0.,  0.,  0.,  0.,  0.,  0.,  0.,\n",
       "         0.,  0.,  0.],\n",
       "       [ 1.,  0.,  0.,  0.,  0.,  0.,  0.,  0.,  0.,  0.,  0.,  0.,  0.,\n",
       "         0.,  0.,  0.],\n",
       "       [ 1.,  0.,  0.,  0.,  0.,  0.,  0.,  0.,  0.,  0.,  0.,  0.,  0.,\n",
       "         0.,  0.,  0.],\n",
       "       [ 1.,  0.,  0.,  0.,  0.,  0.,  0.,  0.,  0.,  0.,  0.,  0.,  0.,\n",
       "         0.,  0.,  0.],\n",
       "       [ 1.,  0.,  0.,  0.,  0.,  0.,  0.,  0.,  0.,  0.,  0.,  0.,  0.,\n",
       "         0.,  0.,  0.],\n",
       "       [ 1.,  0.,  0.,  0.,  0.,  0.,  0.,  0.,  0.,  0.,  0.,  0.,  0.,\n",
       "         0.,  0.,  0.],\n",
       "       [ 1.,  0.,  0.,  0.,  0.,  0.,  0.,  0.,  0.,  0.,  0.,  0.,  0.,\n",
       "         0.,  0.,  0.],\n",
       "       [ 1.,  0.,  0.,  0.,  0.,  0.,  0.,  0.,  0.,  0.,  0.,  0.,  0.,\n",
       "         0.,  0.,  0.],\n",
       "       [ 1.,  0.,  0.,  0.,  0.,  0.,  0.,  0.,  0.,  0.,  0.,  0.,  0.,\n",
       "         0.,  0.,  0.],\n",
       "       [ 1.,  0.,  0.,  0.,  0.,  0.,  0.,  0.,  0.,  0.,  0.,  0.,  0.,\n",
       "         0.,  0.,  0.]])"
      ]
     },
     "execution_count": 7,
     "metadata": {},
     "output_type": "execute_result"
    }
   ],
   "source": [
    "# transition probability for quit the game\n",
    "# all state with determinstic proability of going to terminal state (column 0, first column)\n",
    "prob[1][:,0] = 1.0\n",
    "prob[1]"
   ]
  },
  {
   "cell_type": "code",
   "execution_count": 8,
   "metadata": {},
   "outputs": [
    {
     "data": {
      "text/plain": [
       "array([[  0.,   0.],\n",
       "       [  0.,   0.],\n",
       "       [  0.,   1.],\n",
       "       [  0.,   2.],\n",
       "       [  0.,   3.],\n",
       "       [  0.,   4.],\n",
       "       [  0.,   5.],\n",
       "       [  0.,   6.],\n",
       "       [  0.,   7.],\n",
       "       [  0.,   8.],\n",
       "       [  0.,   9.],\n",
       "       [  0.,  10.],\n",
       "       [  0.,  11.],\n",
       "       [  0.,  12.],\n",
       "       [  0.,  13.],\n",
       "       [  0.,  14.]])"
      ]
     },
     "execution_count": 8,
     "metadata": {},
     "output_type": "execute_result"
    }
   ],
   "source": [
    "# Get reward only take action of quit (withdraw the current bankroll)\n",
    "rewards = np.zeros((16,2))\n",
    "\n",
    "rewards[:,0] = 0\n",
    "for i in range(1,16):\n",
    "    rewards[i,1] = i - 1\n",
    "\n",
    "rewards"
   ]
  },
  {
   "cell_type": "code",
   "execution_count": 9,
   "metadata": {},
   "outputs": [
    {
     "name": "stdout",
     "output_type": "stream",
     "text": [
      "(2, 16, 16)\n",
      "(16, 2)\n"
     ]
    },
    {
     "data": {
      "text/plain": [
       "array([  0.00000000e+00,   0.00000000e+00,   0.00000000e+00,\n",
       "         0.00000000e+00,   0.00000000e+00,   0.00000000e+00,\n",
       "        -1.11022302e-16,   0.00000000e+00,   0.00000000e+00,\n",
       "         0.00000000e+00,   0.00000000e+00,   0.00000000e+00,\n",
       "         0.00000000e+00,   0.00000000e+00,   0.00000000e+00,\n",
       "         0.00000000e+00])"
      ]
     },
     "execution_count": 9,
     "metadata": {},
     "output_type": "execute_result"
    }
   ],
   "source": [
    "# get the shape of Transition matrix P and Reward matrix R\n",
    "print(prob.shape)\n",
    "print(rewards.shape)\n",
    "np.sum(prob[0],axis=1) - 1"
   ]
  },
  {
   "cell_type": "code",
   "execution_count": 10,
   "metadata": {},
   "outputs": [
    {
     "name": "stdout",
     "output_type": "stream",
     "text": [
      "WARNING: check conditions of convergence. With no discount, convergence can not be assumed.\n",
      "(0, 0, 1, 1, 1, 0, 0, 1, 1, 1, 1, 1, 1, 1, 1, 1)\n",
      "(0.0, 2.583333333333333, 1.0, 2.0, 3.0, 4.5, 5.0, 6.0, 7.0, 8.0, 9.0, 10.0, 11.0, 12.0, 13.0, 14.0)\n"
     ]
    }
   ],
   "source": [
    "# calling value iteration, 1.0 is the discount rate defined in the quesiton\n",
    "vi = mdptoolbox.mdp.ValueIteration(prob, rewards, 1.0)\n",
    "vi.run()\n",
    "\n",
    "optimal_policy = vi.policy\n",
    "expected_values = vi.V\n",
    "\n",
    "print(optimal_policy)\n",
    "print(expected_values)\n",
    "\n",
    "# Input: N = 6, isBadSide = {1,1,1,0,0,0}, Output: 2.5833"
   ]
  },
  {
   "cell_type": "code",
   "execution_count": null,
   "metadata": {},
   "outputs": [],
   "source": []
  },
  {
   "cell_type": "code",
   "execution_count": 11,
   "metadata": {},
   "outputs": [
    {
     "data": {
      "text/plain": [
       "22"
      ]
     },
     "execution_count": 11,
     "metadata": {},
     "output_type": "execute_result"
    }
   ],
   "source": [
    "# Define N, x\n",
    "# N is the number of side for the Die\n",
    "# X is the defined upper bound of the value, empirically derived to be 2N+2\n",
    "# state is defined as current bankroll from 0 to 2N+2\n",
    "# one additional state (first column) as the terminal state\n",
    "N = 9\n",
    "x = N*2 + 2 + 2\n",
    "x"
   ]
  },
  {
   "cell_type": "code",
   "execution_count": 12,
   "metadata": {},
   "outputs": [
    {
     "data": {
      "text/plain": [
       "array([[  0.,   0.],\n",
       "       [  0.,   0.],\n",
       "       [  0.,   1.],\n",
       "       [  0.,   2.],\n",
       "       [  0.,   3.],\n",
       "       [  0.,   4.],\n",
       "       [  0.,   5.],\n",
       "       [  0.,   6.],\n",
       "       [  0.,   7.],\n",
       "       [  0.,   8.],\n",
       "       [  0.,   9.],\n",
       "       [  0.,  10.],\n",
       "       [  0.,  11.],\n",
       "       [  0.,  12.],\n",
       "       [  0.,  13.],\n",
       "       [  0.,  14.],\n",
       "       [  0.,  15.],\n",
       "       [  0.,  16.],\n",
       "       [  0.,  17.],\n",
       "       [  0.,  18.],\n",
       "       [  0.,  19.],\n",
       "       [  0.,  20.]])"
      ]
     },
     "execution_count": 12,
     "metadata": {},
     "output_type": "execute_result"
    }
   ],
   "source": [
    "# Get reward only take action of quit (withdraw the current bankroll)\n",
    "rewards = np.zeros((x,2))\n",
    "\n",
    "rewards[:,0] = 0\n",
    "for i in range(1,x):\n",
    "    rewards[i,1] = i - 1\n",
    "\n",
    "rewards"
   ]
  },
  {
   "cell_type": "code",
   "execution_count": 13,
   "metadata": {},
   "outputs": [
    {
     "data": {
      "text/plain": [
       "array([[ 1.,  0.,  0.,  0.,  0.,  0.,  0.,  0.,  0.,  0.,  0.,  0.,  0.,\n",
       "         0.,  0.,  0.,  0.,  0.,  0.,  0.,  0.,  0.],\n",
       "       [ 1.,  0.,  0.,  0.,  0.,  0.,  0.,  0.,  0.,  0.,  0.,  0.,  0.,\n",
       "         0.,  0.,  0.,  0.,  0.,  0.,  0.,  0.,  0.],\n",
       "       [ 1.,  0.,  0.,  0.,  0.,  0.,  0.,  0.,  0.,  0.,  0.,  0.,  0.,\n",
       "         0.,  0.,  0.,  0.,  0.,  0.,  0.,  0.,  0.],\n",
       "       [ 1.,  0.,  0.,  0.,  0.,  0.,  0.,  0.,  0.,  0.,  0.,  0.,  0.,\n",
       "         0.,  0.,  0.,  0.,  0.,  0.,  0.,  0.,  0.],\n",
       "       [ 1.,  0.,  0.,  0.,  0.,  0.,  0.,  0.,  0.,  0.,  0.,  0.,  0.,\n",
       "         0.,  0.,  0.,  0.,  0.,  0.,  0.,  0.,  0.],\n",
       "       [ 1.,  0.,  0.,  0.,  0.,  0.,  0.,  0.,  0.,  0.,  0.,  0.,  0.,\n",
       "         0.,  0.,  0.,  0.,  0.,  0.,  0.,  0.,  0.],\n",
       "       [ 1.,  0.,  0.,  0.,  0.,  0.,  0.,  0.,  0.,  0.,  0.,  0.,  0.,\n",
       "         0.,  0.,  0.,  0.,  0.,  0.,  0.,  0.,  0.],\n",
       "       [ 1.,  0.,  0.,  0.,  0.,  0.,  0.,  0.,  0.,  0.,  0.,  0.,  0.,\n",
       "         0.,  0.,  0.,  0.,  0.,  0.,  0.,  0.,  0.],\n",
       "       [ 1.,  0.,  0.,  0.,  0.,  0.,  0.,  0.,  0.,  0.,  0.,  0.,  0.,\n",
       "         0.,  0.,  0.,  0.,  0.,  0.,  0.,  0.,  0.],\n",
       "       [ 1.,  0.,  0.,  0.,  0.,  0.,  0.,  0.,  0.,  0.,  0.,  0.,  0.,\n",
       "         0.,  0.,  0.,  0.,  0.,  0.,  0.,  0.,  0.],\n",
       "       [ 1.,  0.,  0.,  0.,  0.,  0.,  0.,  0.,  0.,  0.,  0.,  0.,  0.,\n",
       "         0.,  0.,  0.,  0.,  0.,  0.,  0.,  0.,  0.],\n",
       "       [ 1.,  0.,  0.,  0.,  0.,  0.,  0.,  0.,  0.,  0.,  0.,  0.,  0.,\n",
       "         0.,  0.,  0.,  0.,  0.,  0.,  0.,  0.,  0.],\n",
       "       [ 1.,  0.,  0.,  0.,  0.,  0.,  0.,  0.,  0.,  0.,  0.,  0.,  0.,\n",
       "         0.,  0.,  0.,  0.,  0.,  0.,  0.,  0.,  0.],\n",
       "       [ 1.,  0.,  0.,  0.,  0.,  0.,  0.,  0.,  0.,  0.,  0.,  0.,  0.,\n",
       "         0.,  0.,  0.,  0.,  0.,  0.,  0.,  0.,  0.],\n",
       "       [ 1.,  0.,  0.,  0.,  0.,  0.,  0.,  0.,  0.,  0.,  0.,  0.,  0.,\n",
       "         0.,  0.,  0.,  0.,  0.,  0.,  0.,  0.,  0.],\n",
       "       [ 1.,  0.,  0.,  0.,  0.,  0.,  0.,  0.,  0.,  0.,  0.,  0.,  0.,\n",
       "         0.,  0.,  0.,  0.,  0.,  0.,  0.,  0.,  0.],\n",
       "       [ 1.,  0.,  0.,  0.,  0.,  0.,  0.,  0.,  0.,  0.,  0.,  0.,  0.,\n",
       "         0.,  0.,  0.,  0.,  0.,  0.,  0.,  0.,  0.],\n",
       "       [ 1.,  0.,  0.,  0.,  0.,  0.,  0.,  0.,  0.,  0.,  0.,  0.,  0.,\n",
       "         0.,  0.,  0.,  0.,  0.,  0.,  0.,  0.,  0.],\n",
       "       [ 1.,  0.,  0.,  0.,  0.,  0.,  0.,  0.,  0.,  0.,  0.,  0.,  0.,\n",
       "         0.,  0.,  0.,  0.,  0.,  0.,  0.,  0.,  0.],\n",
       "       [ 1.,  0.,  0.,  0.,  0.,  0.,  0.,  0.,  0.,  0.,  0.,  0.,  0.,\n",
       "         0.,  0.,  0.,  0.,  0.,  0.,  0.,  0.,  0.],\n",
       "       [ 1.,  0.,  0.,  0.,  0.,  0.,  0.,  0.,  0.,  0.,  0.,  0.,  0.,\n",
       "         0.,  0.,  0.,  0.,  0.,  0.,  0.,  0.,  0.],\n",
       "       [ 1.,  0.,  0.,  0.,  0.,  0.,  0.,  0.,  0.,  0.,  0.,  0.,  0.,\n",
       "         0.,  0.,  0.,  0.,  0.,  0.,  0.,  0.,  0.]])"
      ]
     },
     "execution_count": 13,
     "metadata": {},
     "output_type": "execute_result"
    }
   ],
   "source": [
    "# transition probability for quit the game\n",
    "# all state with determinstic proability of going to terminal state (column 0, first column)\n",
    "prob = np.zeros((2, x, x))\n",
    "prob[1][:,0] = 1.0\n",
    "prob[1]"
   ]
  },
  {
   "cell_type": "code",
   "execution_count": 14,
   "metadata": {},
   "outputs": [
    {
     "name": "stdout",
     "output_type": "stream",
     "text": [
      "[8, 1, 2, 4]\n",
      "[8, 1, 2, 4, 0]\n"
     ]
    }
   ],
   "source": [
    "# creating list of reachable state, this is to automate the update of transition function\n",
    "# when taking the rolling action 0\n",
    "\n",
    "mask = np.array([0,0,1,0,1,1,1,0,1])\n",
    "avil = set(np.where(mask != 1)[0]+1)\n",
    "avil = list(avil)\n",
    "final_set = avil.copy()\n",
    "final_set.append(0)\n",
    "print(avil)\n",
    "print(final_set)       "
   ]
  },
  {
   "cell_type": "code",
   "execution_count": 15,
   "metadata": {},
   "outputs": [
    {
     "name": "stdout",
     "output_type": "stream",
     "text": [
      "[0, 1, 2, 3, 4, 5, 6, 7, 8, 9, 10, 11, 12, 13, 14, 15, 16, 17, 18, 19, 20]\n"
     ]
    }
   ],
   "source": [
    "# constructing list of reachable state\n",
    "for i in final_set:\n",
    "    for j in avil:\n",
    "        #print(i, j, i+j <= x, i+j, i+j in final_set)\n",
    "        if i+j <= 2*N+2 and i+j not in final_set:\n",
    "            final_set.append(i+j)\n",
    "            #print(final_set)           \n",
    "final_set = sorted(final_set)\n",
    "print(final_set)            "
   ]
  },
  {
   "cell_type": "code",
   "execution_count": 16,
   "metadata": {},
   "outputs": [
    {
     "name": "stdout",
     "output_type": "stream",
     "text": [
      "[0, 1, 2, 3, 4, 5, 6, 7, 8, 9, 10, 11, 12, 13, 14, 15, 16, 17, 18, 19, 20]\n",
      "[8, 1, 2, 4]\n"
     ]
    },
    {
     "data": {
      "text/plain": [
       "array([[ 1.        ,  0.        ,  0.        ,  0.        ,  0.        ,\n",
       "         0.        ,  0.        ,  0.        ,  0.        ,  0.        ,\n",
       "         0.        ,  0.        ,  0.        ,  0.        ,  0.        ,\n",
       "         0.        ,  0.        ,  0.        ,  0.        ,  0.        ,\n",
       "         0.        ,  0.        ],\n",
       "       [ 0.55555556,  0.        ,  0.11111111,  0.11111111,  0.        ,\n",
       "         0.11111111,  0.        ,  0.        ,  0.        ,  0.11111111,\n",
       "         0.        ,  0.        ,  0.        ,  0.        ,  0.        ,\n",
       "         0.        ,  0.        ,  0.        ,  0.        ,  0.        ,\n",
       "         0.        ,  0.        ],\n",
       "       [ 0.55555556,  0.        ,  0.        ,  0.11111111,  0.11111111,\n",
       "         0.        ,  0.11111111,  0.        ,  0.        ,  0.        ,\n",
       "         0.11111111,  0.        ,  0.        ,  0.        ,  0.        ,\n",
       "         0.        ,  0.        ,  0.        ,  0.        ,  0.        ,\n",
       "         0.        ,  0.        ],\n",
       "       [ 0.55555556,  0.        ,  0.        ,  0.        ,  0.11111111,\n",
       "         0.11111111,  0.        ,  0.11111111,  0.        ,  0.        ,\n",
       "         0.        ,  0.11111111,  0.        ,  0.        ,  0.        ,\n",
       "         0.        ,  0.        ,  0.        ,  0.        ,  0.        ,\n",
       "         0.        ,  0.        ],\n",
       "       [ 0.55555556,  0.        ,  0.        ,  0.        ,  0.        ,\n",
       "         0.11111111,  0.11111111,  0.        ,  0.11111111,  0.        ,\n",
       "         0.        ,  0.        ,  0.11111111,  0.        ,  0.        ,\n",
       "         0.        ,  0.        ,  0.        ,  0.        ,  0.        ,\n",
       "         0.        ,  0.        ],\n",
       "       [ 0.55555556,  0.        ,  0.        ,  0.        ,  0.        ,\n",
       "         0.        ,  0.11111111,  0.11111111,  0.        ,  0.11111111,\n",
       "         0.        ,  0.        ,  0.        ,  0.11111111,  0.        ,\n",
       "         0.        ,  0.        ,  0.        ,  0.        ,  0.        ,\n",
       "         0.        ,  0.        ],\n",
       "       [ 0.55555556,  0.        ,  0.        ,  0.        ,  0.        ,\n",
       "         0.        ,  0.        ,  0.11111111,  0.11111111,  0.        ,\n",
       "         0.11111111,  0.        ,  0.        ,  0.        ,  0.11111111,\n",
       "         0.        ,  0.        ,  0.        ,  0.        ,  0.        ,\n",
       "         0.        ,  0.        ],\n",
       "       [ 0.55555556,  0.        ,  0.        ,  0.        ,  0.        ,\n",
       "         0.        ,  0.        ,  0.        ,  0.11111111,  0.11111111,\n",
       "         0.        ,  0.11111111,  0.        ,  0.        ,  0.        ,\n",
       "         0.11111111,  0.        ,  0.        ,  0.        ,  0.        ,\n",
       "         0.        ,  0.        ],\n",
       "       [ 0.55555556,  0.        ,  0.        ,  0.        ,  0.        ,\n",
       "         0.        ,  0.        ,  0.        ,  0.        ,  0.11111111,\n",
       "         0.11111111,  0.        ,  0.11111111,  0.        ,  0.        ,\n",
       "         0.        ,  0.11111111,  0.        ,  0.        ,  0.        ,\n",
       "         0.        ,  0.        ],\n",
       "       [ 0.55555556,  0.        ,  0.        ,  0.        ,  0.        ,\n",
       "         0.        ,  0.        ,  0.        ,  0.        ,  0.        ,\n",
       "         0.11111111,  0.11111111,  0.        ,  0.11111111,  0.        ,\n",
       "         0.        ,  0.        ,  0.11111111,  0.        ,  0.        ,\n",
       "         0.        ,  0.        ],\n",
       "       [ 0.55555556,  0.        ,  0.        ,  0.        ,  0.        ,\n",
       "         0.        ,  0.        ,  0.        ,  0.        ,  0.        ,\n",
       "         0.        ,  0.11111111,  0.11111111,  0.        ,  0.11111111,\n",
       "         0.        ,  0.        ,  0.        ,  0.11111111,  0.        ,\n",
       "         0.        ,  0.        ],\n",
       "       [ 0.55555556,  0.        ,  0.        ,  0.        ,  0.        ,\n",
       "         0.        ,  0.        ,  0.        ,  0.        ,  0.        ,\n",
       "         0.        ,  0.        ,  0.11111111,  0.11111111,  0.        ,\n",
       "         0.11111111,  0.        ,  0.        ,  0.        ,  0.11111111,\n",
       "         0.        ,  0.        ],\n",
       "       [ 0.55555556,  0.        ,  0.        ,  0.        ,  0.        ,\n",
       "         0.        ,  0.        ,  0.        ,  0.        ,  0.        ,\n",
       "         0.        ,  0.        ,  0.        ,  0.11111111,  0.11111111,\n",
       "         0.        ,  0.11111111,  0.        ,  0.        ,  0.        ,\n",
       "         0.11111111,  0.        ],\n",
       "       [ 0.55555556,  0.        ,  0.        ,  0.        ,  0.        ,\n",
       "         0.        ,  0.        ,  0.        ,  0.        ,  0.        ,\n",
       "         0.        ,  0.        ,  0.        ,  0.        ,  0.11111111,\n",
       "         0.11111111,  0.        ,  0.11111111,  0.        ,  0.        ,\n",
       "         0.        ,  0.11111111],\n",
       "       [ 0.66666667,  0.        ,  0.        ,  0.        ,  0.        ,\n",
       "         0.        ,  0.        ,  0.        ,  0.        ,  0.        ,\n",
       "         0.        ,  0.        ,  0.        ,  0.        ,  0.        ,\n",
       "         0.11111111,  0.11111111,  0.        ,  0.11111111,  0.        ,\n",
       "         0.        ,  0.        ],\n",
       "       [ 0.66666667,  0.        ,  0.        ,  0.        ,  0.        ,\n",
       "         0.        ,  0.        ,  0.        ,  0.        ,  0.        ,\n",
       "         0.        ,  0.        ,  0.        ,  0.        ,  0.        ,\n",
       "         0.        ,  0.11111111,  0.11111111,  0.        ,  0.11111111,\n",
       "         0.        ,  0.        ],\n",
       "       [ 0.66666667,  0.        ,  0.        ,  0.        ,  0.        ,\n",
       "         0.        ,  0.        ,  0.        ,  0.        ,  0.        ,\n",
       "         0.        ,  0.        ,  0.        ,  0.        ,  0.        ,\n",
       "         0.        ,  0.        ,  0.11111111,  0.11111111,  0.        ,\n",
       "         0.11111111,  0.        ],\n",
       "       [ 0.66666667,  0.        ,  0.        ,  0.        ,  0.        ,\n",
       "         0.        ,  0.        ,  0.        ,  0.        ,  0.        ,\n",
       "         0.        ,  0.        ,  0.        ,  0.        ,  0.        ,\n",
       "         0.        ,  0.        ,  0.        ,  0.11111111,  0.11111111,\n",
       "         0.        ,  0.11111111],\n",
       "       [ 0.77777778,  0.        ,  0.        ,  0.        ,  0.        ,\n",
       "         0.        ,  0.        ,  0.        ,  0.        ,  0.        ,\n",
       "         0.        ,  0.        ,  0.        ,  0.        ,  0.        ,\n",
       "         0.        ,  0.        ,  0.        ,  0.        ,  0.11111111,\n",
       "         0.11111111,  0.        ],\n",
       "       [ 0.77777778,  0.        ,  0.        ,  0.        ,  0.        ,\n",
       "         0.        ,  0.        ,  0.        ,  0.        ,  0.        ,\n",
       "         0.        ,  0.        ,  0.        ,  0.        ,  0.        ,\n",
       "         0.        ,  0.        ,  0.        ,  0.        ,  0.        ,\n",
       "         0.11111111,  0.11111111],\n",
       "       [ 0.88888889,  0.        ,  0.        ,  0.        ,  0.        ,\n",
       "         0.        ,  0.        ,  0.        ,  0.        ,  0.        ,\n",
       "         0.        ,  0.        ,  0.        ,  0.        ,  0.        ,\n",
       "         0.        ,  0.        ,  0.        ,  0.        ,  0.        ,\n",
       "         0.        ,  0.11111111],\n",
       "       [ 1.        ,  0.        ,  0.        ,  0.        ,  0.        ,\n",
       "         0.        ,  0.        ,  0.        ,  0.        ,  0.        ,\n",
       "         0.        ,  0.        ,  0.        ,  0.        ,  0.        ,\n",
       "         0.        ,  0.        ,  0.        ,  0.        ,  0.        ,\n",
       "         0.        ,  0.        ]])"
      ]
     },
     "execution_count": 16,
     "metadata": {},
     "output_type": "execute_result"
    }
   ],
   "source": [
    "print(final_set)\n",
    "print(avil)\n",
    "for i in final_set:\n",
    "    for j in avil:\n",
    "        if (i+j) <= 2*N+2:\n",
    "            #print(i,j,i+j)\n",
    "            prob[0][1+i][i+j+1] = 1.0/N\n",
    "\n",
    "for i in range(0,x):\n",
    "    prob[0][i][0] = 1 - np.sum(prob[0][i])    \n",
    "\n",
    "prob[0]\n"
   ]
  },
  {
   "cell_type": "code",
   "execution_count": 17,
   "metadata": {},
   "outputs": [
    {
     "data": {
      "text/plain": [
       "array([ 1.,  1.,  1.,  1.,  1.,  1.,  1.,  1.,  1.,  1.,  1.,  1.,  1.,\n",
       "        1.,  1.,  1.,  1.,  1.,  1.,  1.,  1.,  1.])"
      ]
     },
     "execution_count": 17,
     "metadata": {},
     "output_type": "execute_result"
    }
   ],
   "source": [
    "# check row sum equals 1 (requirement of mdptoolbox)\n",
    "np.sum(prob[0], axis=1)"
   ]
  },
  {
   "cell_type": "code",
   "execution_count": 18,
   "metadata": {},
   "outputs": [
    {
     "name": "stdout",
     "output_type": "stream",
     "text": [
      "WARNING: check conditions of convergence. With no discount, convergence can not be assumed.\n",
      "(0, 0, 0, 0, 0, 1, 1, 1, 1, 1, 1, 1, 1, 1, 1, 1, 1, 1, 1, 1, 1, 1)\n",
      "(0.0, 1.8587105624142661, 2.1728395061728394, 2.5555555555555554, 3.0, 4.0, 5.0, 6.0, 7.0, 8.0, 9.0, 10.0, 11.0, 12.0, 13.0, 14.0, 15.0, 16.0, 17.0, 18.0, 19.0, 20.0)\n"
     ]
    }
   ],
   "source": [
    "# solve the mdp and generate the values of state\n",
    "# second state is the state when bankroll equals 0, which is what the question asks\n",
    "\n",
    "vi = mdptoolbox.mdp.ValueIteration(prob, rewards, 1.0)\n",
    "vi.run()\n",
    "\n",
    "optimal_policy = vi.policy\n",
    "expected_values = vi.V\n",
    "\n",
    "print(optimal_policy)\n",
    "print(expected_values)"
   ]
  },
  {
   "cell_type": "code",
   "execution_count": null,
   "metadata": {
    "collapsed": true
   },
   "outputs": [],
   "source": []
  }
 ],
 "metadata": {
  "kernelspec": {
   "display_name": "Python 3",
   "language": "python",
   "name": "python3"
  },
  "language_info": {
   "codemirror_mode": {
    "name": "ipython",
    "version": 3
   },
   "file_extension": ".py",
   "mimetype": "text/x-python",
   "name": "python",
   "nbconvert_exporter": "python",
   "pygments_lexer": "ipython3",
   "version": "3.6.3"
  }
 },
 "nbformat": 4,
 "nbformat_minor": 2
}
