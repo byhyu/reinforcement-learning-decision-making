{
 "cells": [
  {
   "cell_type": "code",
   "execution_count": 1,
   "metadata": {},
   "outputs": [
    {
     "name": "stderr",
     "output_type": "stream",
     "text": [
      "Using TensorFlow backend.\n"
     ]
    }
   ],
   "source": [
    "import gym\n",
    "import numpy as np\n",
    "import random\n",
    "import matplotlib.pyplot as plt\n",
    "\n",
    "from keras.models import Sequential\n",
    "from keras.layers import Dense, Dropout\n",
    "from keras.optimizers import Adam\n",
    "from keras.models import load_model\n",
    "from keras.utils import plot_model\n",
    "from collections import deque\n"
   ]
  },
  {
   "cell_type": "code",
   "execution_count": 2,
   "metadata": {
    "collapsed": true
   },
   "outputs": [],
   "source": [
    "env = gym.make('LunarLander-v2')"
   ]
  },
  {
   "cell_type": "code",
   "execution_count": 3,
   "metadata": {},
   "outputs": [
    {
     "name": "stdout",
     "output_type": "stream",
     "text": [
      "(8,)\n",
      "4\n"
     ]
    }
   ],
   "source": [
    "env.reset()\n",
    "#env.render()\n",
    "print(env.observation_space.shape)\n",
    "print(env.action_space.n)"
   ]
  },
  {
   "cell_type": "code",
   "execution_count": 4,
   "metadata": {},
   "outputs": [
    {
     "name": "stdout",
     "output_type": "stream",
     "text": [
      "Episode finished after 88 timesteps\n"
     ]
    }
   ],
   "source": [
    "# perform random action at each step\n",
    "for i_episode in range(1):\n",
    "    observation = env.reset()\n",
    "    for t in range(100):\n",
    "        env.render()\n",
    "        #print(observation)\n",
    "        action = env.action_space.sample()\n",
    "        observation, reward, done, info = env.step(action)\n",
    "        if done:\n",
    "            print(\"Episode finished after {} timesteps\".format(t+1))\n",
    "            break\n",
    "env.close()"
   ]
  },
  {
   "cell_type": "markdown",
   "metadata": {},
   "source": [
    "## Agent takes randoms action cannot land successfully"
   ]
  },
  {
   "cell_type": "code",
   "execution_count": 5,
   "metadata": {},
   "outputs": [
    {
     "data": {
      "text/html": [
       "<img src=\"./project2_random_action.gif\">"
      ],
      "text/plain": [
       "<IPython.core.display.HTML object>"
      ]
     },
     "execution_count": 5,
     "metadata": {},
     "output_type": "execute_result"
    }
   ],
   "source": [
    "from IPython.display import HTML\n",
    "HTML('<img src=\"./project2_random_action.gif\">')"
   ]
  },
  {
   "cell_type": "markdown",
   "metadata": {},
   "source": [
    "## DQN Implementation"
   ]
  },
  {
   "cell_type": "code",
   "execution_count": 6,
   "metadata": {},
   "outputs": [],
   "source": [
    "# class object for Deep Q-Learning\n",
    "class DQN:\n",
    "    def __init__(self, env, gamma = 0.99, lr = 5e-4, tau = 1e-3):\n",
    "        # init environment\n",
    "        self.env = env\n",
    "        \n",
    "        # Init replay buffer\n",
    "        # Use deque for its property of auto-discarding stored elements if it is full\n",
    "        self.replay_buffer  = deque(maxlen=int(1e5))\n",
    "        \n",
    "        # define discount rate gamma\n",
    "        # learning rate lr for keras gradient descent\n",
    "        # tau for soft-update\n",
    "        self.gamma = gamma\n",
    "        self.lr = lr\n",
    "        self.tau = tau \n",
    "        \n",
    "        # construct model for action-value function\n",
    "        # construct target_model for target action-value function\n",
    "        # target model is used to generate value estimate and make action selection\n",
    "        # model is learning from experience and improve estimate\n",
    "        self.model, self.target_model  = self.init_model(), self.init_model()\n",
    "        \n",
    "        # Every C step soft update target model Q_hat to model Q\n",
    "        self.C = 4\n",
    "        \n",
    "        # batch size in learning\n",
    "        self.batch_size = 64\n",
    "        \n",
    "        # Counter\n",
    "        self.t = 0\n",
    "    \n",
    "    # create keras NN model\n",
    "    def init_model(self):\n",
    "        # set input and output shape\n",
    "        # input shape is the dimension of state space (8,1)\n",
    "        # output shape is the dimension of actions (4,1)\n",
    "        input_shape = self.env.observation_space.shape[0]\n",
    "        output_shape = self.env.action_space.n\n",
    "        \n",
    "        # Define Sequential model (linear stack of layers)  \n",
    "        # Add hidden layers: two hidden layers with the size of 64\n",
    "        model = Sequential()        \n",
    "        model.add(Dense(64, input_dim=input_shape, activation=\"relu\"))\n",
    "        model.add(Dense(64, activation=\"relu\"))\n",
    "        model.add(Dense(output_shape))\n",
    "        \n",
    "        # Define the loss function of mse, Use Adam for optimization\n",
    "        model.compile(loss=\"mean_squared_error\",optimizer=Adam(lr=self.lr))\n",
    "        \n",
    "        return model\n",
    "    \n",
    "    # Store transition to replay buffer\n",
    "    def add_to_buffer(self, state, action, reward, new_state, done):\n",
    "        self.replay_buffer.append([state, action, reward, new_state, done])\n",
    "    \n",
    "    # Take action with epsilon-greedy respect to action-value function prediction from model\n",
    "    def generate_action(self, state, eps):\n",
    "        # epsilon-greey to take best action from action-value function\n",
    "        if np.random.random() < eps:\n",
    "            return self.env.action_space.sample()\n",
    "        return np.argmax(self.model.predict(state)[0])\n",
    "    \n",
    "    # soft update to target model Q_hat from model Q\n",
    "    def train_target(self):\n",
    "        # target model and model are not updating at the same time\n",
    "        weights = self.model.get_weights()\n",
    "        target_weights = self.target_model.get_weights()\n",
    "        for i in range(len(target_weights)):\n",
    "            target_weights[i] = self.tau * weights[i] + (1 - self.tau) * target_weights[i]\n",
    "        # assign new weights to target model\n",
    "        self.target_model.set_weights(target_weights)\n",
    "\n",
    "    # the batch learning (gradient descent) of the model Q\n",
    "    def learning(self):\n",
    "        self.t = (self.t + 1) % self.C\n",
    "        \n",
    "        # update every C times and make sure buffer is filled with at least size batch size\n",
    "        if self.t == 0:\n",
    "            if len(self.replay_buffer) < self.batch_size: \n",
    "                return\n",
    "            \n",
    "            # init list states to store states \n",
    "            # init list of targets values forecast gernated by model Q associated with each state-action\n",
    "            states, targets_forecast = [], []\n",
    "            \n",
    "            # random sample from replay buffer\n",
    "            samples = random.sample(self.replay_buffer, self.batch_size)\n",
    "            \n",
    "            for state, action, reward, new_state, done in samples:\n",
    "                if done:\n",
    "                    target = reward\n",
    "                else:\n",
    "                    Q_new_state =  np.amax(self.target_model.predict(new_state)[0])\n",
    "                    target = reward + self.gamma *  Q_new_state\n",
    "\n",
    "                target_forecast = self.model.predict(state)\n",
    "                target_forecast[0][action] = target\n",
    "                \n",
    "                # append to lists for batch processing outside the iteartion\n",
    "                states.append(state[0])\n",
    "                targets_forecast.append(target_forecast[0])\n",
    "            \n",
    "            # batch learning to train the model Q   \n",
    "            self.model.fit(np.array(states), np.array(targets_forecast), epochs=1, verbose=0)\n",
    "            self.train_target()\n",
    "    \n",
    "    # save complete model\n",
    "    def save_model(self, fn):\n",
    "        self.model.save(fn)"
   ]
  },
  {
   "cell_type": "code",
   "execution_count": 7,
   "metadata": {
    "scrolled": true
   },
   "outputs": [],
   "source": [
    "# Function for training\n",
    "def train(gamma = 0.99, lr = 5e-4, tau = 1e-3, epsilon_decay = 0.995):\n",
    "    env = gym.make(\"LunarLander-v2\")\n",
    "    \n",
    "    # Define the epsilon and its decay for epsilon-greedy action selection\n",
    "    epsilon = 1.0\n",
    "    epsilon_min = 0.01\n",
    "    epsilon_decay = epsilon_decay\n",
    "    \n",
    "    # Define no.of training episodes and max steps for each episode\n",
    "    episodes  = 2000\n",
    "    steps = 1000\n",
    "\n",
    "    # scores store all score in each trial\n",
    "    # scores_window stores last 100 trial scores\n",
    "    scores = []                        \n",
    "    scores_window = deque(maxlen=100)\n",
    "    \n",
    "    # epsilons store all epsilon values:\n",
    "    epsilons = []\n",
    "    \n",
    "    # init the DQN agent\n",
    "    agent = DQN(env=env, gamma=gamma, lr=lr, tau=tau)\n",
    "    \n",
    "    # each trial\n",
    "    for trial in range(episodes):\n",
    "        score = 0\n",
    "        cur_state = env.reset().reshape(1,8)\n",
    "        epsilons.append(epsilon)\n",
    "        \n",
    "        # each step in an training trial/episode\n",
    "        for step in range(steps):\n",
    "            #env.render()\n",
    "            \n",
    "            # get action from agent and take that action\n",
    "            action = agent.generate_action(cur_state ,epsilon)\n",
    "            new_state, reward, done, _ = env.step(action)\n",
    "            score += reward\n",
    "            new_state = new_state.reshape(1,8)\n",
    "            \n",
    "            # add experience to replay buffer\n",
    "            agent.add_to_buffer(cur_state, action, reward, new_state, done)\n",
    "            \n",
    "            # learning from current step\n",
    "            agent.learning()\n",
    "            cur_state = new_state\n",
    "        \n",
    "            if done:\n",
    "                break   \n",
    "        \n",
    "        scores.append(score)\n",
    "        scores_window.append(score)\n",
    "        \n",
    "        # decay of epsilon, in early training, perform more exploration\n",
    "        # at later stage of training, perform more exploitation\n",
    "        epsilon *= epsilon_decay\n",
    "        epsilon = max(epsilon_min, epsilon)\n",
    "        \n",
    "        print('\\rtrial {}\\t Mean Score: {:.3f} \\t with epsilon: {:.3f}'.format(trial, np.mean(scores_window), epsilon), end=\"\")\n",
    "        \n",
    "        if trial % 100 == 0:\n",
    "            print('\\rtrial {}\\t Mean Score: {:.3f}'.format(trial, np.mean(scores_window)))\n",
    "        \n",
    "        # stop if last 100 consecutive scores, save the model/agent\n",
    "        if np.mean(scores_window)>=200.0:\n",
    "            agent.save_model(\"dqn_model.h5\")\n",
    "            print('\\n Achieve Mean Score of 200 for past 100 trials with total {:d} trial!\\tAverage Score: {:.3f}'.format(trial-100, np.mean(scores_window)))\n",
    "            break                     \n",
    "    \n",
    "    env.close()\n",
    "    return (scores,epsilons)\n"
   ]
  },
  {
   "cell_type": "code",
   "execution_count": 8,
   "metadata": {
    "collapsed": true
   },
   "outputs": [],
   "source": [
    "# Function for testing with the trained DQN model\n",
    "def test(saved_model):    \n",
    "    \n",
    "    # Keras load trained agent\n",
    "    model = load_model(saved_model)\n",
    "    \n",
    "    # summary of the value-action model Q\n",
    "    model.summary()\n",
    "    \n",
    "    # plot model structure\n",
    "    plot_model(model, show_shapes = True, to_file='model.png')\n",
    "    print(\"model weights:\", model.get_weights()) \n",
    "   \n",
    "    # test the trained agent\n",
    "    env = gym.make(\"LunarLander-v2\")\n",
    "    scores = []\n",
    "    \n",
    "    # run the trained agent 100 trials\n",
    "    for trial in range(100):\n",
    "        score = 0\n",
    "        cur_state = env.reset().reshape(1,8)\n",
    "        for step in range(1000):\n",
    "            env.render()\n",
    "            action = np.argmax(model.predict(cur_state)[0])\n",
    "            new_state, reward, done, _ = env.step(action)\n",
    "            new_state = new_state.reshape(1,8)\n",
    "            score += reward\n",
    "            cur_state = new_state\n",
    "            if done:\n",
    "                break   \n",
    "        \n",
    "        scores.append(score)\n",
    "        print('\\rtrial {}\\t Score: {:.3f}'.format(trial, (score)), end=\"\")\n",
    "              \n",
    "    env.close()\n",
    "    \n",
    "    return scores\n",
    "    "
   ]
  },
  {
   "cell_type": "code",
   "execution_count": 9,
   "metadata": {},
   "outputs": [],
   "source": [
    "def plot_values(values, xlabel, ylabel):\n",
    "    fig = plt.figure()\n",
    "    plt.plot(np.arange(len(values)), values)\n",
    "    plt.xlabel(xlabel)\n",
    "    plt.ylabel(ylabel)\n",
    "    plt.show()"
   ]
  },
  {
   "cell_type": "code",
   "execution_count": 10,
   "metadata": {
    "scrolled": true
   },
   "outputs": [
    {
     "name": "stdout",
     "output_type": "stream",
     "text": [
      "trial 0\t Mean Score: -123.573 \t with epsilon: 0.995\n",
      "trial 100\t Mean Score: -139.529 \t with epsilon: 0.603\n",
      "trial 200\t Mean Score: -79.320 \t with epsilon: 0.3658\n",
      "trial 300\t Mean Score: -41.741 \t with epsilon: 0.221\n",
      "trial 400\t Mean Score: 22.706 \t with epsilon: 0.1344\n",
      "trial 500\t Mean Score: 101.221 \t with epsilon: 0.081\n",
      "trial 600\t Mean Score: 182.577 \t with epsilon: 0.049\n",
      "trial 627\t Mean Score: 202.356 \t with epsilon: 0.043\n",
      " Achieve Mean Score of 200 for past 100 trials with total 527 trial!\tAverage Score: 202.356\n"
     ]
    }
   ],
   "source": [
    "# train and plot using default parameters\n",
    "train_scores, epsilons = train()"
   ]
  },
  {
   "cell_type": "markdown",
   "metadata": {},
   "source": [
    "## Trained agent can land successfully"
   ]
  },
  {
   "cell_type": "code",
   "execution_count": 18,
   "metadata": {},
   "outputs": [
    {
     "data": {
      "text/html": [
       "<img src=\"./project2_trained_agent.gif\">"
      ],
      "text/plain": [
       "<IPython.core.display.HTML object>"
      ]
     },
     "execution_count": 18,
     "metadata": {},
     "output_type": "execute_result"
    }
   ],
   "source": [
    "from IPython.display import HTML\n",
    "HTML('<img src=\"./project2_trained_agent.gif\">')"
   ]
  },
  {
   "cell_type": "code",
   "execution_count": 12,
   "metadata": {},
   "outputs": [
    {
     "data": {
      "image/png": "[encoded data removed]",
      "text/plain": [
       "<Figure size 432x288 with 1 Axes>"
      ]
     },
     "metadata": {},
     "output_type": "display_data"
    }
   ],
   "source": [
    "plot_values(train_scores, \"Trials\", \"Scores\")"
   ]
  },
  {
   "cell_type": "code",
   "execution_count": 13,
   "metadata": {},
   "outputs": [
    {
     "name": "stdout",
     "output_type": "stream",
     "text": [
      "_________________________________________________________________\n",
      "Layer (type)                 Output Shape              Param #   \n",
      "=================================================================\n",
      "dense_1 (Dense)              (None, 64)                576       \n",
      "_________________________________________________________________\n",
      "dense_2 (Dense)              (None, 64)                4160      \n",
      "_________________________________________________________________\n",
      "dense_3 (Dense)              (None, 4)                 260       \n",
      "=================================================================\n",
      "Total params: 4,996\n",
      "Trainable params: 4,996\n",
      "Non-trainable params: 0\n",
      "_________________________________________________________________\n",
      "model weights: [array([[  5.75000942e-01,  -4.16228265e-01,  -6.79869711e-01,\n",
      "          6.28431290e-02,   5.30226707e-01,  -8.97244692e-01,\n",
      "         -1.07116425e+00,  -5.85630769e-03,   2.92551164e-02,\n",
      "          1.53492719e-01,  -5.40661454e-01,   6.11699760e-01,\n",
      "         -8.23747814e-02,  -3.07605177e-01,  -1.95862591e-01,\n",
      "         -1.16275229e-01,   9.03176606e-01,   4.80259329e-01,\n",
      "         -6.59584582e-01,  -8.86869207e-02,  -1.22141011e-01,\n",
      "          4.92889658e-02,   1.66284993e-01,  -7.07184151e-02,\n",
      "          6.38846308e-02,   1.27737433e-01,   1.72792971e-01,\n",
      "         -2.22598106e-01,  -2.17300877e-02,  -8.00045788e-01,\n",
      "         -1.71933651e-01,  -1.97537273e-01,   1.74152777e-01,\n",
      "         -8.19023907e-01,   9.78597477e-02,   3.28508168e-01,\n",
      "         -8.33954573e-01,  -4.21349436e-01,   4.52424616e-01,\n",
      "         -1.10396016e+00,  -6.85571730e-02,   5.97960293e-01,\n",
      "          5.61566770e-01,  -1.86838899e-02,  -8.44038725e-01,\n",
      "         -6.99618578e-01,   7.07441330e-01,  -4.85305451e-02,\n",
      "         -8.62321407e-02,  -4.25027430e-01,   2.03400049e-02,\n",
      "          6.43899620e-01,   6.15469635e-01,   4.05058712e-01,\n",
      "         -1.48948848e+00,   5.61730228e-02,   1.61401629e-01,\n",
      "         -4.34220880e-01,   2.08417177e-01,   3.74480516e-01,\n",
      "         -4.02300268e-01,  -3.33733529e-01,  -7.93438017e-01,\n",
      "          4.45144586e-02],\n",
      "       [  5.23416162e-01,   9.99600589e-01,   1.70157045e-01,\n",
      "         -2.74677962e-01,   3.21909995e-03,   5.42165279e-01,\n",
      "          4.68049765e-01,  -1.77350193e-01,  -1.10175297e-01,\n",
      "          9.47306007e-02,  -2.89227724e-01,  -3.02383184e-01,\n",
      "         -6.22286022e-01,   3.59754413e-01,  -9.13719952e-01,\n",
      "         -2.78096832e-02,  -8.84069860e-01,   2.37436637e-01,\n",
      "         -5.24962604e-01,  -3.60900722e-02,  -4.76648837e-01,\n",
      "         -4.72791120e-03,   6.93116486e-01,  -5.73715568e-02,\n",
      "          2.06937701e-01,  -3.10207987e+00,  -4.81162161e-01,\n",
      "         -3.54795665e-01,   5.02459481e-02,  -1.41636002e+00,\n",
      "          7.11309075e-01,  -5.28951168e-01,  -4.42837596e-01,\n",
      "         -1.70917106e+00,   1.11430466e+00,   2.65795022e-01,\n",
      "         -1.91845089e-01,   5.60122821e-03,  -6.81586117e-02,\n",
      "         -8.65121782e-01,  -2.24001795e-01,   3.35578769e-02,\n",
      "         -5.49142301e-01,  -6.11713350e-01,   1.63583055e-01,\n",
      "          1.30739987e+00,  -2.80163828e-02,  -4.41739038e-02,\n",
      "         -2.58444846e-01,   1.23900342e+00,  -2.10937932e-02,\n",
      "          5.77451706e-01,  -1.50479749e-01,  -1.09925605e-01,\n",
      "          2.43923962e-01,   4.64657784e-01,  -4.07352269e-01,\n",
      "          1.31767428e+00,   8.16704333e-02,  -2.61171043e-01,\n",
      "          1.26121817e-02,  -1.64571059e+00,  -2.00637691e-02,\n",
      "          5.93618929e-01],\n",
      "       [  9.43211257e-01,  -2.53307134e-01,   1.14366460e+00,\n",
      "         -2.90219933e-01,   3.26473236e-01,  -4.35790539e-01,\n",
      "         -8.94018829e-01,   3.06049615e-01,   1.52396131e+00,\n",
      "          1.37190491e-01,  -2.61033803e-01,   2.15420753e-01,\n",
      "         -5.16838312e-01,   3.18222731e-01,  -1.67499349e-01,\n",
      "          2.02632874e-01,   4.79023039e-01,   5.68996429e-01,\n",
      "         -6.28140330e-01,  -1.65378726e+00,  -3.07741314e-01,\n",
      "         -3.80560532e-02,  -1.28881663e-01,  -1.19197559e+00,\n",
      "         -2.49779761e-01,   4.61252749e-01,  -8.55285078e-02,\n",
      "          2.86999047e-01,  -2.37388879e-01,  -6.08834803e-01,\n",
      "          4.80020829e-02,  -2.36588955e-01,  -3.23890507e-01,\n",
      "         -5.49629331e-01,   3.67279083e-01,   6.02165759e-01,\n",
      "         -7.63887286e-01,  -2.44706869e-01,   4.57680285e-01,\n",
      "         -5.38642466e-01,  -3.59722376e-01,   4.16689217e-01,\n",
      "          9.75254104e-02,  -3.25297147e-01,  -8.97416234e-01,\n",
      "          2.41557866e-01,   1.93271041e-01,   8.92988622e-01,\n",
      "         -6.32508218e-01,  -1.19834207e-01,  -9.54229943e-03,\n",
      "          3.49003881e-01,   5.01644194e-01,  -1.56385517e+00,\n",
      "         -7.81798184e-01,  -1.53312739e-02,   2.69080520e-01,\n",
      "         -8.08477625e-02,   1.71411917e-01,   2.35774532e-01,\n",
      "          8.14229175e-02,  -2.33359244e-02,  -6.87734306e-01,\n",
      "         -9.35837090e-01],\n",
      "       [ -7.53687859e-01,   5.92983067e-01,  -7.80246735e-01,\n",
      "         -6.86553419e-01,  -1.91808864e-01,   4.83224839e-01,\n",
      "          9.51799393e-01,  -5.43216825e-01,  -1.52058864e+00,\n",
      "          8.83769840e-02,  -2.17364997e-01,  -5.62291741e-01,\n",
      "         -2.32742429e-01,  -2.85184622e-01,  -6.76827192e-01,\n",
      "          1.56013143e+00,  -5.28849125e-01,   3.30614120e-01,\n",
      "         -5.20162344e-01,  -1.47506058e+00,  -1.79921448e-01,\n",
      "          4.97526154e-02,   5.85362375e-01,  -4.05654997e-01,\n",
      "          3.39066088e-01,  -6.31825566e-01,  -7.61653721e-01,\n",
      "         -7.22981751e-01,  -9.39297006e-02,  -3.31233978e-01,\n",
      "         -3.22252214e-01,  -1.75359622e-01,  -8.26590359e-01,\n",
      "          3.64435524e-01,   6.19132519e-01,   9.98066604e-01,\n",
      "         -2.90930599e-01,  -5.95181212e-02,   2.78935637e-02,\n",
      "         -2.86972582e-01,   1.08236742e+00,  -7.75099635e-01,\n",
      "         -6.49242878e-01,   3.48111689e-01,  -1.68618739e-01,\n",
      "          1.80977315e-01,  -6.38526678e-01,  -1.60272753e+00,\n",
      "         -6.08559847e-01,   1.74304143e-01,   1.34236008e-01,\n",
      "          6.37221813e-01,  -5.49733400e-01,  -9.57561076e-01,\n",
      "          2.71094948e-01,   2.24481195e-01,  -7.45971024e-01,\n",
      "          1.07653335e-01,  -2.93811917e-01,   1.39834926e-01,\n",
      "         -4.93752927e-01,  -7.92431891e-01,  -1.86376750e-01,\n",
      "         -3.27274323e-01],\n",
      "       [ -1.05125666e+00,   7.76617602e-02,  -1.68698776e+00,\n",
      "          1.38396072e+00,  -1.00387836e+00,   6.96465969e-01,\n",
      "          8.82939100e-01,  -1.11455452e+00,  -1.60281077e-01,\n",
      "          1.10733546e-01,   4.68277574e-01,  -2.58035243e-01,\n",
      "          8.10747385e-01,   6.01428747e-01,  -3.43021029e-03,\n",
      "          1.23432422e+00,  -6.91221774e-01,  -1.07365680e+00,\n",
      "         -6.71805859e-01,   3.62984598e-01,   7.64468551e-01,\n",
      "          1.91892695e+00,   3.66076231e-01,   7.67431706e-02,\n",
      "          5.53689063e-01,  -7.10753083e-01,   4.80425119e-01,\n",
      "         -9.76116002e-01,  -3.01528163e-02,   3.09137672e-01,\n",
      "          5.28991580e-01,   6.24621630e-01,   4.68057841e-01,\n",
      "          7.59819243e-03,  -1.43044516e-01,  -4.35824424e-01,\n",
      "          1.71881378e-01,   1.69300377e-01,  -6.76129460e-01,\n",
      "         -4.47643697e-01,   1.15951531e-01,  -1.92273706e-01,\n",
      "          8.26662183e-02,  -2.37436384e-01,   5.48024535e-01,\n",
      "          1.92269534e-01,   8.11034858e-01,   5.52908897e-01,\n",
      "          3.02579820e-01,  -2.04823110e-02,  -2.26531124e+00,\n",
      "          3.93094048e-02,   4.46166843e-02,  -2.20493808e-01,\n",
      "          1.55270860e-01,   3.23102474e-02,  -7.83420265e-01,\n",
      "         -4.17787969e-01,   2.44280487e-01,  -5.95530689e-01,\n",
      "          6.01760030e-01,   5.39415658e-01,  -8.67436379e-02,\n",
      "         -1.95601419e-01],\n",
      "       [ -1.60627276e-01,   1.85691521e-01,  -1.45045280e-01,\n",
      "          1.68557972e-01,  -8.55520606e-01,   3.24403518e-03,\n",
      "          6.14188649e-02,  -1.65563494e-01,  -5.15061736e-01,\n",
      "          1.14916432e+00,   3.92918199e-01,  -2.30225980e-01,\n",
      "          5.33156812e-01,  -4.99503314e-01,  -6.73773065e-02,\n",
      "         -9.26318169e-02,  -2.14129299e-01,  -7.84576416e-01,\n",
      "          6.67706251e-01,  -1.08927824e-01,   3.84543508e-01,\n",
      "         -2.07725674e-01,   9.97353047e-02,   6.17309391e-01,\n",
      "          2.41377637e-01,   4.76421922e-01,   1.08371712e-01,\n",
      "         -2.52041668e-01,  -1.19969594e+00,   2.24733472e-01,\n",
      "         -1.09528685e+00,   4.85702544e-01,   4.10073876e-01,\n",
      "          1.25960052e-01,  -4.38462466e-01,   1.92764141e-02,\n",
      "         -2.51311541e-01,  -1.09680331e+00,  -1.61734849e-01,\n",
      "          1.95469394e-01,   7.73908198e-01,  -1.42308176e-01,\n",
      "         -1.79636423e-02,   1.11983088e-03,   3.13630104e-01,\n",
      "         -2.03370675e-01,   6.42861068e-01,  -1.46077111e-01,\n",
      "         -6.41094148e-01,  -2.14676231e-01,   1.27537578e-01,\n",
      "         -7.26246908e-02,  -3.81073393e-02,   1.05711401e-01,\n",
      "         -1.85443789e-01,   4.88465101e-01,  -9.99544337e-02,\n",
      "         -6.07936621e-01,   4.74999338e-01,  -2.16646180e-01,\n",
      "          8.45032334e-01,   9.45752561e-01,   1.50961623e-01,\n",
      "          5.33181965e-01],\n",
      "       [  4.28914800e-02,   2.70829469e-01,  -2.88025290e-01,\n",
      "         -1.94787309e-01,   3.77795398e-01,  -9.18249562e-02,\n",
      "         -1.14491910e-01,   5.36573052e-01,   2.34531954e-01,\n",
      "          3.14784467e-01,   1.78694993e-01,  -5.31973056e-02,\n",
      "          8.62397328e-02,   1.22250997e-01,  -5.21808267e-01,\n",
      "         -6.73727766e-02,  -2.52128113e-02,  -3.48003536e-01,\n",
      "         -5.84101915e-01,   4.68586504e-01,   6.67856187e-02,\n",
      "         -9.00267005e-01,  -6.75859332e-01,  -3.04077446e-01,\n",
      "         -6.70974672e-01,  -3.15426350e-01,  -3.46716523e-01,\n",
      "          4.28986549e-02,  -6.42765403e-01,   1.92236364e-01,\n",
      "          1.00159012e-01,   2.05858529e-01,  -7.19776079e-02,\n",
      "          3.22502583e-01,   5.20124018e-01,   1.10607512e-01,\n",
      "          3.43189389e-01,  -9.22527630e-04,   5.35854816e-01,\n",
      "         -3.61027233e-02,   4.71028417e-01,   3.27792197e-01,\n",
      "         -3.03112537e-01,   1.36793196e-01,  -1.61192939e-01,\n",
      "          3.58456671e-01,  -3.18115532e-01,   2.77343035e-01,\n",
      "          5.98926730e-02,   2.47302502e-01,   1.35123096e-02,\n",
      "          9.15272310e-02,  -3.71749014e-01,   6.53236955e-02,\n",
      "         -1.07307145e-02,   6.48025393e-01,  -1.86034422e-02,\n",
      "          5.05799174e-01,   2.15434045e-01,  -7.92054310e-02,\n",
      "         -3.94792929e-02,  -3.05894494e-01,   2.76449263e-01,\n",
      "          1.15490131e-01],\n",
      "       [  1.13593385e-01,   7.07119107e-02,  -1.35599151e-01,\n",
      "         -4.57132198e-02,   1.67157784e-01,   3.04429054e-01,\n",
      "         -1.68597236e-01,   2.30853483e-01,   4.07467425e-01,\n",
      "         -7.48095095e-01,   3.27119082e-02,   2.57070214e-01,\n",
      "         -8.10094178e-02,  -2.14328706e-01,   1.66901633e-01,\n",
      "         -4.13399786e-01,   2.24181443e-01,  -1.01376927e+00,\n",
      "          3.27969879e-01,  -1.55134887e-01,   1.32427111e-01,\n",
      "         -1.02845216e-02,   2.85162687e-01,   1.17374375e-01,\n",
      "         -3.87877040e-02,  -2.56676257e-01,  -1.43326148e-01,\n",
      "          1.21767484e-01,   7.11558759e-01,   5.54155558e-02,\n",
      "         -1.36059374e-01,   1.03067391e-01,   4.60963935e-01,\n",
      "         -1.04655080e-01,  -2.40663677e-01,   4.31022763e-01,\n",
      "         -6.03287071e-02,   1.52242169e-01,   4.48680073e-01,\n",
      "          1.11477710e-01,   3.44797403e-01,  -2.01803043e-01,\n",
      "          1.63746178e-01,   8.04067492e-01,   1.34508565e-01,\n",
      "         -1.49917584e-02,  -1.35623217e-01,   7.90087134e-02,\n",
      "          4.84575421e-01,  -1.11002684e-01,  -2.15874836e-01,\n",
      "         -4.68817204e-02,  -7.49835223e-02,   1.06859885e-01,\n",
      "         -1.94077373e-01,   2.18865946e-01,   2.12932780e-01,\n",
      "         -4.17666733e-01,  -1.12792206e+00,   3.72518569e-01,\n",
      "          4.66484070e-01,   2.61098117e-01,  -1.89411268e-02,\n",
      "          2.06835434e-01]], dtype=float32), array([-0.59384269,  0.3125557 , -0.19367032,  0.24392828, -0.38553172,\n",
      "        0.24416338,  0.33951312, -0.29939759,  0.01125741, -0.41670388,\n",
      "       -0.49847478, -0.298565  ,  0.17023632,  0.39670217,  0.3382439 ,\n",
      "        0.01375628, -0.30249622,  0.29690775,  0.2118673 , -0.01730202,\n",
      "        0.17928019,  0.0260652 ,  0.27238914,  0.17437643,  0.15805748,\n",
      "        0.87893826, -0.19562045, -0.29667711, -0.06642563, -0.29396313,\n",
      "        0.26192933,  0.2586562 , -0.28370425, -0.21213399,  0.21191883,\n",
      "        0.18888557, -0.02969033,  0.3018145 , -0.33175302, -0.09701303,\n",
      "       -0.24256386, -0.18942954, -0.29992887,  0.50915343,  0.03272545,\n",
      "        0.50884223,  0.24470937, -0.01468246,  0.1020314 ,  0.60514814,\n",
      "        0.02122915,  0.26958823, -0.0295115 ,  0.1127674 ,  0.17949367,\n",
      "       -0.17586207, -0.39413899, -0.14583211,  0.16762976,  0.26300156,\n",
      "        0.19666749,  0.1053808 , -0.0132444 , -0.09341558], dtype=float32), array([[ 0.69729036,  1.15937221,  1.20405364, ...,  0.43768331,\n",
      "         0.79880875,  0.94413245],\n",
      "       [ 0.1405018 , -1.19331479, -0.93939322, ...,  0.25048274,\n",
      "        -0.30539036, -1.40524077],\n",
      "       [-0.27117765,  0.83296084,  0.43849638, ...,  0.40643561,\n",
      "        -0.12829481,  0.19663955],\n",
      "       ..., \n",
      "       [ 0.02095345, -0.15066227,  0.29362437, ..., -0.63186705,\n",
      "        -0.29518005,  0.16614363],\n",
      "       [ 0.01992646, -0.02806694,  0.32289451, ...,  0.11867095,\n",
      "        -0.1837548 , -0.05963937],\n",
      "       [ 0.00548857, -0.25098088, -0.28127736, ...,  0.16328791,\n",
      "        -0.35030442, -0.0296671 ]], dtype=float32), array([ 0.20747058, -0.28629285, -0.35720173,  0.27473241, -0.05083698,\n",
      "        0.04056315, -0.04720628, -0.04639018,  0.04481662,  0.30452916,\n",
      "        0.29216328, -0.34180954,  0.07847509, -0.15017955,  0.28361958,\n",
      "        0.19120893,  0.15441674,  0.56942618,  0.35883516, -0.25748596,\n",
      "        0.28510377, -0.13063586, -0.52025372,  0.03918977,  0.24644418,\n",
      "        0.16604967,  0.30937496,  0.04890462, -0.33486035,  0.21751004,\n",
      "        0.00353265,  0.44862324, -0.15921457,  0.38311237, -0.10360564,\n",
      "        0.66407341, -0.0775983 ,  0.74688619,  0.40786394, -0.39684612,\n",
      "        0.13662216,  0.10172947, -0.06722917, -0.02200903,  0.10650071,\n",
      "        0.06791034,  0.00829378,  0.01056244,  0.07263648, -0.06054871,\n",
      "        0.28547913,  0.27392331,  0.06963085, -0.05385562, -0.22181977,\n",
      "       -0.07536743, -0.07371683,  0.03182531, -0.17665714, -0.02285375,\n",
      "       -0.4212462 ,  0.38102129,  0.01609118, -0.40249765], dtype=float32), array([[ -4.00752544e-01,  -6.19545519e-01,  -5.76462990e-05,\n",
      "         -4.17187572e-01],\n",
      "       [ -6.54603839e-01,  -8.86252284e-01,  -7.42586970e-01,\n",
      "         -7.47220337e-01],\n",
      "       [ -1.11648250e+00,  -8.88699353e-01,  -9.38906610e-01,\n",
      "         -6.66001022e-01],\n",
      "       [ -4.44291264e-01,  -6.11546099e-01,  -5.14265120e-01,\n",
      "         -7.07158387e-01],\n",
      "       [ -5.27307153e-01,  -5.70452929e-01,  -7.39773452e-01,\n",
      "         -5.88455677e-01],\n",
      "       [  1.26343226e+00,   9.42079484e-01,   1.44612539e+00,\n",
      "          1.36711538e+00],\n",
      "       [ -6.92093492e-01,  -3.10239941e-01,  -7.30422497e-01,\n",
      "         -4.65527385e-01],\n",
      "       [  2.39141213e-04,   2.80269623e-01,   2.01426297e-02,\n",
      "         -2.20530644e-01],\n",
      "       [ -5.21676779e-01,  -6.00729048e-01,  -3.87392789e-01,\n",
      "         -6.12487197e-01],\n",
      "       [  5.05910277e-01,   1.15458536e+00,   1.23393273e+00,\n",
      "          6.10502779e-01],\n",
      "       [ -3.81198227e-01,  -4.62256908e-01,  -4.08960849e-01,\n",
      "         -7.13766217e-01],\n",
      "       [ -6.88905895e-01,  -1.11775708e+00,  -1.25438273e+00,\n",
      "         -8.59140038e-01],\n",
      "       [  1.37035871e+00,   1.61192405e+00,   1.35647261e+00,\n",
      "          1.40562558e+00],\n",
      "       [ -9.34921443e-01,  -3.37683201e-01,  -5.05266130e-01,\n",
      "         -1.07844532e+00],\n",
      "       [  1.45593214e+00,   1.46924269e+00,   1.72003543e+00,\n",
      "          1.09621716e+00],\n",
      "       [  1.49421394e+00,   4.48886335e-01,   3.60493630e-01,\n",
      "          7.72615194e-01],\n",
      "       [ -5.32820523e-01,  -6.07203066e-01,  -9.07652229e-02,\n",
      "         -8.21271002e-01],\n",
      "       [  2.25178075e+00,   2.67148924e+00,   2.18151855e+00,\n",
      "          2.11331749e+00],\n",
      "       [ -1.20425320e+00,  -1.18165720e+00,  -1.08549607e+00,\n",
      "         -1.64523554e+00],\n",
      "       [ -4.28110391e-01,  -5.83344519e-01,  -8.34867418e-01,\n",
      "         -1.00688899e+00],\n",
      "       [ -4.32258517e-01,  -4.98233616e-01,  -2.93875992e-01,\n",
      "         -4.46497470e-01],\n",
      "       [ -4.40454304e-01,  -9.41908807e-02,  -7.23060489e-01,\n",
      "          3.13761495e-02],\n",
      "       [ -6.16757333e-01,  -4.88875210e-01,  -1.21387446e+00,\n",
      "         -5.50884962e-01],\n",
      "       [ -4.66537386e-01,  -5.38829327e-01,  -7.42423117e-01,\n",
      "         -4.93353695e-01],\n",
      "       [ -1.37542748e+00,  -2.20070553e+00,   5.00567377e-01,\n",
      "         -5.95698893e-01],\n",
      "       [ -8.78802061e-01,  -5.37180781e-01,  -2.53231287e-01,\n",
      "         -7.93395936e-01],\n",
      "       [  1.43247473e+00,   1.40181768e+00,  -5.14907390e-03,\n",
      "          1.50312614e+00],\n",
      "       [  9.75094259e-01,   7.74387360e-01,   1.56123793e+00,\n",
      "          1.26715040e+00],\n",
      "       [ -8.37665141e-01,  -8.75766218e-01,  -8.66439998e-01,\n",
      "         -7.90013969e-01],\n",
      "       [ -4.83888537e-01,  -6.08632624e-01,   5.33664860e-02,\n",
      "         -5.35058558e-01],\n",
      "       [  1.25678062e+00,   1.02066278e+00,   1.16143703e+00,\n",
      "          1.29745913e+00],\n",
      "       [  1.43829322e+00,   1.28545225e+00,   1.49808311e+00,\n",
      "          1.11372256e+00],\n",
      "       [ -6.61309361e-01,  -1.76244333e-01,  -1.78416774e-01,\n",
      "         -1.36064696e+00],\n",
      "       [ -3.50410253e-01,   2.39327028e-01,  -9.39395964e-01,\n",
      "         -6.62968576e-01],\n",
      "       [  1.05918241e+00,   1.20803499e+00,   1.18969929e+00,\n",
      "          1.12507844e+00],\n",
      "       [  7.75092840e-01,   1.27412879e+00,   2.38320637e+00,\n",
      "          1.20562136e+00],\n",
      "       [ -4.23683554e-01,  -3.29138368e-01,  -6.87290907e-01,\n",
      "         -2.35441446e-01],\n",
      "       [ -8.88325453e-01,  -1.00025320e+00,  -1.13940585e+00,\n",
      "         -4.27505136e-01],\n",
      "       [  1.10563576e+00,   1.29446328e+00,   3.62255365e-01,\n",
      "          9.95461583e-01],\n",
      "       [ -6.28427744e-01,  -1.00142920e+00,  -1.39047670e+00,\n",
      "         -6.25520200e-02],\n",
      "       [  9.67896521e-01,   1.46546626e+00,   7.94764042e-01,\n",
      "          1.19185042e+00],\n",
      "       [ -8.12619686e-01,  -5.66287458e-01,  -3.32847267e-01,\n",
      "         -3.66820306e-01],\n",
      "       [  2.34732017e-01,   5.06704450e-02,   9.57336836e-03,\n",
      "          1.76023170e-01],\n",
      "       [ -6.17062092e-01,  -4.45445031e-01,  -5.30209839e-01,\n",
      "         -6.21326804e-01],\n",
      "       [  1.53332675e+00,   1.36456311e+00,   1.75403070e+00,\n",
      "          7.03227460e-01],\n",
      "       [ -5.94088197e-01,  -1.03620327e+00,   1.25028759e-01,\n",
      "         -4.42899942e-01],\n",
      "       [ -6.59534454e-01,  -3.34609956e-01,  -9.41350996e-01,\n",
      "         -5.43142498e-01],\n",
      "       [ -4.59846199e-01,  -1.73627898e-01,  -8.28106225e-01,\n",
      "         -1.31533161e-01],\n",
      "       [  4.37262654e-01,  -5.14880836e-01,  -1.53369284e+00,\n",
      "         -2.74912864e-01],\n",
      "       [ -1.09412283e-01,  -2.19760731e-01,   1.01786941e-01,\n",
      "         -2.86912024e-01],\n",
      "       [ -7.49655008e-01,   5.79175055e-02,   7.86575556e-01,\n",
      "         -8.12763751e-01],\n",
      "       [  1.89869761e+00,   1.89492035e+00,   1.96418619e+00,\n",
      "          1.57974780e+00],\n",
      "       [  1.76765990e+00,   2.10759115e+00,   2.11863422e+00,\n",
      "          1.87920630e+00],\n",
      "       [ -1.45948917e-01,   1.00424618e-01,   7.15809613e-02,\n",
      "         -4.37923819e-02],\n",
      "       [ -6.81316137e-01,  -3.62239361e-01,  -7.48312414e-01,\n",
      "         -6.47464991e-01],\n",
      "       [ -4.74868566e-01,  -6.10003054e-01,  -6.68028772e-01,\n",
      "         -1.78004637e-01],\n",
      "       [ -9.20213103e-01,  -1.00267768e+00,  -3.36301446e-01,\n",
      "         -7.28849411e-01],\n",
      "       [  8.73941462e-03,  -8.25004458e-01,  -7.62465537e-01,\n",
      "         -3.96706849e-01],\n",
      "       [ -3.91972959e-01,  -4.11850244e-01,  -9.34815705e-01,\n",
      "         -5.70649862e-01],\n",
      "       [ -2.24446610e-01,  -1.41098741e-02,   9.13540870e-02,\n",
      "         -1.50419697e-01],\n",
      "       [ -7.24518299e-01,  -1.00641954e+00,  -1.08922851e+00,\n",
      "         -1.99261546e-01],\n",
      "       [  8.50315154e-01,   3.08922529e-01,   1.16580284e+00,\n",
      "          1.62178755e+00],\n",
      "       [ -3.42214048e-01,  -3.31808269e-01,  -6.69062376e-01,\n",
      "         -9.89287317e-01],\n",
      "       [ -6.46172166e-01,  -4.85894412e-01,  -1.09800732e+00,\n",
      "         -5.86868703e-01]], dtype=float32), array([ 0.21021953,  0.05366242,  0.00094146,  0.14317648], dtype=float32)]\n"
     ]
    },
    {
     "name": "stdout",
     "output_type": "stream",
     "text": [
      "trial 99\t Score: 1.79396"
     ]
    }
   ],
   "source": [
    "# test and plot\n",
    "test_scores = test(\"dqn_model.h5\")"
   ]
  },
  {
   "cell_type": "code",
   "execution_count": 14,
   "metadata": {},
   "outputs": [
    {
     "data": {
      "image/png": "[encoded data removed]",
      "text/plain": [
       "<Figure size 432x288 with 1 Axes>"
      ]
     },
     "metadata": {},
     "output_type": "display_data"
    }
   ],
   "source": [
    "plot_values(test_scores, \"Trails\", \"Scores\")"
   ]
  },
  {
   "cell_type": "code",
   "execution_count": 15,
   "metadata": {},
   "outputs": [
    {
     "data": {
      "text/plain": [
       "209.86131848921659"
      ]
     },
     "execution_count": 15,
     "metadata": {},
     "output_type": "execute_result"
    }
   ],
   "source": [
    "np.mean(test_scores)"
   ]
  },
  {
   "cell_type": "code",
   "execution_count": 16,
   "metadata": {
    "collapsed": true
   },
   "outputs": [],
   "source": [
    "import pickle\n",
    "pickle.dump(train_scores, open(\"train_scores.p\", \"wb\"))\n",
    "pickle.dump(test_scores, open(\"test_scores.p\", \"wb\"))\n",
    "pickle.dump(epsilons, open(\"epsilons.p\", \"wb\"))"
   ]
  },
  {
   "cell_type": "code",
   "execution_count": 17,
   "metadata": {},
   "outputs": [
    {
     "data": {
      "image/png": "[encoded data removed]",
      "text/plain": [
       "<Figure size 432x288 with 1 Axes>"
      ]
     },
     "metadata": {},
     "output_type": "display_data"
    }
   ],
   "source": [
    "plot_values(epsilons, \"Trails\", \"Epsilons\")"
   ]
  },
  {
   "cell_type": "code",
   "execution_count": null,
   "metadata": {
    "collapsed": true
   },
   "outputs": [],
   "source": []
  }
 ],
 "metadata": {
  "kernelspec": {
   "display_name": "Python 3",
   "language": "python",
   "name": "python3"
  },
  "language_info": {
   "codemirror_mode": {
    "name": "ipython",
    "version": 3
   },
   "file_extension": ".py",
   "mimetype": "text/x-python",
   "name": "python",
   "nbconvert_exporter": "python",
   "pygments_lexer": "ipython3",
   "version": "3.6.3"
  }
 },
 "nbformat": 4,
 "nbformat_minor": 2
}
