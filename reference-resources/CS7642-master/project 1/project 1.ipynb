{
 "cells": [
  {
   "cell_type": "code",
   "execution_count": 1,
   "metadata": {
    "collapsed": true
   },
   "outputs": [],
   "source": [
    "import numpy as np\n",
    "import random \n",
    "import pandas as pd\n",
    "import matplotlib.pyplot as plt\n",
    "import pickle"
   ]
  },
  {
   "cell_type": "code",
   "execution_count": 2,
   "metadata": {},
   "outputs": [
    {
     "data": {
      "text/plain": [
       "array([[ 1.,  0.,  0.,  0.,  0.],\n",
       "       [ 0.,  1.,  0.,  0.,  0.],\n",
       "       [ 0.,  0.,  1.,  0.,  0.],\n",
       "       [ 0.,  0.,  0.,  1.,  0.],\n",
       "       [ 0.,  0.,  0.,  0.,  1.]])"
      ]
     },
     "execution_count": 2,
     "metadata": {},
     "output_type": "execute_result"
    }
   ],
   "source": [
    "# Part 1 \n",
    "# Calculate the theoretical true value of w\n",
    "I = np.identity(5)\n",
    "I"
   ]
  },
  {
   "cell_type": "code",
   "execution_count": 3,
   "metadata": {},
   "outputs": [
    {
     "data": {
      "text/plain": [
       "array([[ 0. ,  0.5,  0. ,  0. ,  0. ],\n",
       "       [ 0.5,  0. ,  0.5,  0. ,  0. ],\n",
       "       [ 0. ,  0.5,  0. ,  0.5,  0. ],\n",
       "       [ 0. ,  0. ,  0.5,  0. ,  0.5],\n",
       "       [ 0. ,  0. ,  0. ,  0.5,  0. ]])"
      ]
     },
     "execution_count": 3,
     "metadata": {},
     "output_type": "execute_result"
    }
   ],
   "source": [
    "Q = np.array([\n",
    "            [0,0.5,0,0,0],\n",
    "            [0.5,0,0.5,0,0],\n",
    "            [0,0.5,0,0.5,0],\n",
    "            [0,0,0.5,0,0.5],\n",
    "            [0,0,0,0.5,0]\n",
    "            ])\n",
    "Q"
   ]
  },
  {
   "cell_type": "code",
   "execution_count": 4,
   "metadata": {},
   "outputs": [
    {
     "data": {
      "text/plain": [
       "array([[ 1. , -0.5,  0. ,  0. ,  0. ],\n",
       "       [-0.5,  1. , -0.5,  0. ,  0. ],\n",
       "       [ 0. , -0.5,  1. , -0.5,  0. ],\n",
       "       [ 0. ,  0. , -0.5,  1. , -0.5],\n",
       "       [ 0. ,  0. ,  0. , -0.5,  1. ]])"
      ]
     },
     "execution_count": 4,
     "metadata": {},
     "output_type": "execute_result"
    }
   ],
   "source": [
    "I-Q"
   ]
  },
  {
   "cell_type": "code",
   "execution_count": 5,
   "metadata": {},
   "outputs": [
    {
     "data": {
      "text/plain": [
       "array([[ 1.66666667,  1.33333333,  1.        ,  0.66666667,  0.33333333],\n",
       "       [ 1.33333333,  2.66666667,  2.        ,  1.33333333,  0.66666667],\n",
       "       [ 1.        ,  2.        ,  3.        ,  2.        ,  1.        ],\n",
       "       [ 0.66666667,  1.33333333,  2.        ,  2.66666667,  1.33333333],\n",
       "       [ 0.33333333,  0.66666667,  1.        ,  1.33333333,  1.66666667]])"
      ]
     },
     "execution_count": 5,
     "metadata": {},
     "output_type": "execute_result"
    }
   ],
   "source": [
    "np.linalg.inv(I-Q)"
   ]
  },
  {
   "cell_type": "code",
   "execution_count": 6,
   "metadata": {},
   "outputs": [
    {
     "data": {
      "text/plain": [
       "array([[ 0. ],\n",
       "       [ 0. ],\n",
       "       [ 0. ],\n",
       "       [ 0. ],\n",
       "       [ 0.5]])"
      ]
     },
     "execution_count": 6,
     "metadata": {},
     "output_type": "execute_result"
    }
   ],
   "source": [
    "h = np.array([0,0,0,0,0.5]).reshape(5,1)\n",
    "h"
   ]
  },
  {
   "cell_type": "code",
   "execution_count": 7,
   "metadata": {},
   "outputs": [
    {
     "data": {
      "text/plain": [
       "array([[ 0.16666667],\n",
       "       [ 0.33333333],\n",
       "       [ 0.5       ],\n",
       "       [ 0.66666667],\n",
       "       [ 0.83333333]])"
      ]
     },
     "execution_count": 7,
     "metadata": {},
     "output_type": "execute_result"
    }
   ],
   "source": [
    "# True value of w\n",
    "t_w = np.dot(np.linalg.inv(I-Q), h)\n",
    "t_w"
   ]
  },
  {
   "cell_type": "code",
   "execution_count": 8,
   "metadata": {
    "collapsed": true
   },
   "outputs": [],
   "source": [
    "# Part 2\n",
    "# Randomly generate the training sets"
   ]
  },
  {
   "cell_type": "code",
   "execution_count": 9,
   "metadata": {
    "collapsed": true
   },
   "outputs": [],
   "source": [
    "state_to_neighbors = {\n",
    "    \"D\": [\"C\",\"E\"],\n",
    "    \"C\": [\"B\",\"D\"],\n",
    "    \"B\": [\"A\",\"C\"],\n",
    "    \"E\": [\"D\",\"F\"],\n",
    "    \"F\": [\"E\",\"G\"]\n",
    "    }\n",
    "\n",
    "state_to_vec = {\n",
    "    \"D\":np.array([[0,0,1,0,0]]).T,\n",
    "    \"C\":np.array([[0,1,0,0,0]]).T,\n",
    "    \"B\":np.array([[1,0,0,0,0]]).T,\n",
    "    \"E\":np.array([[0,0,0,1,0]]).T,\n",
    "    \"F\":np.array([[0,0,0,0,1]]).T\n",
    "}"
   ]
  },
  {
   "cell_type": "code",
   "execution_count": 10,
   "metadata": {
    "collapsed": true
   },
   "outputs": [],
   "source": [
    "# Function to generate the training sequence\n",
    "# seq is the returned random walk sequence in list\n",
    "# seq_vec is the returned random walk sequence in numpy array (one-hot encoding)\n",
    "# reward is the returned reward value (0 or 1)\n",
    "def sequence_generation():\n",
    "    state_to_neighbors = {\n",
    "    \"D\": [\"C\",\"E\"],\n",
    "    \"C\": [\"B\",\"D\"],\n",
    "    \"B\": [\"A\",\"C\"],\n",
    "    \"E\": [\"D\",\"F\"],\n",
    "    \"F\": [\"E\",\"G\"]\n",
    "    }\n",
    "\n",
    "    state_to_vec = {\n",
    "        \"D\":np.array([[0,0,1,0,0]]).T,\n",
    "        \"C\":np.array([[0,1,0,0,0]]).T,\n",
    "        \"B\":np.array([[1,0,0,0,0]]).T,\n",
    "        \"E\":np.array([[0,0,0,1,0]]).T,\n",
    "        \"F\":np.array([[0,0,0,0,1]]).T\n",
    "    }\n",
    "    \n",
    "    initial_state = \"D\"\n",
    "    current_state = initial_state\n",
    "    seq = [current_state]\n",
    "    seq_vec = state_to_vec[current_state]\n",
    "    seq_vec\n",
    "    reward = 0\n",
    "    \n",
    "    while(current_state not in [\"A\",\"G\"]):\n",
    "        next_state = state_to_neighbors[current_state][random.randint(0, 1)]\n",
    "        seq.append(next_state)\n",
    "        if next_state not in [\"A\",\"G\"]:\n",
    "            seq_vec = np.concatenate((seq_vec, state_to_vec[next_state]),axis = 1)\n",
    "        elif next_state == \"G\":\n",
    "            reward = 1\n",
    "        current_state = next_state\n",
    "\n",
    "    return (seq, seq_vec, reward)\n",
    "    "
   ]
  },
  {
   "cell_type": "code",
   "execution_count": 11,
   "metadata": {
    "collapsed": true
   },
   "outputs": [],
   "source": [
    "# define no.of training sets -- 100 training sets\n",
    "# define the no.of random walk state sequences per training set\n",
    "no_training_sets = 100\n",
    "no_sequences = 10"
   ]
  },
  {
   "cell_type": "code",
   "execution_count": 12,
   "metadata": {
    "collapsed": true
   },
   "outputs": [],
   "source": [
    "# init seq, seq_vec and reward to None\n",
    "seq = [[None for j in range(no_sequences)] for i in range(no_training_sets)]\n",
    "seq_vec = [[None for j in range(no_sequences)] for i in range(no_training_sets)]\n",
    "reward = [[None for j in range(no_sequences)] for i in range(no_training_sets)]"
   ]
  },
  {
   "cell_type": "code",
   "execution_count": 13,
   "metadata": {
    "collapsed": true
   },
   "outputs": [],
   "source": [
    "# Generate seq, seq_vec and reward for 100 training sets\n",
    "for i in range(no_training_sets):\n",
    "    for j in range(no_sequences):\n",
    "        seq[i][j], seq_vec[i][j], reward[i][j] = sequence_generation()   "
   ]
  },
  {
   "cell_type": "code",
   "execution_count": 14,
   "metadata": {
    "collapsed": true
   },
   "outputs": [],
   "source": [
    "# save the variables for reproducible results\n",
    "pickle.dump(seq, open(\"seq_new.p\", \"wb\"))\n",
    "pickle.dump(seq_vec, open(\"seq_vec_new.p\", \"wb\"))\n",
    "pickle.dump(reward, open(\"reward_new.p\", \"wb\"))"
   ]
  },
  {
   "cell_type": "code",
   "execution_count": 15,
   "metadata": {
    "collapsed": true
   },
   "outputs": [],
   "source": [
    "# load previously saved variables for reproducible results\n",
    "seq = pickle.load( open(\"seq.p\", \"rb\") )\n",
    "seq_vec = pickle.load(open(\"seq_vec.p\",\"rb\"))\n",
    "reward = pickle.load(open(\"reward.p\",\"rb\"))"
   ]
  },
  {
   "cell_type": "code",
   "execution_count": 16,
   "metadata": {},
   "outputs": [
    {
     "data": {
      "text/plain": [
       "{0: 0.0, 0.1: 0.0, 0.3: 0.0, 0.5: 0.0, 0.7: 0.0, 0.9: 0.0, 1.0: 0.0}"
      ]
     },
     "execution_count": 16,
     "metadata": {},
     "output_type": "execute_result"
    }
   ],
   "source": [
    "# Part 3 Traing Process\n",
    "# Figure 3 Reproduction\n",
    "\n",
    "# init a dictionary to store the error metric for different lambda\n",
    "rmse_dict = {\n",
    "    0: 0.0,\n",
    "    0.1: 0.0,\n",
    "    0.3: 0.0,\n",
    "    0.5: 0.0,\n",
    "    0.7: 0.0,\n",
    "    0.9: 0.0,\n",
    "    1.0: 0.0\n",
    "}\n",
    "rmse_dict"
   ]
  },
  {
   "cell_type": "code",
   "execution_count": 17,
   "metadata": {},
   "outputs": [
    {
     "data": {
      "text/plain": [
       "[0, 0.1, 0.3, 0.5, 0.7, 0.9, 1.0]"
      ]
     },
     "execution_count": 17,
     "metadata": {},
     "output_type": "execute_result"
    }
   ],
   "source": [
    "ldb_list = [0, 0.1, 0.3, 0.5, 0.7, 0.9, 1.0]\n",
    "ldb_list"
   ]
  },
  {
   "cell_type": "code",
   "execution_count": 18,
   "metadata": {},
   "outputs": [],
   "source": [
    "# Calculate rmse for different lambda values of experiment 1 (Figure 3)\n",
    "for lbd in ldb_list:\n",
    "    #print(\"lambda:\", lbd)\n",
    "    for i in range(no_training_sets):\n",
    "        # init the parameters, alpha, epsilon, weights and error\n",
    "        alp = 0.01\n",
    "        epl = 0.001\n",
    "        w = np.array([[0.5,0.5,0.5,0.5,0.5]]).T\n",
    "        err = np.array([[0,0,0,0,0]]).T     \n",
    "        \n",
    "        # loop till convergence\n",
    "        while(1):\n",
    "            w_old = w\n",
    "            # init the acculate delta weight across sequences within the training set\n",
    "            dw_acc = np.array([[0,0,0,0,0]]).T\n",
    "            for j in range(no_sequences):\n",
    "                err = np.array([[0,0,0,0,0]]).T\n",
    "                dw = np.array([[0,0,0,0,0]]).T\n",
    "                for k in range((seq_vec[i][j]).shape[1]):\n",
    "                    err = lbd * err + seq_vec[i][j][:,[k]]\n",
    "                    # case at terminal state (A or G)\n",
    "                    if k == (seq_vec[i][j]).shape[1] -1 :\n",
    "                        dw = dw + alp * (reward[i][j] - np.dot(w.T, seq_vec[i][j][:,[k]])) * err\n",
    "                    # case at non-terminal state (B,C,D,E,F) \n",
    "                    else:\n",
    "                        dw = dw + alp * (np.dot(w.T, seq_vec[i][j][:,[k+1]]) \n",
    "                                     - np.dot(w.T, seq_vec[i][j][:,[k]])) * err\n",
    "                dw_acc = dw_acc + dw\n",
    "            # update w after a complete training set (after 10 training sequences)\n",
    "            w = w + dw_acc\n",
    "            # stoping criteria\n",
    "            if (np.linalg.norm(w_old-w) <= epl):\n",
    "                break\n",
    "\n",
    "        rmse_dict[lbd] += np.sqrt(np.mean((w-t_w)**2))\n",
    "        #print(\"W:\", w)\n",
    "        #print(\"rmse\",rmse_dict[lbd])\n",
    "        \n",
    "        "
   ]
  },
  {
   "cell_type": "code",
   "execution_count": 19,
   "metadata": {
    "scrolled": true
   },
   "outputs": [
    {
     "data": {
      "text/plain": [
       "{0: 10.615008632091953,\n",
       " 0.1: 10.737684425731135,\n",
       " 0.3: 11.054546844508144,\n",
       " 0.5: 11.540204623640339,\n",
       " 0.7: 12.407215777345904,\n",
       " 0.9: 14.60003886157887,\n",
       " 1.0: 18.11561070810243}"
      ]
     },
     "execution_count": 19,
     "metadata": {},
     "output_type": "execute_result"
    }
   ],
   "source": [
    "rmse_dict"
   ]
  },
  {
   "cell_type": "code",
   "execution_count": 20,
   "metadata": {},
   "outputs": [
    {
     "data": {
      "text/html": [
       "<div>\n",
       "<style>\n",
       "    .dataframe thead tr:only-child th {\n",
       "        text-align: right;\n",
       "    }\n",
       "\n",
       "    .dataframe thead th {\n",
       "        text-align: left;\n",
       "    }\n",
       "\n",
       "    .dataframe tbody tr th {\n",
       "        vertical-align: top;\n",
       "    }\n",
       "</style>\n",
       "<table border=\"1\" class=\"dataframe\">\n",
       "  <thead>\n",
       "    <tr style=\"text-align: right;\">\n",
       "      <th></th>\n",
       "      <th>Lambda</th>\n",
       "      <th>ERROR</th>\n",
       "    </tr>\n",
       "  </thead>\n",
       "  <tbody>\n",
       "    <tr>\n",
       "      <th>0</th>\n",
       "      <td>0.0</td>\n",
       "      <td>0.106150</td>\n",
       "    </tr>\n",
       "    <tr>\n",
       "      <th>1</th>\n",
       "      <td>0.1</td>\n",
       "      <td>0.107377</td>\n",
       "    </tr>\n",
       "    <tr>\n",
       "      <th>2</th>\n",
       "      <td>0.3</td>\n",
       "      <td>0.110545</td>\n",
       "    </tr>\n",
       "    <tr>\n",
       "      <th>3</th>\n",
       "      <td>0.5</td>\n",
       "      <td>0.115402</td>\n",
       "    </tr>\n",
       "    <tr>\n",
       "      <th>4</th>\n",
       "      <td>0.7</td>\n",
       "      <td>0.124072</td>\n",
       "    </tr>\n",
       "    <tr>\n",
       "      <th>5</th>\n",
       "      <td>0.9</td>\n",
       "      <td>0.146000</td>\n",
       "    </tr>\n",
       "    <tr>\n",
       "      <th>6</th>\n",
       "      <td>1.0</td>\n",
       "      <td>0.181156</td>\n",
       "    </tr>\n",
       "  </tbody>\n",
       "</table>\n",
       "</div>"
      ],
      "text/plain": [
       "   Lambda     ERROR\n",
       "0     0.0  0.106150\n",
       "1     0.1  0.107377\n",
       "2     0.3  0.110545\n",
       "3     0.5  0.115402\n",
       "4     0.7  0.124072\n",
       "5     0.9  0.146000\n",
       "6     1.0  0.181156"
      ]
     },
     "execution_count": 20,
     "metadata": {},
     "output_type": "execute_result"
    }
   ],
   "source": [
    "# figure 3 df\n",
    "rmse_dict_df = pd.DataFrame(list(rmse_dict.items()), columns = [\"Lambda\", \"ERROR\"])\n",
    "rmse_dict_df[[\"ERROR\"]] = rmse_dict_df[[\"ERROR\"]] / no_training_sets\n",
    "rmse_dict_df"
   ]
  },
  {
   "cell_type": "code",
   "execution_count": 21,
   "metadata": {},
   "outputs": [
    {
     "data": {
      "image/png": "[encoded data removed]",
      "text/plain": [
       "<Figure size 432x288 with 1 Axes>"
      ]
     },
     "metadata": {},
     "output_type": "display_data"
    }
   ],
   "source": [
    "# Plot Figure 3\n",
    "rmse_dict_df.plot(x=\"Lambda\", y=\"ERROR\", linestyle='-', marker='o',legend = False)\n",
    "plt.margins(x=0.5, y=0.15)\n",
    "plt.xlim(rmse_dict_df[\"Lambda\"].min()-0.05, rmse_dict_df[\"Lambda\"].max() + 0.05)\n",
    "plt.ylim(rmse_dict_df[\"ERROR\"].min()-0.01, rmse_dict_df[\"ERROR\"].max() + 0.01)\n",
    "plt.ylabel(\"ERROR\")\n",
    "plt.annotate(\"Widrow-Hoff\", xy=(1.0,0.181156), xytext=(0.78,0.181156))\n",
    "plt.show()\n"
   ]
  },
  {
   "cell_type": "code",
   "execution_count": 22,
   "metadata": {
    "collapsed": true
   },
   "outputs": [],
   "source": [
    "# Part 3 Traing Process\n",
    "# Figure 4 Reproduction\n",
    "\n",
    "# init the list of lambda and alpha values\n",
    "ldb_list = [0, 0.1, 0.2, 0.3, 0.4, 0.5, 0.6, 0.7, 0.8, 0.9, 1.0]\n",
    "alp_list = [0.0, 0.05, 0.1, 0.15, 0.2, 0.25, 0.3, 0.35, 0.4, 0.45, 0.5, 0.6]\n",
    "epl = 0.001\n",
    "rmse_fig_4 = {}"
   ]
  },
  {
   "cell_type": "code",
   "execution_count": 23,
   "metadata": {},
   "outputs": [],
   "source": [
    "for lbd in ldb_list:\n",
    "    rmse_fig_4[lbd] = {}\n",
    "    for alp in alp_list:\n",
    "        rmse_fig_4[lbd][alp] = 0\n",
    "#rmse_fig_4"
   ]
  },
  {
   "cell_type": "code",
   "execution_count": 24,
   "metadata": {},
   "outputs": [],
   "source": [
    "# Calculate rmse for different lambda values of experiment 2 (Figure 4 & 5)\n",
    "\n",
    "# iterate thru lambda values\n",
    "for lbd in ldb_list:\n",
    "    # itearte thru alpha values\n",
    "    for alp in alp_list:\n",
    "        #print(\"lambda:\", lbd, \"alpha:\", alp)\n",
    "        for i in range(no_training_sets):\n",
    "            # init no-bias weight w and dw\n",
    "            w = np.array([[0.5,0.5,0.5,0.5,0.5]]).T\n",
    "            for j in range(no_sequences):\n",
    "                err = np.array([[0,0,0,0,0]]).T\n",
    "                dw = np.array([[0,0,0,0,0]]).T\n",
    "                for k in range((seq_vec[i][j]).shape[1]):\n",
    "                    err = lbd * err + seq_vec[i][j][:,[k]]\n",
    "                    # case at terminal state (A or G)\n",
    "                    if k == (seq_vec[i][j]).shape[1] -1 :\n",
    "                        dw = dw + alp * (reward[i][j] - np.dot(w.T, seq_vec[i][j][:,[k]])) * err\n",
    "                    # case at non-terminal state (B,C,D,E,F) \n",
    "                    else:\n",
    "                        dw = dw + alp * (np.dot(w.T, seq_vec[i][j][:,[k+1]]) \n",
    "                                     - np.dot(w.T, seq_vec[i][j][:,[k]])) * err\n",
    "                # update weight after each random walk sequence\n",
    "                w = w + dw\n",
    "            rmse_fig_4[lbd][alp] += np.sqrt(np.mean((w-t_w)**2))\n",
    "        #print(\"W:\", w)\n",
    "        #print(\"rmse\",rmse_fig_4[lbd][alp])\n",
    "    "
   ]
  },
  {
   "cell_type": "code",
   "execution_count": 25,
   "metadata": {},
   "outputs": [],
   "source": [
    "#rmse_fig_4"
   ]
  },
  {
   "cell_type": "code",
   "execution_count": 26,
   "metadata": {},
   "outputs": [
    {
     "data": {
      "text/html": [
       "<div>\n",
       "<style>\n",
       "    .dataframe thead tr:only-child th {\n",
       "        text-align: right;\n",
       "    }\n",
       "\n",
       "    .dataframe thead th {\n",
       "        text-align: left;\n",
       "    }\n",
       "\n",
       "    .dataframe tbody tr th {\n",
       "        vertical-align: top;\n",
       "    }\n",
       "</style>\n",
       "<table border=\"1\" class=\"dataframe\">\n",
       "  <thead>\n",
       "    <tr style=\"text-align: right;\">\n",
       "      <th></th>\n",
       "      <th>Alpha</th>\n",
       "    </tr>\n",
       "  </thead>\n",
       "  <tbody>\n",
       "    <tr>\n",
       "      <th>0</th>\n",
       "      <td>0.00</td>\n",
       "    </tr>\n",
       "    <tr>\n",
       "      <th>1</th>\n",
       "      <td>0.05</td>\n",
       "    </tr>\n",
       "    <tr>\n",
       "      <th>2</th>\n",
       "      <td>0.10</td>\n",
       "    </tr>\n",
       "    <tr>\n",
       "      <th>3</th>\n",
       "      <td>0.15</td>\n",
       "    </tr>\n",
       "    <tr>\n",
       "      <th>4</th>\n",
       "      <td>0.20</td>\n",
       "    </tr>\n",
       "    <tr>\n",
       "      <th>5</th>\n",
       "      <td>0.25</td>\n",
       "    </tr>\n",
       "    <tr>\n",
       "      <th>6</th>\n",
       "      <td>0.30</td>\n",
       "    </tr>\n",
       "    <tr>\n",
       "      <th>7</th>\n",
       "      <td>0.35</td>\n",
       "    </tr>\n",
       "    <tr>\n",
       "      <th>8</th>\n",
       "      <td>0.40</td>\n",
       "    </tr>\n",
       "    <tr>\n",
       "      <th>9</th>\n",
       "      <td>0.45</td>\n",
       "    </tr>\n",
       "    <tr>\n",
       "      <th>10</th>\n",
       "      <td>0.50</td>\n",
       "    </tr>\n",
       "    <tr>\n",
       "      <th>11</th>\n",
       "      <td>0.60</td>\n",
       "    </tr>\n",
       "  </tbody>\n",
       "</table>\n",
       "</div>"
      ],
      "text/plain": [
       "    Alpha\n",
       "0    0.00\n",
       "1    0.05\n",
       "2    0.10\n",
       "3    0.15\n",
       "4    0.20\n",
       "5    0.25\n",
       "6    0.30\n",
       "7    0.35\n",
       "8    0.40\n",
       "9    0.45\n",
       "10   0.50\n",
       "11   0.60"
      ]
     },
     "execution_count": 26,
     "metadata": {},
     "output_type": "execute_result"
    }
   ],
   "source": [
    "# create df for figure 4 plotting\n",
    "rmse_fig_4_df = pd.DataFrame({'Alpha':alp_list})\n",
    "rmse_fig_4_df"
   ]
  },
  {
   "cell_type": "code",
   "execution_count": 27,
   "metadata": {},
   "outputs": [
    {
     "data": {
      "text/html": [
       "<div>\n",
       "<style>\n",
       "    .dataframe thead tr:only-child th {\n",
       "        text-align: right;\n",
       "    }\n",
       "\n",
       "    .dataframe thead th {\n",
       "        text-align: left;\n",
       "    }\n",
       "\n",
       "    .dataframe tbody tr th {\n",
       "        vertical-align: top;\n",
       "    }\n",
       "</style>\n",
       "<table border=\"1\" class=\"dataframe\">\n",
       "  <thead>\n",
       "    <tr style=\"text-align: right;\">\n",
       "      <th></th>\n",
       "      <th>Alpha</th>\n",
       "      <th>Lambda=0</th>\n",
       "      <th>Lambda=0.3</th>\n",
       "      <th>Lambda=0.8</th>\n",
       "      <th>Lambda=1</th>\n",
       "    </tr>\n",
       "  </thead>\n",
       "  <tbody>\n",
       "    <tr>\n",
       "      <th>0</th>\n",
       "      <td>0.00</td>\n",
       "      <td>0.235702</td>\n",
       "      <td>0.235702</td>\n",
       "      <td>0.235702</td>\n",
       "      <td>0.235702</td>\n",
       "    </tr>\n",
       "    <tr>\n",
       "      <th>1</th>\n",
       "      <td>0.05</td>\n",
       "      <td>0.174822</td>\n",
       "      <td>0.165956</td>\n",
       "      <td>0.154321</td>\n",
       "      <td>0.194440</td>\n",
       "    </tr>\n",
       "    <tr>\n",
       "      <th>2</th>\n",
       "      <td>0.10</td>\n",
       "      <td>0.130745</td>\n",
       "      <td>0.120117</td>\n",
       "      <td>0.124662</td>\n",
       "      <td>0.231393</td>\n",
       "    </tr>\n",
       "    <tr>\n",
       "      <th>3</th>\n",
       "      <td>0.15</td>\n",
       "      <td>0.103118</td>\n",
       "      <td>0.095478</td>\n",
       "      <td>0.126921</td>\n",
       "      <td>0.285484</td>\n",
       "    </tr>\n",
       "    <tr>\n",
       "      <th>4</th>\n",
       "      <td>0.20</td>\n",
       "      <td>0.092216</td>\n",
       "      <td>0.089123</td>\n",
       "      <td>0.144499</td>\n",
       "      <td>0.339667</td>\n",
       "    </tr>\n",
       "    <tr>\n",
       "      <th>5</th>\n",
       "      <td>0.25</td>\n",
       "      <td>0.098507</td>\n",
       "      <td>0.097478</td>\n",
       "      <td>0.166960</td>\n",
       "      <td>0.396044</td>\n",
       "    </tr>\n",
       "    <tr>\n",
       "      <th>6</th>\n",
       "      <td>0.30</td>\n",
       "      <td>0.126874</td>\n",
       "      <td>0.117163</td>\n",
       "      <td>0.191320</td>\n",
       "      <td>0.461253</td>\n",
       "    </tr>\n",
       "    <tr>\n",
       "      <th>7</th>\n",
       "      <td>0.35</td>\n",
       "      <td>0.194538</td>\n",
       "      <td>0.147577</td>\n",
       "      <td>0.218183</td>\n",
       "      <td>0.547146</td>\n",
       "    </tr>\n",
       "    <tr>\n",
       "      <th>8</th>\n",
       "      <td>0.40</td>\n",
       "      <td>0.366524</td>\n",
       "      <td>0.195766</td>\n",
       "      <td>0.248708</td>\n",
       "      <td>0.677173</td>\n",
       "    </tr>\n",
       "    <tr>\n",
       "      <th>9</th>\n",
       "      <td>0.45</td>\n",
       "      <td>0.813401</td>\n",
       "      <td>0.275775</td>\n",
       "      <td>0.283062</td>\n",
       "      <td>0.857698</td>\n",
       "    </tr>\n",
       "    <tr>\n",
       "      <th>10</th>\n",
       "      <td>0.50</td>\n",
       "      <td>1.929109</td>\n",
       "      <td>0.410052</td>\n",
       "      <td>0.321269</td>\n",
       "      <td>1.154512</td>\n",
       "    </tr>\n",
       "    <tr>\n",
       "      <th>11</th>\n",
       "      <td>0.60</td>\n",
       "      <td>9.628097</td>\n",
       "      <td>1.007323</td>\n",
       "      <td>0.459513</td>\n",
       "      <td>4.182389</td>\n",
       "    </tr>\n",
       "  </tbody>\n",
       "</table>\n",
       "</div>"
      ],
      "text/plain": [
       "    Alpha  Lambda=0  Lambda=0.3  Lambda=0.8  Lambda=1\n",
       "0    0.00  0.235702    0.235702    0.235702  0.235702\n",
       "1    0.05  0.174822    0.165956    0.154321  0.194440\n",
       "2    0.10  0.130745    0.120117    0.124662  0.231393\n",
       "3    0.15  0.103118    0.095478    0.126921  0.285484\n",
       "4    0.20  0.092216    0.089123    0.144499  0.339667\n",
       "5    0.25  0.098507    0.097478    0.166960  0.396044\n",
       "6    0.30  0.126874    0.117163    0.191320  0.461253\n",
       "7    0.35  0.194538    0.147577    0.218183  0.547146\n",
       "8    0.40  0.366524    0.195766    0.248708  0.677173\n",
       "9    0.45  0.813401    0.275775    0.283062  0.857698\n",
       "10   0.50  1.929109    0.410052    0.321269  1.154512\n",
       "11   0.60  9.628097    1.007323    0.459513  4.182389"
      ]
     },
     "execution_count": 27,
     "metadata": {},
     "output_type": "execute_result"
    }
   ],
   "source": [
    "# figure 4 df\n",
    "# select errors for lambda values of 0, 0.3, 0.8, 1.0 (as shown in the paper)\n",
    "for lbd in [0,0.3,0.8,1]:    \n",
    "    rmse_lbd_df = pd.DataFrame(list(rmse_fig_4[lbd].items()), columns = [\"Alpha\", \"Lambda=\"+str(lbd)])\n",
    "    rmse_lbd_df[[\"Lambda=\"+str(lbd)]] = rmse_lbd_df[[\"Lambda=\"+str(lbd)]] / no_training_sets\n",
    "    rmse_fig_4_df = rmse_fig_4_df.merge(rmse_lbd_df, on=\"Alpha\", how=\"left\")\n",
    "rmse_fig_4_df"
   ]
  },
  {
   "cell_type": "code",
   "execution_count": 28,
   "metadata": {},
   "outputs": [
    {
     "data": {
      "image/png": "[encoded data removed]",
      "text/plain": [
       "<Figure size 432x288 with 1 Axes>"
      ]
     },
     "metadata": {},
     "output_type": "display_data"
    }
   ],
   "source": [
    "# Plot Figure 4\n",
    "plt.plot(\"Alpha\",\"Lambda=0\", data=rmse_fig_4_df, marker='o')\n",
    "plt.plot(\"Alpha\",\"Lambda=0.3\", data=rmse_fig_4_df, marker='o')\n",
    "plt.plot(\"Alpha\",\"Lambda=0.8\", data=rmse_fig_4_df, marker='o')\n",
    "plt.plot(\"Alpha\",\"Lambda=1\", data=rmse_fig_4_df, marker='o')     \n",
    "plt.legend()\n",
    "plt.margins(x=0.5, y=0.15)\n",
    "plt.xlim(-0.05, 0.65)\n",
    "plt.ylim(0.05, 0.75)\n",
    "plt.ylabel(\"ERROR\")\n",
    "plt.xlabel(\"Alpha\")\n",
    "plt.show()"
   ]
  },
  {
   "cell_type": "code",
   "execution_count": 29,
   "metadata": {},
   "outputs": [
    {
     "data": {
      "text/html": [
       "<div>\n",
       "<style>\n",
       "    .dataframe thead tr:only-child th {\n",
       "        text-align: right;\n",
       "    }\n",
       "\n",
       "    .dataframe thead th {\n",
       "        text-align: left;\n",
       "    }\n",
       "\n",
       "    .dataframe tbody tr th {\n",
       "        vertical-align: top;\n",
       "    }\n",
       "</style>\n",
       "<table border=\"1\" class=\"dataframe\">\n",
       "  <thead>\n",
       "    <tr style=\"text-align: right;\">\n",
       "      <th></th>\n",
       "      <th>Alpha</th>\n",
       "    </tr>\n",
       "  </thead>\n",
       "  <tbody>\n",
       "    <tr>\n",
       "      <th>0</th>\n",
       "      <td>0.00</td>\n",
       "    </tr>\n",
       "    <tr>\n",
       "      <th>1</th>\n",
       "      <td>0.05</td>\n",
       "    </tr>\n",
       "    <tr>\n",
       "      <th>2</th>\n",
       "      <td>0.10</td>\n",
       "    </tr>\n",
       "    <tr>\n",
       "      <th>3</th>\n",
       "      <td>0.15</td>\n",
       "    </tr>\n",
       "    <tr>\n",
       "      <th>4</th>\n",
       "      <td>0.20</td>\n",
       "    </tr>\n",
       "    <tr>\n",
       "      <th>5</th>\n",
       "      <td>0.25</td>\n",
       "    </tr>\n",
       "    <tr>\n",
       "      <th>6</th>\n",
       "      <td>0.30</td>\n",
       "    </tr>\n",
       "    <tr>\n",
       "      <th>7</th>\n",
       "      <td>0.35</td>\n",
       "    </tr>\n",
       "    <tr>\n",
       "      <th>8</th>\n",
       "      <td>0.40</td>\n",
       "    </tr>\n",
       "    <tr>\n",
       "      <th>9</th>\n",
       "      <td>0.45</td>\n",
       "    </tr>\n",
       "    <tr>\n",
       "      <th>10</th>\n",
       "      <td>0.50</td>\n",
       "    </tr>\n",
       "    <tr>\n",
       "      <th>11</th>\n",
       "      <td>0.60</td>\n",
       "    </tr>\n",
       "  </tbody>\n",
       "</table>\n",
       "</div>"
      ],
      "text/plain": [
       "    Alpha\n",
       "0    0.00\n",
       "1    0.05\n",
       "2    0.10\n",
       "3    0.15\n",
       "4    0.20\n",
       "5    0.25\n",
       "6    0.30\n",
       "7    0.35\n",
       "8    0.40\n",
       "9    0.45\n",
       "10   0.50\n",
       "11   0.60"
      ]
     },
     "execution_count": 29,
     "metadata": {},
     "output_type": "execute_result"
    }
   ],
   "source": [
    "# Part 3 Traing Process\n",
    "# Figure 5 Reproduction\n",
    "\n",
    "# create df for figure 4 plotting\n",
    "rmse_fig_5_df = pd.DataFrame({'Alpha':alp_list})\n",
    "rmse_fig_5_df"
   ]
  },
  {
   "cell_type": "code",
   "execution_count": 30,
   "metadata": {},
   "outputs": [
    {
     "data": {
      "text/html": [
       "<div>\n",
       "<style>\n",
       "    .dataframe thead tr:only-child th {\n",
       "        text-align: right;\n",
       "    }\n",
       "\n",
       "    .dataframe thead th {\n",
       "        text-align: left;\n",
       "    }\n",
       "\n",
       "    .dataframe tbody tr th {\n",
       "        vertical-align: top;\n",
       "    }\n",
       "</style>\n",
       "<table border=\"1\" class=\"dataframe\">\n",
       "  <thead>\n",
       "    <tr style=\"text-align: right;\">\n",
       "      <th></th>\n",
       "      <th>Alpha</th>\n",
       "      <th>Lambda=0</th>\n",
       "      <th>Lambda=0.1</th>\n",
       "      <th>Lambda=0.2</th>\n",
       "      <th>Lambda=0.3</th>\n",
       "      <th>Lambda=0.4</th>\n",
       "      <th>Lambda=0.5</th>\n",
       "      <th>Lambda=0.6</th>\n",
       "      <th>Lambda=0.7</th>\n",
       "      <th>Lambda=0.8</th>\n",
       "      <th>Lambda=0.9</th>\n",
       "      <th>Lambda=1.0</th>\n",
       "    </tr>\n",
       "  </thead>\n",
       "  <tbody>\n",
       "    <tr>\n",
       "      <th>0</th>\n",
       "      <td>0.00</td>\n",
       "      <td>0.235702</td>\n",
       "      <td>0.235702</td>\n",
       "      <td>0.235702</td>\n",
       "      <td>0.235702</td>\n",
       "      <td>0.235702</td>\n",
       "      <td>0.235702</td>\n",
       "      <td>0.235702</td>\n",
       "      <td>0.235702</td>\n",
       "      <td>0.235702</td>\n",
       "      <td>0.235702</td>\n",
       "      <td>0.235702</td>\n",
       "    </tr>\n",
       "    <tr>\n",
       "      <th>1</th>\n",
       "      <td>0.05</td>\n",
       "      <td>0.174822</td>\n",
       "      <td>0.171979</td>\n",
       "      <td>0.169020</td>\n",
       "      <td>0.165956</td>\n",
       "      <td>0.162824</td>\n",
       "      <td>0.159711</td>\n",
       "      <td>0.156821</td>\n",
       "      <td>0.154621</td>\n",
       "      <td>0.154321</td>\n",
       "      <td>0.159879</td>\n",
       "      <td>0.194440</td>\n",
       "    </tr>\n",
       "    <tr>\n",
       "      <th>2</th>\n",
       "      <td>0.10</td>\n",
       "      <td>0.130745</td>\n",
       "      <td>0.127071</td>\n",
       "      <td>0.123489</td>\n",
       "      <td>0.120117</td>\n",
       "      <td>0.117169</td>\n",
       "      <td>0.115020</td>\n",
       "      <td>0.114365</td>\n",
       "      <td>0.116567</td>\n",
       "      <td>0.124662</td>\n",
       "      <td>0.147480</td>\n",
       "      <td>0.231393</td>\n",
       "    </tr>\n",
       "    <tr>\n",
       "      <th>3</th>\n",
       "      <td>0.15</td>\n",
       "      <td>0.103118</td>\n",
       "      <td>0.099931</td>\n",
       "      <td>0.097314</td>\n",
       "      <td>0.095478</td>\n",
       "      <td>0.094808</td>\n",
       "      <td>0.095954</td>\n",
       "      <td>0.100032</td>\n",
       "      <td>0.109006</td>\n",
       "      <td>0.126921</td>\n",
       "      <td>0.165987</td>\n",
       "      <td>0.285484</td>\n",
       "    </tr>\n",
       "    <tr>\n",
       "      <th>4</th>\n",
       "      <td>0.20</td>\n",
       "      <td>0.092216</td>\n",
       "      <td>0.089844</td>\n",
       "      <td>0.088752</td>\n",
       "      <td>0.089123</td>\n",
       "      <td>0.091407</td>\n",
       "      <td>0.096362</td>\n",
       "      <td>0.105138</td>\n",
       "      <td>0.119640</td>\n",
       "      <td>0.144499</td>\n",
       "      <td>0.195453</td>\n",
       "      <td>0.339667</td>\n",
       "    </tr>\n",
       "    <tr>\n",
       "      <th>5</th>\n",
       "      <td>0.25</td>\n",
       "      <td>0.098507</td>\n",
       "      <td>0.095898</td>\n",
       "      <td>0.095600</td>\n",
       "      <td>0.097478</td>\n",
       "      <td>0.101769</td>\n",
       "      <td>0.109008</td>\n",
       "      <td>0.120221</td>\n",
       "      <td>0.137630</td>\n",
       "      <td>0.166960</td>\n",
       "      <td>0.227344</td>\n",
       "      <td>0.396044</td>\n",
       "    </tr>\n",
       "    <tr>\n",
       "      <th>6</th>\n",
       "      <td>0.30</td>\n",
       "      <td>0.126874</td>\n",
       "      <td>0.119148</td>\n",
       "      <td>0.116366</td>\n",
       "      <td>0.117163</td>\n",
       "      <td>0.121079</td>\n",
       "      <td>0.128317</td>\n",
       "      <td>0.139933</td>\n",
       "      <td>0.158640</td>\n",
       "      <td>0.191320</td>\n",
       "      <td>0.259931</td>\n",
       "      <td>0.461253</td>\n",
       "    </tr>\n",
       "    <tr>\n",
       "      <th>7</th>\n",
       "      <td>0.35</td>\n",
       "      <td>0.194538</td>\n",
       "      <td>0.165214</td>\n",
       "      <td>0.152438</td>\n",
       "      <td>0.147577</td>\n",
       "      <td>0.148013</td>\n",
       "      <td>0.153129</td>\n",
       "      <td>0.163720</td>\n",
       "      <td>0.182699</td>\n",
       "      <td>0.218183</td>\n",
       "      <td>0.294617</td>\n",
       "      <td>0.547146</td>\n",
       "    </tr>\n",
       "    <tr>\n",
       "      <th>8</th>\n",
       "      <td>0.40</td>\n",
       "      <td>0.366524</td>\n",
       "      <td>0.260129</td>\n",
       "      <td>0.216258</td>\n",
       "      <td>0.195766</td>\n",
       "      <td>0.186829</td>\n",
       "      <td>0.185902</td>\n",
       "      <td>0.192889</td>\n",
       "      <td>0.210860</td>\n",
       "      <td>0.248708</td>\n",
       "      <td>0.332389</td>\n",
       "      <td>0.677173</td>\n",
       "    </tr>\n",
       "    <tr>\n",
       "      <th>9</th>\n",
       "      <td>0.45</td>\n",
       "      <td>0.813401</td>\n",
       "      <td>0.467255</td>\n",
       "      <td>0.335519</td>\n",
       "      <td>0.275775</td>\n",
       "      <td>0.245691</td>\n",
       "      <td>0.231668</td>\n",
       "      <td>0.230075</td>\n",
       "      <td>0.244182</td>\n",
       "      <td>0.283062</td>\n",
       "      <td>0.374504</td>\n",
       "      <td>0.857698</td>\n",
       "    </tr>\n",
       "    <tr>\n",
       "      <th>10</th>\n",
       "      <td>0.50</td>\n",
       "      <td>1.929109</td>\n",
       "      <td>0.921013</td>\n",
       "      <td>0.561901</td>\n",
       "      <td>0.410052</td>\n",
       "      <td>0.335378</td>\n",
       "      <td>0.295783</td>\n",
       "      <td>0.278197</td>\n",
       "      <td>0.283982</td>\n",
       "      <td>0.321269</td>\n",
       "      <td>0.423035</td>\n",
       "      <td>1.154512</td>\n",
       "    </tr>\n",
       "    <tr>\n",
       "      <th>11</th>\n",
       "      <td>0.60</td>\n",
       "      <td>9.628097</td>\n",
       "      <td>3.666813</td>\n",
       "      <td>1.752431</td>\n",
       "      <td>1.007323</td>\n",
       "      <td>0.670662</td>\n",
       "      <td>0.502794</td>\n",
       "      <td>0.437108</td>\n",
       "      <td>0.417496</td>\n",
       "      <td>0.459513</td>\n",
       "      <td>0.770293</td>\n",
       "      <td>4.182389</td>\n",
       "    </tr>\n",
       "  </tbody>\n",
       "</table>\n",
       "</div>"
      ],
      "text/plain": [
       "    Alpha  Lambda=0  Lambda=0.1  Lambda=0.2  Lambda=0.3  Lambda=0.4  \\\n",
       "0    0.00  0.235702    0.235702    0.235702    0.235702    0.235702   \n",
       "1    0.05  0.174822    0.171979    0.169020    0.165956    0.162824   \n",
       "2    0.10  0.130745    0.127071    0.123489    0.120117    0.117169   \n",
       "3    0.15  0.103118    0.099931    0.097314    0.095478    0.094808   \n",
       "4    0.20  0.092216    0.089844    0.088752    0.089123    0.091407   \n",
       "5    0.25  0.098507    0.095898    0.095600    0.097478    0.101769   \n",
       "6    0.30  0.126874    0.119148    0.116366    0.117163    0.121079   \n",
       "7    0.35  0.194538    0.165214    0.152438    0.147577    0.148013   \n",
       "8    0.40  0.366524    0.260129    0.216258    0.195766    0.186829   \n",
       "9    0.45  0.813401    0.467255    0.335519    0.275775    0.245691   \n",
       "10   0.50  1.929109    0.921013    0.561901    0.410052    0.335378   \n",
       "11   0.60  9.628097    3.666813    1.752431    1.007323    0.670662   \n",
       "\n",
       "    Lambda=0.5  Lambda=0.6  Lambda=0.7  Lambda=0.8  Lambda=0.9  Lambda=1.0  \n",
       "0     0.235702    0.235702    0.235702    0.235702    0.235702    0.235702  \n",
       "1     0.159711    0.156821    0.154621    0.154321    0.159879    0.194440  \n",
       "2     0.115020    0.114365    0.116567    0.124662    0.147480    0.231393  \n",
       "3     0.095954    0.100032    0.109006    0.126921    0.165987    0.285484  \n",
       "4     0.096362    0.105138    0.119640    0.144499    0.195453    0.339667  \n",
       "5     0.109008    0.120221    0.137630    0.166960    0.227344    0.396044  \n",
       "6     0.128317    0.139933    0.158640    0.191320    0.259931    0.461253  \n",
       "7     0.153129    0.163720    0.182699    0.218183    0.294617    0.547146  \n",
       "8     0.185902    0.192889    0.210860    0.248708    0.332389    0.677173  \n",
       "9     0.231668    0.230075    0.244182    0.283062    0.374504    0.857698  \n",
       "10    0.295783    0.278197    0.283982    0.321269    0.423035    1.154512  \n",
       "11    0.502794    0.437108    0.417496    0.459513    0.770293    4.182389  "
      ]
     },
     "execution_count": 30,
     "metadata": {},
     "output_type": "execute_result"
    }
   ],
   "source": [
    "# create df with all rmse values for each alpha,lambda combination\n",
    "for lbd in ldb_list:    \n",
    "    rmse_lbd_df = pd.DataFrame(list(rmse_fig_4[lbd].items()), columns = [\"Alpha\", \"Lambda=\"+str(lbd)])\n",
    "    rmse_lbd_df[[\"Lambda=\"+str(lbd)]] = rmse_lbd_df[[\"Lambda=\"+str(lbd)]] / no_training_sets\n",
    "    rmse_fig_5_df = rmse_fig_5_df.merge(rmse_lbd_df, on=\"Alpha\", how=\"left\")\n",
    "rmse_fig_5_df"
   ]
  },
  {
   "cell_type": "code",
   "execution_count": 31,
   "metadata": {},
   "outputs": [
    {
     "data": {
      "text/html": [
       "<div>\n",
       "<style>\n",
       "    .dataframe thead tr:only-child th {\n",
       "        text-align: right;\n",
       "    }\n",
       "\n",
       "    .dataframe thead th {\n",
       "        text-align: left;\n",
       "    }\n",
       "\n",
       "    .dataframe tbody tr th {\n",
       "        vertical-align: top;\n",
       "    }\n",
       "</style>\n",
       "<table border=\"1\" class=\"dataframe\">\n",
       "  <thead>\n",
       "    <tr style=\"text-align: right;\">\n",
       "      <th></th>\n",
       "      <th>0</th>\n",
       "    </tr>\n",
       "  </thead>\n",
       "  <tbody>\n",
       "    <tr>\n",
       "      <th>Lambda=0</th>\n",
       "      <td>0.092216</td>\n",
       "    </tr>\n",
       "    <tr>\n",
       "      <th>Lambda=0.1</th>\n",
       "      <td>0.089844</td>\n",
       "    </tr>\n",
       "    <tr>\n",
       "      <th>Lambda=0.2</th>\n",
       "      <td>0.088752</td>\n",
       "    </tr>\n",
       "    <tr>\n",
       "      <th>Lambda=0.3</th>\n",
       "      <td>0.089123</td>\n",
       "    </tr>\n",
       "    <tr>\n",
       "      <th>Lambda=0.4</th>\n",
       "      <td>0.091407</td>\n",
       "    </tr>\n",
       "    <tr>\n",
       "      <th>Lambda=0.5</th>\n",
       "      <td>0.095954</td>\n",
       "    </tr>\n",
       "    <tr>\n",
       "      <th>Lambda=0.6</th>\n",
       "      <td>0.100032</td>\n",
       "    </tr>\n",
       "    <tr>\n",
       "      <th>Lambda=0.7</th>\n",
       "      <td>0.109006</td>\n",
       "    </tr>\n",
       "    <tr>\n",
       "      <th>Lambda=0.8</th>\n",
       "      <td>0.124662</td>\n",
       "    </tr>\n",
       "    <tr>\n",
       "      <th>Lambda=0.9</th>\n",
       "      <td>0.147480</td>\n",
       "    </tr>\n",
       "    <tr>\n",
       "      <th>Lambda=1.0</th>\n",
       "      <td>0.194440</td>\n",
       "    </tr>\n",
       "  </tbody>\n",
       "</table>\n",
       "</div>"
      ],
      "text/plain": [
       "                   0\n",
       "Lambda=0    0.092216\n",
       "Lambda=0.1  0.089844\n",
       "Lambda=0.2  0.088752\n",
       "Lambda=0.3  0.089123\n",
       "Lambda=0.4  0.091407\n",
       "Lambda=0.5  0.095954\n",
       "Lambda=0.6  0.100032\n",
       "Lambda=0.7  0.109006\n",
       "Lambda=0.8  0.124662\n",
       "Lambda=0.9  0.147480\n",
       "Lambda=1.0  0.194440"
      ]
     },
     "execution_count": 31,
     "metadata": {},
     "output_type": "execute_result"
    }
   ],
   "source": [
    "pd.DataFrame(rmse_fig_5_df.iloc[:,1:].min())"
   ]
  },
  {
   "cell_type": "code",
   "execution_count": 32,
   "metadata": {},
   "outputs": [
    {
     "data": {
      "text/html": [
       "<div>\n",
       "<style>\n",
       "    .dataframe thead tr:only-child th {\n",
       "        text-align: right;\n",
       "    }\n",
       "\n",
       "    .dataframe thead th {\n",
       "        text-align: left;\n",
       "    }\n",
       "\n",
       "    .dataframe tbody tr th {\n",
       "        vertical-align: top;\n",
       "    }\n",
       "</style>\n",
       "<table border=\"1\" class=\"dataframe\">\n",
       "  <thead>\n",
       "    <tr style=\"text-align: right;\">\n",
       "      <th></th>\n",
       "      <th>Lambda</th>\n",
       "      <th>ERROR USING BEST ALPHA</th>\n",
       "    </tr>\n",
       "  </thead>\n",
       "  <tbody>\n",
       "    <tr>\n",
       "      <th>0</th>\n",
       "      <td>0.0</td>\n",
       "      <td>0.092216</td>\n",
       "    </tr>\n",
       "    <tr>\n",
       "      <th>1</th>\n",
       "      <td>0.1</td>\n",
       "      <td>0.089844</td>\n",
       "    </tr>\n",
       "    <tr>\n",
       "      <th>2</th>\n",
       "      <td>0.2</td>\n",
       "      <td>0.088752</td>\n",
       "    </tr>\n",
       "    <tr>\n",
       "      <th>3</th>\n",
       "      <td>0.3</td>\n",
       "      <td>0.089123</td>\n",
       "    </tr>\n",
       "    <tr>\n",
       "      <th>4</th>\n",
       "      <td>0.4</td>\n",
       "      <td>0.091407</td>\n",
       "    </tr>\n",
       "    <tr>\n",
       "      <th>5</th>\n",
       "      <td>0.5</td>\n",
       "      <td>0.095954</td>\n",
       "    </tr>\n",
       "    <tr>\n",
       "      <th>6</th>\n",
       "      <td>0.6</td>\n",
       "      <td>0.100032</td>\n",
       "    </tr>\n",
       "    <tr>\n",
       "      <th>7</th>\n",
       "      <td>0.7</td>\n",
       "      <td>0.109006</td>\n",
       "    </tr>\n",
       "    <tr>\n",
       "      <th>8</th>\n",
       "      <td>0.8</td>\n",
       "      <td>0.124662</td>\n",
       "    </tr>\n",
       "    <tr>\n",
       "      <th>9</th>\n",
       "      <td>0.9</td>\n",
       "      <td>0.147480</td>\n",
       "    </tr>\n",
       "    <tr>\n",
       "      <th>10</th>\n",
       "      <td>1.0</td>\n",
       "      <td>0.194440</td>\n",
       "    </tr>\n",
       "  </tbody>\n",
       "</table>\n",
       "</div>"
      ],
      "text/plain": [
       "    Lambda  ERROR USING BEST ALPHA\n",
       "0      0.0                0.092216\n",
       "1      0.1                0.089844\n",
       "2      0.2                0.088752\n",
       "3      0.3                0.089123\n",
       "4      0.4                0.091407\n",
       "5      0.5                0.095954\n",
       "6      0.6                0.100032\n",
       "7      0.7                0.109006\n",
       "8      0.8                0.124662\n",
       "9      0.9                0.147480\n",
       "10     1.0                0.194440"
      ]
     },
     "execution_count": 32,
     "metadata": {},
     "output_type": "execute_result"
    }
   ],
   "source": [
    "# figure 5 df\n",
    "rmse_fig_5_df_final = pd.DataFrame(rmse_fig_5_df.iloc[:,1:].min()).reset_index()\n",
    "rmse_fig_5_df_final.columns = [\"Lambda\",\"ERROR USING BEST ALPHA\"]\n",
    "rmse_fig_5_df_final[[\"Lambda\"]] = rmse_fig_5_df_final[\"Lambda\"].str.replace(\"Lambda=\",\"\").astype(float)\n",
    "rmse_fig_5_df_final"
   ]
  },
  {
   "cell_type": "code",
   "execution_count": 33,
   "metadata": {},
   "outputs": [
    {
     "data": {
      "image/png": "[encoded data removed]",
      "text/plain": [
       "<Figure size 432x288 with 1 Axes>"
      ]
     },
     "metadata": {},
     "output_type": "display_data"
    }
   ],
   "source": [
    "# Plot Figure 5\n",
    "rmse_fig_5_df_final.plot(x=\"Lambda\", y=\"ERROR USING BEST ALPHA\", linestyle='-', marker='o',legend = False)\n",
    "plt.margins(x=0.5, y=0.15)\n",
    "plt.xlim(rmse_fig_5_df_final[\"Lambda\"].min()-0.05, rmse_fig_5_df_final[\"Lambda\"].max() + 0.05)\n",
    "plt.ylim(rmse_fig_5_df_final[\"ERROR USING BEST ALPHA\"].min()-0.01, rmse_fig_5_df_final[\"ERROR USING BEST ALPHA\"].max() + 0.01)\n",
    "plt.ylabel(\"ERROR USING BEST ALPHA\")\n",
    "plt.annotate(\"Widrow-Hoff\", xy=(1.0,0.181156), xytext=(0.78,0.194440))\n",
    "plt.show()\n"
   ]
  },
  {
   "cell_type": "code",
   "execution_count": null,
   "metadata": {
    "collapsed": true
   },
   "outputs": [],
   "source": []
  }
 ],
 "metadata": {
  "kernelspec": {
   "display_name": "Python 3",
   "language": "python",
   "name": "python3"
  },
  "language_info": {
   "codemirror_mode": {
    "name": "ipython",
    "version": 3
   },
   "file_extension": ".py",
   "mimetype": "text/x-python",
   "name": "python",
   "nbconvert_exporter": "python",
   "pygments_lexer": "ipython3",
   "version": "3.6.3"
  }
 },
 "nbformat": 4,
 "nbformat_minor": 2
}
