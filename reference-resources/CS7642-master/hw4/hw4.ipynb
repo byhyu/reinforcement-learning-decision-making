{
 "cells": [
  {
   "cell_type": "markdown",
   "metadata": {},
   "source": [
    "# sample examples of gym library\n",
    "https://gym.openai.com/docs/"
   ]
  },
  {
   "cell_type": "markdown",
   "metadata": {},
   "source": [
    "## MountainCar-v0"
   ]
  },
  {
   "cell_type": "code",
   "execution_count": 1,
   "metadata": {
    "collapsed": true
   },
   "outputs": [],
   "source": [
    "import gym\n",
    "env = gym.make('MountainCar-v0')\n",
    "env.reset()\n",
    "for _ in range(1000):\n",
    "    env.render()\n",
    "    env.step(env.action_space.sample()) # take a random action\n",
    "env.close()"
   ]
  },
  {
   "cell_type": "markdown",
   "metadata": {
    "collapsed": true
   },
   "source": [
    "<img src=\"MountainCar-v0.png\">"
   ]
  },
  {
   "cell_type": "markdown",
   "metadata": {},
   "source": [
    "## CartPole-v0"
   ]
  },
  {
   "cell_type": "code",
   "execution_count": 2,
   "metadata": {
    "scrolled": true
   },
   "outputs": [
    {
     "name": "stdout",
     "output_type": "stream",
     "text": [
      "observation: [ -2.35925599e-04  -1.76082211e-01  -1.43783232e-02   2.76483898e-01]\n",
      "reward: 1.0\n",
      "done: False\n",
      "info: {}\n",
      "observation: [-0.00375757 -0.37099611 -0.00884865  0.56459744]\n",
      "reward: 1.0\n",
      "done: False\n",
      "info: {}\n",
      "observation: [-0.01117749 -0.17575113  0.0024433   0.26913997]\n",
      "reward: 1.0\n",
      "done: False\n",
      "info: {}\n",
      "observation: [-0.01469251 -0.37090787  0.0078261   0.56259253]\n",
      "reward: 1.0\n",
      "done: False\n",
      "info: {}\n",
      "observation: [-0.02211067 -0.56613876  0.01907795  0.85773075]\n",
      "reward: 1.0\n",
      "done: False\n",
      "info: {}\n",
      "observation: [-0.03343345 -0.76151535  0.03623257  1.15635089]\n",
      "reward: 1.0\n",
      "done: False\n",
      "info: {}\n",
      "observation: [-0.04866375 -0.56688401  0.05935959  0.87524553]\n",
      "reward: 1.0\n",
      "done: False\n",
      "info: {}\n",
      "observation: [-0.06000143 -0.76276048  0.0768645   1.18598423]\n",
      "reward: 1.0\n",
      "done: False\n",
      "info: {}\n",
      "observation: [-0.07525664 -0.56871489  0.10058418  0.91835118]\n",
      "reward: 1.0\n",
      "done: False\n",
      "info: {}\n",
      "observation: [-0.08663094 -0.76504219  0.11895121  1.24087558]\n",
      "reward: 1.0\n",
      "done: False\n",
      "info: {}\n"
     ]
    }
   ],
   "source": [
    "env = gym.make('CartPole-v0')\n",
    "for i_episode in range(1):\n",
    "    observation = env.reset()\n",
    "    for t in range(10):\n",
    "        env.render()\n",
    "        #print(observation)\n",
    "        action = env.action_space.sample()\n",
    "        observation, reward, done, info = env.step(action)\n",
    "        print(\"observation:\", observation)\n",
    "        print(\"reward:\", reward)\n",
    "        print(\"done:\", done)\n",
    "        print(\"info:\", info)\n",
    "        if done:\n",
    "            print(\"Episode finished after {} timesteps\".format(t+1))\n",
    "            break\n",
    "env.close()"
   ]
  },
  {
   "cell_type": "markdown",
   "metadata": {},
   "source": [
    "<img src=\"CartPole-v0.png\">"
   ]
  },
  {
   "cell_type": "code",
   "execution_count": 3,
   "metadata": {},
   "outputs": [
    {
     "name": "stdout",
     "output_type": "stream",
     "text": [
      "Box(4,)\n",
      "Discrete(2)\n"
     ]
    }
   ],
   "source": [
    "print(env.observation_space)\n",
    "print(env.action_space)"
   ]
  },
  {
   "cell_type": "code",
   "execution_count": 4,
   "metadata": {},
   "outputs": [
    {
     "name": "stdout",
     "output_type": "stream",
     "text": [
      "[  4.80000019e+00   3.40282347e+38   4.18879032e-01   3.40282347e+38]\n"
     ]
    }
   ],
   "source": [
    "print(env.observation_space.high)"
   ]
  },
  {
   "cell_type": "code",
   "execution_count": 5,
   "metadata": {},
   "outputs": [
    {
     "name": "stdout",
     "output_type": "stream",
     "text": [
      "[ -4.80000019e+00  -3.40282347e+38  -4.18879032e-01  -3.40282347e+38]\n"
     ]
    }
   ],
   "source": [
    "print(env.observation_space.low)"
   ]
  },
  {
   "cell_type": "code",
   "execution_count": 6,
   "metadata": {
    "collapsed": true
   },
   "outputs": [],
   "source": [
    "from gym import spaces\n",
    "space = spaces.Discrete(8) # Set with 8 elements {0, 1, 2, ..., 7}\n",
    "x = space.sample()\n",
    "assert space.contains(x)\n",
    "assert space.n == 8"
   ]
  },
  {
   "cell_type": "markdown",
   "metadata": {},
   "source": [
    "## Taxi-v2"
   ]
  },
  {
   "cell_type": "code",
   "execution_count": 7,
   "metadata": {
    "scrolled": true
   },
   "outputs": [
    {
     "name": "stdout",
     "output_type": "stream",
     "text": [
      "+---------+\n",
      "|\u001b[34;1mR\u001b[0m: | :\u001b[43m \u001b[0m:G|\n",
      "| : : : : |\n",
      "| : : : : |\n",
      "| | : | : |\n",
      "|\u001b[35mY\u001b[0m| : |B: |\n",
      "+---------+\n",
      "\n",
      "state: 62\n",
      "action: 4\n",
      "state_prime: 62\n",
      "reward: -10\n",
      "done: False\n",
      "info: {'prob': 1.0}\n",
      "+---------+\n",
      "|\u001b[34;1mR\u001b[0m: | :\u001b[43m \u001b[0m:G|\n",
      "| : : : : |\n",
      "| : : : : |\n",
      "| | : | : |\n",
      "|\u001b[35mY\u001b[0m| : |B: |\n",
      "+---------+\n",
      "  (Pickup)\n",
      "state: 62\n",
      "action: 2\n",
      "state_prime: 82\n",
      "reward: -1\n",
      "done: False\n",
      "info: {'prob': 1.0}\n",
      "+---------+\n",
      "|\u001b[34;1mR\u001b[0m: | : :\u001b[43mG\u001b[0m|\n",
      "| : : : : |\n",
      "| : : : : |\n",
      "| | : | : |\n",
      "|\u001b[35mY\u001b[0m| : |B: |\n",
      "+---------+\n",
      "  (East)\n",
      "state: 82\n",
      "action: 5\n",
      "state_prime: 82\n",
      "reward: -10\n",
      "done: False\n",
      "info: {'prob': 1.0}\n",
      "+---------+\n",
      "|\u001b[34;1mR\u001b[0m: | : :\u001b[43mG\u001b[0m|\n",
      "| : : : : |\n",
      "| : : : : |\n",
      "| | : | : |\n",
      "|\u001b[35mY\u001b[0m| : |B: |\n",
      "+---------+\n",
      "  (Dropoff)\n",
      "state: 82\n",
      "action: 2\n",
      "state_prime: 82\n",
      "reward: -1\n",
      "done: False\n",
      "info: {'prob': 1.0}\n",
      "+---------+\n",
      "|\u001b[34;1mR\u001b[0m: | : :\u001b[43mG\u001b[0m|\n",
      "| : : : : |\n",
      "| : : : : |\n",
      "| | : | : |\n",
      "|\u001b[35mY\u001b[0m| : |B: |\n",
      "+---------+\n",
      "  (East)\n",
      "state: 82\n",
      "action: 1\n",
      "state_prime: 82\n",
      "reward: -1\n",
      "done: False\n",
      "info: {'prob': 1.0}\n"
     ]
    }
   ],
   "source": [
    "import gym\n",
    "env = gym.make('Taxi-v2')\n",
    "env.reset()\n",
    "\n",
    "for i_episode in range(1):\n",
    "    observation = env.reset()\n",
    "    for t in range(5):\n",
    "        env.render()\n",
    "        print(\"state:\", observation)\n",
    "        action = env.action_space.sample()\n",
    "        print(\"action:\", action)\n",
    "        observation, reward, done, info = env.step(action)\n",
    "        print(\"state_prime:\", observation)\n",
    "        print(\"reward:\", reward)\n",
    "        print(\"done:\", done)\n",
    "        print(\"info:\", info)\n",
    "        if done:\n",
    "            print(\"Episode finished after {} timesteps\".format(t+1))\n",
    "            break"
   ]
  },
  {
   "cell_type": "markdown",
   "metadata": {
    "collapsed": true
   },
   "source": [
    "# Q-Learning on Taxi-v2\n",
    "https://gym.openai.com/envs/Taxi-v2/ <br>\n",
    "https://github.com/openai/gym/blob/master/gym/envs/toy_text/taxi.py <br>\n",
    "Sutton Textbook: 6.5 Q-learning: Off-policy TD Control"
   ]
  },
  {
   "cell_type": "code",
   "execution_count": 8,
   "metadata": {
    "collapsed": true
   },
   "outputs": [],
   "source": [
    "import numpy as np\n",
    "import gym\n",
    "env = gym.make('Taxi-v2')"
   ]
  },
  {
   "cell_type": "markdown",
   "metadata": {},
   "source": [
    "So at the high level, there are two possible situations to describe for passenger: \n",
    "\n",
    "1) At one of the four locations and not yet been picked up\n",
    "\n",
    "2) Have been picked (so passenger's initial position no longer matter and taxi's location is passenger's location)\n",
    "\n",
    "<br>\n",
    "\n",
    "For situation 1): there are four states (four possible pickup locations)\n",
    "\n",
    "For situation 2): there is a single state (in the taxi)\n",
    "\n",
    "Combined situation 1) and 2) --> We have 5 unique states to describe the passenger.\n",
    "\n",
    "<br>\n",
    "\n",
    "Then 4 unique states to describe the destination locations, 25 states to describe taxi current location.\n",
    "\n",
    "So 5\\*4\\*25 = 500 unique states to describe the whole system.\n",
    "\n",
    "https://gym.openai.com/docs/\n"
   ]
  },
  {
   "cell_type": "code",
   "execution_count": 9,
   "metadata": {
    "collapsed": true
   },
   "outputs": [],
   "source": [
    "# init no.of states and actions\n",
    "n_states = 500\n",
    "n_actions = 6\n",
    "\n",
    "# specify no.of iterations \n",
    "iter_max = 250000"
   ]
  },
  {
   "cell_type": "code",
   "execution_count": 10,
   "metadata": {
    "collapsed": true
   },
   "outputs": [],
   "source": [
    "# discount rate gamma\n",
    "gamma = 0.9\n",
    "\n",
    "# learning rate alpha\n",
    "alp = 0.99\n",
    "\n",
    "# epsilon greedy, for each time t, with eps probability randomly take action, \n",
    "# (1-eps) probability take the best action from current Q table\n",
    "# higher eps value means more exploration\n",
    "# lower eps value means more exploitation\n",
    "# the hw asks to find a good balance between exploration and exploitation\n",
    "eps = 0.1\n",
    "\n",
    "# maximum iterations in each episode\n",
    "# in taxi-v2, gym will stop the current episode once taken 200 iteartions\n",
    "t_max = 500"
   ]
  },
  {
   "cell_type": "code",
   "execution_count": 11,
   "metadata": {
    "collapsed": true
   },
   "outputs": [],
   "source": [
    "# global set to store states visited\n",
    "global_visited_states = set()"
   ]
  },
  {
   "cell_type": "code",
   "execution_count": 12,
   "metadata": {},
   "outputs": [],
   "source": [
    "# init Q-value table\n",
    "Q = np.zeros([n_states,n_actions])"
   ]
  },
  {
   "cell_type": "code",
   "execution_count": 13,
   "metadata": {
    "scrolled": true
   },
   "outputs": [
    {
     "name": "stdout",
     "output_type": "stream",
     "text": [
      "episode 0\n",
      "episode 5000\n",
      "episode 10000\n",
      "episode 15000\n",
      "episode 20000\n",
      "episode 25000\n",
      "episode 30000\n",
      "episode 35000\n",
      "episode 40000\n",
      "episode 45000\n",
      "episode 50000\n",
      "episode 55000\n",
      "episode 60000\n",
      "episode 65000\n",
      "episode 70000\n",
      "episode 75000\n",
      "episode 80000\n",
      "episode 85000\n",
      "episode 90000\n",
      "episode 95000\n",
      "episode 100000\n",
      "episode 105000\n",
      "episode 110000\n",
      "episode 115000\n",
      "episode 120000\n",
      "episode 125000\n",
      "episode 130000\n",
      "episode 135000\n",
      "episode 140000\n",
      "episode 145000\n",
      "episode 150000\n",
      "episode 155000\n",
      "episode 160000\n",
      "episode 165000\n",
      "episode 170000\n",
      "episode 175000\n",
      "episode 180000\n",
      "episode 185000\n",
      "episode 190000\n",
      "episode 195000\n",
      "episode 200000\n",
      "episode 205000\n",
      "episode 210000\n",
      "episode 215000\n",
      "episode 220000\n",
      "episode 225000\n",
      "episode 230000\n",
      "episode 235000\n",
      "episode 240000\n",
      "episode 245000\n"
     ]
    }
   ],
   "source": [
    "for i_episode in range(iter_max):\n",
    "    if i_episode % 5000 == 0:\n",
    "        print(\"episode\",i_episode)\n",
    "    \n",
    "    # local set to store states visited in each episode\n",
    "    visted_state = set()\n",
    "    \n",
    "    # start with a new episode on the initial state\n",
    "    state = env.reset()\n",
    "    visted_state.add(state)\n",
    "    \n",
    "    for t in range(t_max):\n",
    "        #env.render()\n",
    "        \n",
    "        # based on prob, perform random action or best action based on current Q-table\n",
    "        prob = np.random.uniform(0, 1)\n",
    "        if prob <= eps:\n",
    "            action = env.action_space.sample()\n",
    "        else:   \n",
    "            action = np.random.choice(np.flatnonzero(Q[state] == Q[state].max()))\n",
    "        \n",
    "        # take the action and get next state, reward\n",
    "        state_prime, reward, done, info = env.step(action)\n",
    "\n",
    "        visted_state.add(state_prime)\n",
    "        \n",
    "        # after action reaches terminal states, perform Q update\n",
    "        if reward == 20:\n",
    "            Q[state][action] = Q[state][action] + alp * (reward + gamma*0 - Q[state][action])\n",
    "            break\n",
    "        \n",
    "        # reach 200 iterations, proceed to a new episode\n",
    "        elif done:\n",
    "            break\n",
    "            \n",
    "        # terminal state is not reached, perform updates on Q table on state before the action\n",
    "        else:\n",
    "            #print(np.amax(Q[state_prime]))\n",
    "            Q[state][action] = Q[state][action] + alp * (reward + gamma*np.amax(Q[state_prime]) - Q[state][action]) \n",
    "        \n",
    "        # prep for a new iteration     \n",
    "        state = state_prime      \n",
    "        \n",
    "    # append visited states to global set\n",
    "    global_visited_states = global_visited_states.union(visted_state)\n",
    "env.close()"
   ]
  },
  {
   "cell_type": "code",
   "execution_count": 14,
   "metadata": {},
   "outputs": [
    {
     "name": "stdout",
     "output_type": "stream",
     "text": [
      "[[  0.           0.           0.           0.           0.           0.        ]\n",
      " [  1.62261467   2.9140163    1.62261467   2.9140163    4.348907\n",
      "   -6.0859837 ]\n",
      " [  4.348907     5.94323      4.348907     5.94323      7.7147      -3.05677   ]\n",
      " ..., \n",
      " [  7.7147       9.683        7.7147       5.94323     -1.2853      -1.2853    ]\n",
      " [  1.62261467   2.91401621   1.54551972   2.9140163   -7.37738533\n",
      "   -7.37738533]\n",
      " [ 14.3         11.87        14.3         17.           5.3          5.3       ]]\n"
     ]
    }
   ],
   "source": [
    "print(Q)"
   ]
  },
  {
   "cell_type": "code",
   "execution_count": 15,
   "metadata": {},
   "outputs": [
    {
     "data": {
      "text/plain": [
       "20.0"
      ]
     },
     "execution_count": 15,
     "metadata": {},
     "output_type": "execute_result"
    }
   ],
   "source": [
    "Q.max()"
   ]
  },
  {
   "cell_type": "code",
   "execution_count": 16,
   "metadata": {},
   "outputs": [
    {
     "data": {
      "text/plain": [
       "(array([  1,   1,   1, ..., 499, 499, 499]), array([0, 1, 2, ..., 3, 4, 5]))"
      ]
     },
     "execution_count": 16,
     "metadata": {},
     "output_type": "execute_result"
    }
   ],
   "source": [
    "np.nonzero(Q)"
   ]
  },
  {
   "cell_type": "code",
   "execution_count": 17,
   "metadata": {
    "scrolled": true
   },
   "outputs": [
    {
     "data": {
      "text/plain": [
       "{87, 99, 107, 127, 147, 167, 179, 187, 199, 227, 279, 379, 475, 479}"
      ]
     },
     "execution_count": 17,
     "metadata": {},
     "output_type": "execute_result"
    }
   ],
   "source": [
    "visted_state"
   ]
  },
  {
   "cell_type": "code",
   "execution_count": 18,
   "metadata": {},
   "outputs": [
    {
     "data": {
      "text/plain": [
       "{0,\n",
       " 1,\n",
       " 2,\n",
       " 3,\n",
       " 4,\n",
       " 6,\n",
       " 7,\n",
       " 8,\n",
       " 9,\n",
       " 11,\n",
       " 12,\n",
       " 13,\n",
       " 14,\n",
       " 16,\n",
       " 17,\n",
       " 18,\n",
       " 19,\n",
       " 21,\n",
       " 22,\n",
       " 23,\n",
       " 24,\n",
       " 26,\n",
       " 27,\n",
       " 28,\n",
       " 29,\n",
       " 31,\n",
       " 32,\n",
       " 33,\n",
       " 34,\n",
       " 36,\n",
       " 37,\n",
       " 38,\n",
       " 39,\n",
       " 41,\n",
       " 42,\n",
       " 43,\n",
       " 44,\n",
       " 46,\n",
       " 47,\n",
       " 48,\n",
       " 49,\n",
       " 51,\n",
       " 52,\n",
       " 53,\n",
       " 54,\n",
       " 56,\n",
       " 57,\n",
       " 58,\n",
       " 59,\n",
       " 61,\n",
       " 62,\n",
       " 63,\n",
       " 64,\n",
       " 66,\n",
       " 67,\n",
       " 68,\n",
       " 69,\n",
       " 71,\n",
       " 72,\n",
       " 73,\n",
       " 74,\n",
       " 76,\n",
       " 77,\n",
       " 78,\n",
       " 79,\n",
       " 81,\n",
       " 82,\n",
       " 83,\n",
       " 84,\n",
       " 85,\n",
       " 86,\n",
       " 87,\n",
       " 88,\n",
       " 89,\n",
       " 91,\n",
       " 92,\n",
       " 93,\n",
       " 94,\n",
       " 96,\n",
       " 97,\n",
       " 98,\n",
       " 99,\n",
       " 101,\n",
       " 102,\n",
       " 103,\n",
       " 104,\n",
       " 106,\n",
       " 107,\n",
       " 108,\n",
       " 109,\n",
       " 111,\n",
       " 112,\n",
       " 113,\n",
       " 114,\n",
       " 116,\n",
       " 117,\n",
       " 118,\n",
       " 119,\n",
       " 121,\n",
       " 122,\n",
       " 123,\n",
       " 124,\n",
       " 126,\n",
       " 127,\n",
       " 128,\n",
       " 129,\n",
       " 131,\n",
       " 132,\n",
       " 133,\n",
       " 134,\n",
       " 136,\n",
       " 137,\n",
       " 138,\n",
       " 139,\n",
       " 141,\n",
       " 142,\n",
       " 143,\n",
       " 144,\n",
       " 146,\n",
       " 147,\n",
       " 148,\n",
       " 149,\n",
       " 151,\n",
       " 152,\n",
       " 153,\n",
       " 154,\n",
       " 156,\n",
       " 157,\n",
       " 158,\n",
       " 159,\n",
       " 161,\n",
       " 162,\n",
       " 163,\n",
       " 164,\n",
       " 166,\n",
       " 167,\n",
       " 168,\n",
       " 169,\n",
       " 171,\n",
       " 172,\n",
       " 173,\n",
       " 174,\n",
       " 176,\n",
       " 177,\n",
       " 178,\n",
       " 179,\n",
       " 181,\n",
       " 182,\n",
       " 183,\n",
       " 184,\n",
       " 186,\n",
       " 187,\n",
       " 188,\n",
       " 189,\n",
       " 191,\n",
       " 192,\n",
       " 193,\n",
       " 194,\n",
       " 196,\n",
       " 197,\n",
       " 198,\n",
       " 199,\n",
       " 201,\n",
       " 202,\n",
       " 203,\n",
       " 204,\n",
       " 206,\n",
       " 207,\n",
       " 208,\n",
       " 209,\n",
       " 211,\n",
       " 212,\n",
       " 213,\n",
       " 214,\n",
       " 216,\n",
       " 217,\n",
       " 218,\n",
       " 219,\n",
       " 221,\n",
       " 222,\n",
       " 223,\n",
       " 224,\n",
       " 226,\n",
       " 227,\n",
       " 228,\n",
       " 229,\n",
       " 231,\n",
       " 232,\n",
       " 233,\n",
       " 234,\n",
       " 236,\n",
       " 237,\n",
       " 238,\n",
       " 239,\n",
       " 241,\n",
       " 242,\n",
       " 243,\n",
       " 244,\n",
       " 246,\n",
       " 247,\n",
       " 248,\n",
       " 249,\n",
       " 251,\n",
       " 252,\n",
       " 253,\n",
       " 254,\n",
       " 256,\n",
       " 257,\n",
       " 258,\n",
       " 259,\n",
       " 261,\n",
       " 262,\n",
       " 263,\n",
       " 264,\n",
       " 266,\n",
       " 267,\n",
       " 268,\n",
       " 269,\n",
       " 271,\n",
       " 272,\n",
       " 273,\n",
       " 274,\n",
       " 276,\n",
       " 277,\n",
       " 278,\n",
       " 279,\n",
       " 281,\n",
       " 282,\n",
       " 283,\n",
       " 284,\n",
       " 286,\n",
       " 287,\n",
       " 288,\n",
       " 289,\n",
       " 291,\n",
       " 292,\n",
       " 293,\n",
       " 294,\n",
       " 296,\n",
       " 297,\n",
       " 298,\n",
       " 299,\n",
       " 301,\n",
       " 302,\n",
       " 303,\n",
       " 304,\n",
       " 306,\n",
       " 307,\n",
       " 308,\n",
       " 309,\n",
       " 311,\n",
       " 312,\n",
       " 313,\n",
       " 314,\n",
       " 316,\n",
       " 317,\n",
       " 318,\n",
       " 319,\n",
       " 321,\n",
       " 322,\n",
       " 323,\n",
       " 324,\n",
       " 326,\n",
       " 327,\n",
       " 328,\n",
       " 329,\n",
       " 331,\n",
       " 332,\n",
       " 333,\n",
       " 334,\n",
       " 336,\n",
       " 337,\n",
       " 338,\n",
       " 339,\n",
       " 341,\n",
       " 342,\n",
       " 343,\n",
       " 344,\n",
       " 346,\n",
       " 347,\n",
       " 348,\n",
       " 349,\n",
       " 351,\n",
       " 352,\n",
       " 353,\n",
       " 354,\n",
       " 356,\n",
       " 357,\n",
       " 358,\n",
       " 359,\n",
       " 361,\n",
       " 362,\n",
       " 363,\n",
       " 364,\n",
       " 366,\n",
       " 367,\n",
       " 368,\n",
       " 369,\n",
       " 371,\n",
       " 372,\n",
       " 373,\n",
       " 374,\n",
       " 376,\n",
       " 377,\n",
       " 378,\n",
       " 379,\n",
       " 381,\n",
       " 382,\n",
       " 383,\n",
       " 384,\n",
       " 386,\n",
       " 387,\n",
       " 388,\n",
       " 389,\n",
       " 391,\n",
       " 392,\n",
       " 393,\n",
       " 394,\n",
       " 396,\n",
       " 397,\n",
       " 398,\n",
       " 399,\n",
       " 401,\n",
       " 402,\n",
       " 403,\n",
       " 404,\n",
       " 406,\n",
       " 407,\n",
       " 408,\n",
       " 409,\n",
       " 410,\n",
       " 411,\n",
       " 412,\n",
       " 413,\n",
       " 414,\n",
       " 416,\n",
       " 417,\n",
       " 418,\n",
       " 419,\n",
       " 421,\n",
       " 422,\n",
       " 423,\n",
       " 424,\n",
       " 426,\n",
       " 427,\n",
       " 428,\n",
       " 429,\n",
       " 431,\n",
       " 432,\n",
       " 433,\n",
       " 434,\n",
       " 436,\n",
       " 437,\n",
       " 438,\n",
       " 439,\n",
       " 441,\n",
       " 442,\n",
       " 443,\n",
       " 444,\n",
       " 446,\n",
       " 447,\n",
       " 448,\n",
       " 449,\n",
       " 451,\n",
       " 452,\n",
       " 453,\n",
       " 454,\n",
       " 456,\n",
       " 457,\n",
       " 458,\n",
       " 459,\n",
       " 461,\n",
       " 462,\n",
       " 463,\n",
       " 464,\n",
       " 466,\n",
       " 467,\n",
       " 468,\n",
       " 469,\n",
       " 471,\n",
       " 472,\n",
       " 473,\n",
       " 474,\n",
       " 475,\n",
       " 476,\n",
       " 477,\n",
       " 478,\n",
       " 479,\n",
       " 481,\n",
       " 482,\n",
       " 483,\n",
       " 484,\n",
       " 486,\n",
       " 487,\n",
       " 488,\n",
       " 489,\n",
       " 491,\n",
       " 492,\n",
       " 493,\n",
       " 494,\n",
       " 496,\n",
       " 497,\n",
       " 498,\n",
       " 499}"
      ]
     },
     "execution_count": 18,
     "metadata": {},
     "output_type": "execute_result"
    }
   ],
   "source": [
    "global_visited_states"
   ]
  },
  {
   "cell_type": "code",
   "execution_count": 19,
   "metadata": {},
   "outputs": [],
   "source": [
    "full_states = set([i for i in range(500)])"
   ]
  },
  {
   "cell_type": "code",
   "execution_count": 20,
   "metadata": {
    "scrolled": true
   },
   "outputs": [
    {
     "data": {
      "text/plain": [
       "{5,\n",
       " 10,\n",
       " 15,\n",
       " 20,\n",
       " 25,\n",
       " 30,\n",
       " 35,\n",
       " 40,\n",
       " 45,\n",
       " 50,\n",
       " 55,\n",
       " 60,\n",
       " 65,\n",
       " 70,\n",
       " 75,\n",
       " 80,\n",
       " 90,\n",
       " 95,\n",
       " 100,\n",
       " 105,\n",
       " 110,\n",
       " 115,\n",
       " 120,\n",
       " 125,\n",
       " 130,\n",
       " 135,\n",
       " 140,\n",
       " 145,\n",
       " 150,\n",
       " 155,\n",
       " 160,\n",
       " 165,\n",
       " 170,\n",
       " 175,\n",
       " 180,\n",
       " 185,\n",
       " 190,\n",
       " 195,\n",
       " 200,\n",
       " 205,\n",
       " 210,\n",
       " 215,\n",
       " 220,\n",
       " 225,\n",
       " 230,\n",
       " 235,\n",
       " 240,\n",
       " 245,\n",
       " 250,\n",
       " 255,\n",
       " 260,\n",
       " 265,\n",
       " 270,\n",
       " 275,\n",
       " 280,\n",
       " 285,\n",
       " 290,\n",
       " 295,\n",
       " 300,\n",
       " 305,\n",
       " 310,\n",
       " 315,\n",
       " 320,\n",
       " 325,\n",
       " 330,\n",
       " 335,\n",
       " 340,\n",
       " 345,\n",
       " 350,\n",
       " 355,\n",
       " 360,\n",
       " 365,\n",
       " 370,\n",
       " 375,\n",
       " 380,\n",
       " 385,\n",
       " 390,\n",
       " 395,\n",
       " 400,\n",
       " 405,\n",
       " 415,\n",
       " 420,\n",
       " 425,\n",
       " 430,\n",
       " 435,\n",
       " 440,\n",
       " 445,\n",
       " 450,\n",
       " 455,\n",
       " 460,\n",
       " 465,\n",
       " 470,\n",
       " 480,\n",
       " 485,\n",
       " 490,\n",
       " 495}"
      ]
     },
     "execution_count": 20,
     "metadata": {},
     "output_type": "execute_result"
    }
   ],
   "source": [
    "full_states.difference(global_visited_states)"
   ]
  },
  {
   "cell_type": "code",
   "execution_count": null,
   "metadata": {},
   "outputs": [],
   "source": []
  },
  {
   "cell_type": "code",
   "execution_count": 21,
   "metadata": {},
   "outputs": [
    {
     "data": {
      "text/plain": [
       "-11.374402515012999"
      ]
     },
     "execution_count": 21,
     "metadata": {},
     "output_type": "execute_result"
    }
   ],
   "source": [
    "Q[462][4]"
   ]
  },
  {
   "cell_type": "code",
   "execution_count": 22,
   "metadata": {},
   "outputs": [
    {
     "data": {
      "text/plain": [
       "4.3489069990460933"
      ]
     },
     "execution_count": 22,
     "metadata": {},
     "output_type": "execute_result"
    }
   ],
   "source": [
    "Q[398][3]"
   ]
  },
  {
   "cell_type": "code",
   "execution_count": 23,
   "metadata": {},
   "outputs": [
    {
     "data": {
      "text/plain": [
       "-0.5856821172999982"
      ]
     },
     "execution_count": 23,
     "metadata": {},
     "output_type": "execute_result"
    }
   ],
   "source": [
    "Q[253][0]"
   ]
  },
  {
   "cell_type": "code",
   "execution_count": 24,
   "metadata": {},
   "outputs": [
    {
     "data": {
      "text/plain": [
       "9.6830000000000016"
      ]
     },
     "execution_count": 24,
     "metadata": {},
     "output_type": "execute_result"
    }
   ],
   "source": [
    "Q[377][1]"
   ]
  },
  {
   "cell_type": "code",
   "execution_count": 25,
   "metadata": {},
   "outputs": [
    {
     "data": {
      "text/plain": [
       "-12.823266037160529"
      ]
     },
     "execution_count": 25,
     "metadata": {},
     "output_type": "execute_result"
    }
   ],
   "source": [
    "Q[83,5]"
   ]
  },
  {
   "cell_type": "markdown",
   "metadata": {},
   "source": [
    "<img src=\"hw4_submission.png\">"
   ]
  },
  {
   "cell_type": "code",
   "execution_count": 26,
   "metadata": {},
   "outputs": [
    {
     "data": {
      "text/plain": [
       "0.68300000000000161"
      ]
     },
     "execution_count": 26,
     "metadata": {},
     "output_type": "execute_result"
    }
   ],
   "source": [
    "Q[299][5]"
   ]
  },
  {
   "cell_type": "code",
   "execution_count": 27,
   "metadata": {},
   "outputs": [
    {
     "data": {
      "text/plain": [
       "-11.374402515012999"
      ]
     },
     "execution_count": 27,
     "metadata": {},
     "output_type": "execute_result"
    }
   ],
   "source": [
    "Q[388][4]"
   ]
  },
  {
   "cell_type": "code",
   "execution_count": 28,
   "metadata": {},
   "outputs": [
    {
     "data": {
      "text/plain": [
       "-0.5856821172999982"
      ]
     },
     "execution_count": 28,
     "metadata": {},
     "output_type": "execute_result"
    }
   ],
   "source": [
    "Q[309][3]"
   ]
  },
  {
   "cell_type": "code",
   "execution_count": 29,
   "metadata": {},
   "outputs": [
    {
     "data": {
      "text/plain": [
       "-0.5856821172999982"
      ]
     },
     "execution_count": 29,
     "metadata": {},
     "output_type": "execute_result"
    }
   ],
   "source": [
    "Q[309][2]"
   ]
  },
  {
   "cell_type": "code",
   "execution_count": 30,
   "metadata": {},
   "outputs": [
    {
     "data": {
      "text/plain": [
       "-10.527113905569998"
      ]
     },
     "execution_count": 30,
     "metadata": {},
     "output_type": "execute_result"
    }
   ],
   "source": [
    "Q[209][5]"
   ]
  },
  {
   "cell_type": "code",
   "execution_count": 31,
   "metadata": {},
   "outputs": [
    {
     "data": {
      "text/plain": [
       "-10.527113905569998"
      ]
     },
     "execution_count": 31,
     "metadata": {},
     "output_type": "execute_result"
    }
   ],
   "source": [
    "Q[168][4]"
   ]
  },
  {
   "cell_type": "code",
   "execution_count": 32,
   "metadata": {},
   "outputs": [
    {
     "data": {
      "text/plain": [
       "9.6830000000000016"
      ]
     },
     "execution_count": 32,
     "metadata": {},
     "output_type": "execute_result"
    }
   ],
   "source": [
    "Q[138][0]"
   ]
  },
  {
   "cell_type": "code",
   "execution_count": 33,
   "metadata": {},
   "outputs": [
    {
     "data": {
      "text/plain": [
       "-1.5271139055699985"
      ]
     },
     "execution_count": 33,
     "metadata": {},
     "output_type": "execute_result"
    }
   ],
   "source": [
    "Q[422][2]"
   ]
  },
  {
   "cell_type": "code",
   "execution_count": 34,
   "metadata": {},
   "outputs": [
    {
     "data": {
      "text/plain": [
       "-3.1369622635116987"
      ]
     },
     "execution_count": 34,
     "metadata": {},
     "output_type": "execute_result"
    }
   ],
   "source": [
    "Q[146][3]"
   ]
  },
  {
   "cell_type": "code",
   "execution_count": 35,
   "metadata": {},
   "outputs": [
    {
     "data": {
      "text/plain": [
       "0.46035320300000193"
      ]
     },
     "execution_count": 35,
     "metadata": {},
     "output_type": "execute_result"
    }
   ],
   "source": [
    "Q[492][0]"
   ]
  },
  {
   "cell_type": "code",
   "execution_count": null,
   "metadata": {
    "collapsed": true
   },
   "outputs": [],
   "source": []
  }
 ],
 "metadata": {
  "kernelspec": {
   "display_name": "Python 3",
   "language": "python",
   "name": "python3"
  },
  "language_info": {
   "codemirror_mode": {
    "name": "ipython",
    "version": 3
   },
   "file_extension": ".py",
   "mimetype": "text/x-python",
   "name": "python",
   "nbconvert_exporter": "python",
   "pygments_lexer": "ipython3",
   "version": "3.6.3"
  }
 },
 "nbformat": 4,
 "nbformat_minor": 2
}
