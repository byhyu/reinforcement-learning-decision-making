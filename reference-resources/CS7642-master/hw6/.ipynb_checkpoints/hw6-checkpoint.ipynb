{
 "cells": [
  {
   "cell_type": "code",
   "execution_count": 1,
   "metadata": {
    "collapsed": true
   },
   "outputs": [],
   "source": [
    "import numpy as np\n",
    "from cvxopt import matrix, solvers\n",
    "#solvers.options['glpk'] = {'tm_lim': 1000} # max timeout for glpk"
   ]
  },
  {
   "cell_type": "code",
   "execution_count": 2,
   "metadata": {
    "collapsed": true
   },
   "outputs": [],
   "source": [
    "# Example Using cvxopt"
   ]
  },
  {
   "cell_type": "markdown",
   "metadata": {},
   "source": [
    "<img src=\"cvxopt_example.png\">"
   ]
  },
  {
   "cell_type": "code",
   "execution_count": 3,
   "metadata": {
    "collapsed": true
   },
   "outputs": [],
   "source": [
    "A = matrix([ [-1.0, -1.0, 0.0, 1.0], [1.0, -1.0, -1.0, -2.0] ])\n",
    "b = matrix([ 1.0, -2.0, 0.0, 4.0 ])\n",
    "c = matrix([ 2.0, 1.0 ])"
   ]
  },
  {
   "cell_type": "code",
   "execution_count": 4,
   "metadata": {},
   "outputs": [
    {
     "name": "stdout",
     "output_type": "stream",
     "text": [
      "     pcost       dcost       gap    pres   dres   k/t\n",
      " 0:  2.6471e+00 -7.0588e-01  2e+01  8e-01  2e+00  1e+00\n",
      " 1:  3.0726e+00  2.8437e+00  1e+00  1e-01  2e-01  3e-01\n",
      " 2:  2.4891e+00  2.4808e+00  1e-01  1e-02  2e-02  5e-02\n",
      " 3:  2.4999e+00  2.4998e+00  1e-03  1e-04  2e-04  5e-04\n",
      " 4:  2.5000e+00  2.5000e+00  1e-05  1e-06  2e-06  5e-06\n",
      " 5:  2.5000e+00  2.5000e+00  1e-07  1e-08  2e-08  5e-08\n",
      "Optimal solution found.\n"
     ]
    }
   ],
   "source": [
    "sol=solvers.lp(c,A,b)"
   ]
  },
  {
   "cell_type": "code",
   "execution_count": 5,
   "metadata": {},
   "outputs": [
    {
     "name": "stdout",
     "output_type": "stream",
     "text": [
      "[ 5.00e-01]\n",
      "[ 1.50e+00]\n",
      "\n"
     ]
    }
   ],
   "source": [
    "print(sol['x'])"
   ]
  },
  {
   "cell_type": "code",
   "execution_count": 6,
   "metadata": {
    "collapsed": true
   },
   "outputs": [],
   "source": [
    "# hw6, maxmin algo"
   ]
  },
  {
   "cell_type": "code",
   "execution_count": 7,
   "metadata": {
    "collapsed": true
   },
   "outputs": [],
   "source": [
    "def maxmin(A):\n",
    "    num_vars = len(A)\n",
    "    \n",
    "    # minimize matrix c\n",
    "    c = [-1] + [0 for i in range(num_vars)]\n",
    "    c = np.array(c, dtype=\"float\")\n",
    "    c = matrix(c)\n",
    "    \n",
    "    # constraints G*x <= h\n",
    "    G = np.matrix(A, dtype=\"float\").T # reformat each variable is in a row\n",
    "    # G before inverse sign to get the standard form\n",
    "    print(\"G matrix:\", G)\n",
    "    G *= -1 # minimization constraint\n",
    "    G = np.vstack([G, np.eye(num_vars) * -1]) # > 0 constraint for all vars\n",
    "    new_col = [1 for i in range(num_vars)] + [0 for i in range(num_vars)]\n",
    "    G = np.insert(G, 0, new_col, axis=1) # insert utility column for simplex tableau\n",
    "    \n",
    "    G = matrix(G)\n",
    "    h = ([0 for i in range(num_vars)] + \n",
    "         [0 for i in range(num_vars)])\n",
    "    h = np.array(h, dtype=\"float\")\n",
    "    h = matrix(h)\n",
    "    \n",
    "    # contraints Ax = b, sum of pi_rock, pi_paper, pi_scissors equal 1\n",
    "    A = [0] + [1 for i in range(num_vars)]\n",
    "    A = np.matrix(A, dtype=\"float\")\n",
    "    A = matrix(A)\n",
    "    b = np.matrix(1, dtype=\"float\")\n",
    "    b = matrix(b)\n",
    "    print(\"c matrix:\", c)\n",
    "    print(\"G matrix:\", G)\n",
    "    print(\"h matrix:\", h)\n",
    "    print(\"A matrix:\", A)\n",
    "    print(\"b matrix:\", b)\n",
    "    \n",
    "    sol = solvers.lp(c=c, G=G, h=h, A=A, b=b)\n",
    "    return sol"
   ]
  },
  {
   "cell_type": "code",
   "execution_count": 8,
   "metadata": {
    "collapsed": true
   },
   "outputs": [],
   "source": [
    "# A = [[0,1,-1], [-1,0,1],[1,-1,0]]\n",
    "A = [[0, 2, -1], [-2, 0, 1] ,[1, -1, 0]]\n",
    "# A = [[0.0, 1.0, -4.55], [-1.0, 0.0, 1.72], [4.55, -1.72, 0.0]]\n",
    "# A = [[0.0, 1.0, -1.0], [-1.0, 0.0, 0.35], [1.0, -0.35, 0.0]]\n",
    "# A = [[0.0, 4.82, -4.88], [-4.82, 0.0, 1.0], [4.88, -1.0, 0.0]]\n",
    "# A = [[0.0, 4.0, -1.0], [-4.0, 0.0, 1.0], [1.0, -1.0, 0.0]]\n",
    "# A = [[0.0, 1.0, -2.83], [-1.0, 0.0, 1.17], [2.83, -1.17, 0.0]]\n",
    "# A = [[0.0, 3.05, -1.0], [-3.05, 0.0, 1.31], [1.0, -1.31, 0.0]]\n",
    "# A = [[0.0, 1.0, -0.92], [-1.0, 0.0, 2.39], [0.92, -2.39, 0.0]]\n",
    "# A = [[0.0, 0.11, -0.8], [-0.11, 0.0, 1.0], [0.8, -1.0, 0.0]]\n",
    "# A = [[0.0, 1.0, -1.31], [-1.0, 0.0, 3.88], [1.31, -3.88, 0.0]]\n",
    "# A = [[0.0, 0.7, -1.0], [-0.7, 0.0, 2.36], [1.0, -2.36, 0.0]]"
   ]
  },
  {
   "cell_type": "code",
   "execution_count": 9,
   "metadata": {},
   "outputs": [
    {
     "data": {
      "text/plain": [
       "matrix([[ 0.,  2., -1.],\n",
       "        [-2.,  0.,  1.],\n",
       "        [ 1., -1.,  0.]])"
      ]
     },
     "execution_count": 9,
     "metadata": {},
     "output_type": "execute_result"
    }
   ],
   "source": [
    "G = np.matrix(A, dtype=\"float\")\n",
    "G"
   ]
  },
  {
   "cell_type": "code",
   "execution_count": 10,
   "metadata": {},
   "outputs": [
    {
     "data": {
      "text/plain": [
       "matrix([[ 0., -2.,  1.],\n",
       "        [ 2.,  0., -1.],\n",
       "        [-1.,  1.,  0.]])"
      ]
     },
     "execution_count": 10,
     "metadata": {},
     "output_type": "execute_result"
    }
   ],
   "source": [
    "G = np.matrix(A, dtype=\"float\").T\n",
    "G"
   ]
  },
  {
   "cell_type": "code",
   "execution_count": 12,
   "metadata": {},
   "outputs": [
    {
     "data": {
      "text/plain": [
       "[1, 1, 1, 0, 0, 0]"
      ]
     },
     "execution_count": 12,
     "metadata": {},
     "output_type": "execute_result"
    }
   ],
   "source": [
    "num_vars = len(A)\n",
    "new_col = [1 for i in range(num_vars)] + [0 for i in range(num_vars)]\n",
    "new_col"
   ]
  },
  {
   "cell_type": "code",
   "execution_count": 14,
   "metadata": {},
   "outputs": [
    {
     "name": "stdout",
     "output_type": "stream",
     "text": [
      "[ 0.00e+00 -2.00e+00  1.00e+00]\n",
      "[ 2.00e+00  0.00e+00 -1.00e+00]\n",
      "[-1.00e+00  1.00e+00  0.00e+00]\n",
      "\n"
     ]
    }
   ],
   "source": [
    "print(matrix(G))"
   ]
  },
  {
   "cell_type": "code",
   "execution_count": 15,
   "metadata": {},
   "outputs": [
    {
     "name": "stdout",
     "output_type": "stream",
     "text": [
      "G matrix: [[ 0. -2.  1.]\n",
      " [ 2.  0. -1.]\n",
      " [-1.  1.  0.]]\n",
      "c matrix: [-1.00e+00]\n",
      "[ 0.00e+00]\n",
      "[ 0.00e+00]\n",
      "[ 0.00e+00]\n",
      "\n",
      "G matrix: [ 1.00e+00  0.00e+00  2.00e+00 -1.00e+00]\n",
      "[ 1.00e+00 -2.00e+00  0.00e+00  1.00e+00]\n",
      "[ 1.00e+00  1.00e+00 -1.00e+00  0.00e+00]\n",
      "[ 0.00e+00 -1.00e+00 -0.00e+00 -0.00e+00]\n",
      "[ 0.00e+00 -0.00e+00 -1.00e+00 -0.00e+00]\n",
      "[ 0.00e+00 -0.00e+00 -0.00e+00 -1.00e+00]\n",
      "\n",
      "h matrix: [ 0.00e+00]\n",
      "[ 0.00e+00]\n",
      "[ 0.00e+00]\n",
      "[ 0.00e+00]\n",
      "[ 0.00e+00]\n",
      "[ 0.00e+00]\n",
      "\n",
      "A matrix: [ 0.00e+00  1.00e+00  1.00e+00  1.00e+00]\n",
      "\n",
      "b matrix: [ 1.00e+00]\n",
      "\n",
      "     pcost       dcost       gap    pres   dres   k/t\n",
      " 0: -3.0502e-17 -2.5564e-17  9e+00  3e+00  4e+00  1e+00\n",
      " 1: -2.9938e-02  2.9938e-02  2e-01  2e-01  4e-01  2e-01\n",
      " 2: -2.2221e-04  2.2221e-04  4e-03  6e-03  9e-03  3e-03\n",
      " 3: -2.2333e-06  2.2333e-06  4e-05  6e-05  9e-05  3e-05\n",
      " 4: -2.2331e-08  2.2331e-08  4e-07  6e-07  9e-07  3e-07\n",
      " 5: -2.2331e-10  2.2331e-10  4e-09  6e-09  9e-09  3e-09\n",
      "Optimal solution found.\n",
      "[ 2.23e-10]\n",
      "[ 2.50e-01]\n",
      "[ 2.50e-01]\n",
      "[ 5.00e-01]\n",
      "\n"
     ]
    }
   ],
   "source": [
    "# get solution using maxmin algo\n",
    "sol = maxmin(A=A)\n",
    "probs = sol[\"x\"]\n",
    "print(probs)"
   ]
  },
  {
   "cell_type": "code",
   "execution_count": 16,
   "metadata": {},
   "outputs": [
    {
     "data": {
      "text/plain": [
       "[0.25000000030253877, 0.2499999983752276, 0.5000000013222334]"
      ]
     },
     "execution_count": 16,
     "metadata": {},
     "output_type": "execute_result"
    }
   ],
   "source": [
    "# get solution using maxmin algo\n",
    "list(probs)[1:]"
   ]
  },
  {
   "cell_type": "code",
   "execution_count": null,
   "metadata": {
    "collapsed": true
   },
   "outputs": [],
   "source": []
  }
 ],
 "metadata": {
  "kernelspec": {
   "display_name": "Python 3",
   "language": "python",
   "name": "python3"
  },
  "language_info": {
   "codemirror_mode": {
    "name": "ipython",
    "version": 3
   },
   "file_extension": ".py",
   "mimetype": "text/x-python",
   "name": "python",
   "nbconvert_exporter": "python",
   "pygments_lexer": "ipython3",
   "version": "3.6.3"
  }
 },
 "nbformat": 4,
 "nbformat_minor": 2
}
