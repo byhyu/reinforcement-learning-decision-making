{
 "cells": [
  {
   "cell_type": "code",
   "execution_count": 1,
   "metadata": {
    "collapsed": true
   },
   "outputs": [],
   "source": [
    "import json"
   ]
  },
  {
   "cell_type": "code",
   "execution_count": 2,
   "metadata": {
    "collapsed": true
   },
   "outputs": [],
   "source": [
    "# examine structure of sample mdp in json format\n",
    "with open(\"sample.json\", \"r\") as read_file:\n",
    "    data = json.load(read_file)"
   ]
  },
  {
   "cell_type": "code",
   "execution_count": 3,
   "metadata": {},
   "outputs": [
    {
     "data": {
      "text/plain": [
       "{'gamma': 0.75,\n",
       " 'states': [{'actions': [{'id': 0,\n",
       "     'transitions': [{'id': 0, 'probability': 0.5, 'reward': 1, 'to': 2},\n",
       "      {'id': 1, 'probability': 0.5, 'reward': 0, 'to': 1}]},\n",
       "    {'id': 1,\n",
       "     'transitions': [{'id': 0, 'probability': 1.0, 'reward': 1, 'to': 0}]}],\n",
       "   'id': 0},\n",
       "  {'actions': [{'id': 0,\n",
       "     'transitions': [{'id': 0, 'probability': 1, 'reward': 0, 'to': 1}]},\n",
       "    {'id': 1,\n",
       "     'transitions': [{'id': 0, 'probability': 1, 'reward': 0, 'to': 1}]}],\n",
       "   'id': 1},\n",
       "  {'actions': [{'id': 0,\n",
       "     'transitions': [{'id': 0, 'probability': 0.9, 'reward': 0, 'to': 0},\n",
       "      {'id': 1, 'probability': 0.1, 'reward': 0, 'to': 2}]},\n",
       "    {'id': 1,\n",
       "     'transitions': [{'id': 0, 'probability': 1, 'reward': 0, 'to': 1}]}],\n",
       "   'id': 2}]}"
      ]
     },
     "execution_count": 3,
     "metadata": {},
     "output_type": "execute_result"
    }
   ],
   "source": [
    "data"
   ]
  },
  {
   "cell_type": "code",
   "execution_count": 4,
   "metadata": {},
   "outputs": [
    {
     "data": {
      "text/plain": [
       "dict_keys(['id', 'actions'])"
      ]
     },
     "execution_count": 4,
     "metadata": {},
     "output_type": "execute_result"
    }
   ],
   "source": [
    "data['states'][0].keys()"
   ]
  },
  {
   "cell_type": "code",
   "execution_count": 5,
   "metadata": {},
   "outputs": [
    {
     "data": {
      "text/plain": [
       "dict"
      ]
     },
     "execution_count": 5,
     "metadata": {},
     "output_type": "execute_result"
    }
   ],
   "source": [
    "type(data['states'][0])"
   ]
  },
  {
   "cell_type": "code",
   "execution_count": 6,
   "metadata": {},
   "outputs": [
    {
     "data": {
      "text/plain": [
       "{'actions': [{'id': 0,\n",
       "   'transitions': [{'id': 0, 'probability': 0.5, 'reward': 1, 'to': 2},\n",
       "    {'id': 1, 'probability': 0.5, 'reward': 0, 'to': 1}]},\n",
       "  {'id': 1,\n",
       "   'transitions': [{'id': 0, 'probability': 1.0, 'reward': 1, 'to': 0}]}],\n",
       " 'id': 0}"
      ]
     },
     "execution_count": 6,
     "metadata": {},
     "output_type": "execute_result"
    }
   ],
   "source": [
    "data['states'][0]"
   ]
  },
  {
   "cell_type": "code",
   "execution_count": 7,
   "metadata": {},
   "outputs": [
    {
     "data": {
      "text/plain": [
       "list"
      ]
     },
     "execution_count": 7,
     "metadata": {},
     "output_type": "execute_result"
    }
   ],
   "source": [
    "type(data['states'][0]['actions'])"
   ]
  },
  {
   "cell_type": "code",
   "execution_count": 8,
   "metadata": {
    "scrolled": true
   },
   "outputs": [
    {
     "data": {
      "text/plain": [
       "[{'id': 0,\n",
       "  'transitions': [{'id': 0, 'probability': 0.5, 'reward': 1, 'to': 2},\n",
       "   {'id': 1, 'probability': 0.5, 'reward': 0, 'to': 1}]},\n",
       " {'id': 1,\n",
       "  'transitions': [{'id': 0, 'probability': 1.0, 'reward': 1, 'to': 0}]}]"
      ]
     },
     "execution_count": 8,
     "metadata": {},
     "output_type": "execute_result"
    }
   ],
   "source": [
    "# exactly two actions per state\n",
    "data['states'][0]['actions']"
   ]
  },
  {
   "cell_type": "code",
   "execution_count": 9,
   "metadata": {},
   "outputs": [
    {
     "data": {
      "text/plain": [
       "dict"
      ]
     },
     "execution_count": 9,
     "metadata": {},
     "output_type": "execute_result"
    }
   ],
   "source": [
    "type(data['states'][0]['actions'][0])"
   ]
  },
  {
   "cell_type": "code",
   "execution_count": 10,
   "metadata": {
    "scrolled": true
   },
   "outputs": [
    {
     "data": {
      "text/plain": [
       "{'id': 0,\n",
       " 'transitions': [{'id': 0, 'probability': 0.5, 'reward': 1, 'to': 2},\n",
       "  {'id': 1, 'probability': 0.5, 'reward': 0, 'to': 1}]}"
      ]
     },
     "execution_count": 10,
     "metadata": {},
     "output_type": "execute_result"
    }
   ],
   "source": [
    "data['states'][0]['actions'][0]"
   ]
  },
  {
   "cell_type": "code",
   "execution_count": 11,
   "metadata": {},
   "outputs": [
    {
     "data": {
      "text/plain": [
       "0"
      ]
     },
     "execution_count": 11,
     "metadata": {},
     "output_type": "execute_result"
    }
   ],
   "source": [
    "data['states'][0]['actions'][0]['id']"
   ]
  },
  {
   "cell_type": "code",
   "execution_count": 12,
   "metadata": {},
   "outputs": [
    {
     "data": {
      "text/plain": [
       "[{'id': 0, 'probability': 0.5, 'reward': 1, 'to': 2},\n",
       " {'id': 1, 'probability': 0.5, 'reward': 0, 'to': 1}]"
      ]
     },
     "execution_count": 12,
     "metadata": {},
     "output_type": "execute_result"
    }
   ],
   "source": [
    "data['states'][0]['actions'][0]['transitions']"
   ]
  },
  {
   "cell_type": "code",
   "execution_count": 13,
   "metadata": {},
   "outputs": [
    {
     "data": {
      "text/plain": [
       "{'id': 0, 'probability': 0.5, 'reward': 1, 'to': 2}"
      ]
     },
     "execution_count": 13,
     "metadata": {},
     "output_type": "execute_result"
    }
   ],
   "source": [
    "data['states'][0]['actions'][0]['transitions'][0]"
   ]
  },
  {
   "cell_type": "code",
   "execution_count": 14,
   "metadata": {},
   "outputs": [
    {
     "data": {
      "text/plain": [
       "0.5"
      ]
     },
     "execution_count": 14,
     "metadata": {},
     "output_type": "execute_result"
    }
   ],
   "source": [
    "data['states'][0]['actions'][0]['transitions'][0]['probability']"
   ]
  },
  {
   "cell_type": "code",
   "execution_count": 15,
   "metadata": {
    "collapsed": true
   },
   "outputs": [],
   "source": [
    "# smaller example of using figure 2.3 in \n",
    "# \"On the Complexity of Solving Markov Decision Problems\" paper\n",
    "\n",
    "# iterate no.of states\n",
    "dataset = dict()\n",
    "dataset['gamma'] = 0.75\n",
    "dataset['states'] = []\n",
    "for i in range(1,7):\n",
    "    states_i = dict()\n",
    "    states_i['id'] = i\n",
    "    states_i['actions'] = []\n",
    "    # iterate two possible actions, each action correspond to deterministic transition\n",
    "    for j in range(2):\n",
    "        actions_i_j = dict()\n",
    "        actions_i_j['id'] = j\n",
    "        actions_i_j['transitions'] = []\n",
    "        if (i%2 == 1 or i == 0):\n",
    "            transitions_i_j = dict()\n",
    "            transitions_i_j['id'] = 0\n",
    "            transitions_i_j['probability'] = 1\n",
    "            transitions_i_j['reward'] = 0\n",
    "            transitions_i_j['to'] = i+j+2\n",
    "            actions_i_j['transitions'].append(transitions_i_j)\n",
    "        else:\n",
    "            # iterate two possible transitions\n",
    "            for  k in range(2):\n",
    "                transitions_i_j_k = dict()\n",
    "                transitions_i_j_k['id'] = 0\n",
    "                transitions_i_j_k['probability'] = 0.5\n",
    "                transitions_i_j_k['reward'] = 0\n",
    "                transitions_i_j_k['to'] = i+k+1\n",
    "                actions_i_j['transitions'].append(transitions_i_j_k)\n",
    "        states_i['actions'].append(actions_i_j)\n",
    "    dataset['states'].append(states_i)  "
   ]
  },
  {
   "cell_type": "code",
   "execution_count": 16,
   "metadata": {
    "collapsed": true
   },
   "outputs": [],
   "source": [
    "# for state 0\n",
    "dataset['states'].append(\n",
    "    {'actions': [{'id': 0,\n",
    "         'transitions': [{'id': 0, 'probability': 1, 'reward': 0, 'to': 1}]},\n",
    "        {'id': 1,\n",
    "         'transitions': [{'id': 0, 'probability': 1, 'reward': 0, 'to': 2}]}],\n",
    "       'id': 0}\n",
    ")"
   ]
  },
  {
   "cell_type": "code",
   "execution_count": 17,
   "metadata": {
    "collapsed": true
   },
   "outputs": [],
   "source": [
    "# for state 7\n",
    "dataset['states'].append(\n",
    "    {'actions': [{'id': 0,\n",
    "         'transitions': [{'id': 0, 'probability': 1, 'reward': 1, 'to': 5}]},\n",
    "        {'id': 1,\n",
    "         'transitions': [{'id': 0, 'probability': 1, 'reward': 1, 'to': 5}]}],\n",
    "       'id': 7}\n",
    ")"
   ]
  },
  {
   "cell_type": "code",
   "execution_count": 18,
   "metadata": {
    "collapsed": true
   },
   "outputs": [],
   "source": [
    "# for staet 8\n",
    "dataset['states'].append(\n",
    "    {'actions': [{'id': 0,\n",
    "         'transitions': [{'id': 0, 'probability': 1, 'reward': 1, 'to': 6}]},\n",
    "        {'id': 1,\n",
    "         'transitions': [{'id': 0, 'probability': 1, 'reward': 0, 'to': 9}]}],\n",
    "       'id': 8}\n",
    ")"
   ]
  },
  {
   "cell_type": "code",
   "execution_count": 19,
   "metadata": {
    "collapsed": true
   },
   "outputs": [],
   "source": [
    "# for terminal state 10\n",
    "dataset['states'].append(\n",
    "    {'actions': [{'id': 0,\n",
    "         'transitions': [{'id': 0, 'probability': 1, 'reward': 1, 'to': 9}]},\n",
    "        {'id': 1,\n",
    "         'transitions': [{'id': 0, 'probability': 1, 'reward': 1, 'to': 9}]}],\n",
    "       'id': 9}\n",
    ")"
   ]
  },
  {
   "cell_type": "code",
   "execution_count": 20,
   "metadata": {
    "collapsed": true
   },
   "outputs": [],
   "source": [
    "# save as json file\n",
    "with open(\"figure_2_3.json\", \"w\") as write_file:\n",
    "    json.dump(dataset, write_file)"
   ]
  },
  {
   "cell_type": "markdown",
   "metadata": {
    "collapsed": true
   },
   "source": [
    "Figure 2.3 Modification\n",
    "<img src=\"figure_2_3.png\">"
   ]
  },
  {
   "cell_type": "code",
   "execution_count": null,
   "metadata": {
    "collapsed": true
   },
   "outputs": [],
   "source": []
  },
  {
   "cell_type": "code",
   "execution_count": 21,
   "metadata": {
    "collapsed": true
   },
   "outputs": [],
   "source": [
    "# generate 15-16 iterations for PI\n",
    "# the trick is to create transitions with short benefit but lose the path the ultimate better path\n",
    "# create loop back to earlier states but with reward, e.g. 26-->28 and 27-->25\n",
    "\n",
    "# iterate no.of states\n",
    "dataset = dict()\n",
    "dataset['gamma'] = 0.75\n",
    "dataset['states'] = []\n",
    "for i in range(1,27):\n",
    "    states_i = dict()\n",
    "    states_i['id'] = i\n",
    "    states_i['actions'] = []\n",
    "    # iterate two possible actions, each action correspond to deterministic transition\n",
    "    for j in range(2):\n",
    "        actions_i_j = dict()\n",
    "        actions_i_j['id'] = j\n",
    "        actions_i_j['transitions'] = []\n",
    "        if (i%2 == 1 or i == 0):\n",
    "            transitions_i_j = dict()\n",
    "            transitions_i_j['id'] = 0\n",
    "            transitions_i_j['probability'] = 1\n",
    "            transitions_i_j['reward'] = 0\n",
    "            transitions_i_j['to'] = i+j+2\n",
    "            actions_i_j['transitions'].append(transitions_i_j)\n",
    "        else:\n",
    "            # iterate two possible transitions\n",
    "            for  k in range(2):\n",
    "                transitions_i_j_k = dict()\n",
    "                transitions_i_j_k['id'] = 0\n",
    "                transitions_i_j_k['probability'] = 0.5\n",
    "                transitions_i_j_k['reward'] = 0\n",
    "                transitions_i_j_k['to'] = i+k+1\n",
    "                actions_i_j['transitions'].append(transitions_i_j_k)\n",
    "        states_i['actions'].append(actions_i_j)\n",
    "    dataset['states'].append(states_i)   "
   ]
  },
  {
   "cell_type": "code",
   "execution_count": 22,
   "metadata": {
    "collapsed": true
   },
   "outputs": [],
   "source": [
    "# for state 0\n",
    "dataset['states'].append(\n",
    "    {'actions': [{'id': 0,\n",
    "         'transitions': [{'id': 0, 'probability': 1, 'reward': 0, 'to': 1}]},\n",
    "        {'id': 1,\n",
    "         'transitions': [{'id': 0, 'probability': 1, 'reward': 0, 'to': 2}]}],\n",
    "       'id': 0}\n",
    ")"
   ]
  },
  {
   "cell_type": "code",
   "execution_count": 23,
   "metadata": {
    "collapsed": true
   },
   "outputs": [],
   "source": [
    "# for state 27, loop back to state 25\n",
    "dataset['states'].append(\n",
    "    {'actions': [{'id': 0,\n",
    "         'transitions': [{'id': 0, 'probability': 1, 'reward': 1, 'to': 25}]},\n",
    "        {'id': 1,\n",
    "         'transitions': [{'id': 0, 'probability': 1, 'reward': 1, 'to': 25}]}],\n",
    "       'id': 27}\n",
    ")"
   ]
  },
  {
   "cell_type": "code",
   "execution_count": 24,
   "metadata": {
    "collapsed": true
   },
   "outputs": [],
   "source": [
    "# for state 28, construct path with reward back to state 26\n",
    "dataset['states'].append(\n",
    "    {'actions': [{'id': 0,\n",
    "         'transitions': [{'id': 0, 'probability': 1, 'reward': 1, 'to': 26}]},\n",
    "        {'id': 1,\n",
    "         'transitions': [{'id': 0, 'probability': 1, 'reward': 0, 'to': 29}]}],\n",
    "       'id': 28}\n",
    ")"
   ]
  },
  {
   "cell_type": "code",
   "execution_count": 25,
   "metadata": {
    "collapsed": true
   },
   "outputs": [],
   "source": [
    "# terminal state 29 with the reward\n",
    "dataset['states'].append(\n",
    "    {'actions': [{'id': 0,\n",
    "         'transitions': [{'id': 0, 'probability': 1, 'reward': 1, 'to': 29}]},\n",
    "        {'id': 1,\n",
    "         'transitions': [{'id': 0, 'probability': 1, 'reward': 1, 'to': 29}]}],\n",
    "       'id': 29}\n",
    ")"
   ]
  },
  {
   "cell_type": "code",
   "execution_count": 26,
   "metadata": {
    "collapsed": true
   },
   "outputs": [],
   "source": [
    "with open(\"test.json\", \"w\") as write_file:\n",
    "    json.dump(dataset, write_file)"
   ]
  },
  {
   "cell_type": "markdown",
   "metadata": {},
   "source": [
    "Graph HW3\n",
    "<img src=\"submitted.png\">"
   ]
  },
  {
   "cell_type": "code",
   "execution_count": null,
   "metadata": {
    "collapsed": true
   },
   "outputs": [],
   "source": []
  }
 ],
 "metadata": {
  "kernelspec": {
   "display_name": "Python 3",
   "language": "python",
   "name": "python3"
  },
  "language_info": {
   "codemirror_mode": {
    "name": "ipython",
    "version": 3
   },
   "file_extension": ".py",
   "mimetype": "text/x-python",
   "name": "python",
   "nbconvert_exporter": "python",
   "pygments_lexer": "ipython3",
   "version": "3.6.3"
  }
 },
 "nbformat": 4,
 "nbformat_minor": 2
}
